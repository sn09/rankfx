{
 "cells": [
  {
   "cell_type": "code",
   "execution_count": 1,
   "metadata": {
    "colab": {
     "base_uri": "https://localhost:8080/"
    },
    "execution": {
     "iopub.execute_input": "2025-05-03T22:17:27.980130Z",
     "iopub.status.busy": "2025-05-03T22:17:27.979611Z",
     "iopub.status.idle": "2025-05-03T22:17:29.185911Z",
     "shell.execute_reply": "2025-05-03T22:17:29.185055Z",
     "shell.execute_reply.started": "2025-05-03T22:17:27.980103Z"
    },
    "id": "4GFotY8XHxH6",
    "outputId": "b0cf72c3-8808-457e-f5eb-81019a41c718",
    "trusted": true
   },
   "outputs": [
    {
     "name": "stdout",
     "output_type": "stream",
     "text": [
      "Cloning into 'ranking'...\n",
      "remote: Enumerating objects: 342, done.\u001b[K\n",
      "remote: Counting objects: 100% (342/342), done.\u001b[K\n",
      "remote: Compressing objects: 100% (198/198), done.\u001b[K\n",
      "remote: Total 342 (delta 166), reused 286 (delta 119), pack-reused 0 (from 0)\u001b[K\n",
      "Receiving objects: 100% (342/342), 169.45 KiB | 3.20 MiB/s, done.\n",
      "Resolving deltas: 100% (166/166), done.\n"
     ]
    }
   ],
   "source": [
    "!git clone https://github.com/sn09/ranking.git"
   ]
  },
  {
   "cell_type": "code",
   "execution_count": null,
   "metadata": {
    "execution": {
     "iopub.execute_input": "2025-05-03T23:13:25.258183Z",
     "iopub.status.busy": "2025-05-03T23:13:25.257420Z",
     "iopub.status.idle": "2025-05-03T23:13:25.262730Z",
     "shell.execute_reply": "2025-05-03T23:13:25.262191Z",
     "shell.execute_reply.started": "2025-05-03T23:13:25.258151Z"
    },
    "id": "FvyBQ_aRH2eG",
    "trusted": true
   },
   "outputs": [],
   "source": [
    "import sys\n",
    "\n",
    "import lightgbm as lgb\n",
    "import numpy as np\n",
    "import pandas as pd\n",
    "from lightgbm import LGBMClassifier, LGBMRanker\n",
    "from sklearn.metrics import log_loss, roc_auc_score\n",
    "from torch import nn\n",
    "\n",
    "sys.path.append(\"./ranking/models/\")\n",
    "\n",
    "from rankfx.dcnv2.model import DCNv2\n",
    "from rankfx.finalnet.model import FinalNet"
   ]
  },
  {
   "cell_type": "code",
   "execution_count": 23,
   "metadata": {
    "colab": {
     "base_uri": "https://localhost:8080/",
     "height": 206
    },
    "execution": {
     "iopub.execute_input": "2025-05-03T23:13:31.582771Z",
     "iopub.status.busy": "2025-05-03T23:13:31.582204Z",
     "iopub.status.idle": "2025-05-03T23:13:32.101940Z",
     "shell.execute_reply": "2025-05-03T23:13:32.101162Z",
     "shell.execute_reply.started": "2025-05-03T23:13:31.582749Z"
    },
    "id": "4BOmHyauH6SH",
    "outputId": "1afdd9e9-1806-4bf0-e2bd-660f06e2bc3a",
    "trusted": true
   },
   "outputs": [
    {
     "data": {
      "text/html": [
       "<div>\n",
       "<style scoped>\n",
       "    .dataframe tbody tr th:only-of-type {\n",
       "        vertical-align: middle;\n",
       "    }\n",
       "\n",
       "    .dataframe tbody tr th {\n",
       "        vertical-align: top;\n",
       "    }\n",
       "\n",
       "    .dataframe thead th {\n",
       "        text-align: right;\n",
       "    }\n",
       "</style>\n",
       "<table border=\"1\" class=\"dataframe\">\n",
       "  <thead>\n",
       "    <tr style=\"text-align: right;\">\n",
       "      <th></th>\n",
       "      <th>label</th>\n",
       "      <th>user</th>\n",
       "      <th>item</th>\n",
       "      <th>daytime</th>\n",
       "      <th>weekday</th>\n",
       "      <th>isweekend</th>\n",
       "      <th>homework</th>\n",
       "      <th>cost</th>\n",
       "      <th>weather</th>\n",
       "      <th>country</th>\n",
       "      <th>city</th>\n",
       "    </tr>\n",
       "  </thead>\n",
       "  <tbody>\n",
       "    <tr>\n",
       "      <th>0</th>\n",
       "      <td>0</td>\n",
       "      <td>451</td>\n",
       "      <td>4149</td>\n",
       "      <td>5041</td>\n",
       "      <td>5046</td>\n",
       "      <td>5053</td>\n",
       "      <td>5055</td>\n",
       "      <td>5058</td>\n",
       "      <td>5060</td>\n",
       "      <td>5069</td>\n",
       "      <td>5149</td>\n",
       "    </tr>\n",
       "    <tr>\n",
       "      <th>1</th>\n",
       "      <td>0</td>\n",
       "      <td>91</td>\n",
       "      <td>3503</td>\n",
       "      <td>5041</td>\n",
       "      <td>5047</td>\n",
       "      <td>5053</td>\n",
       "      <td>5056</td>\n",
       "      <td>5058</td>\n",
       "      <td>5065</td>\n",
       "      <td>5095</td>\n",
       "      <td>5149</td>\n",
       "    </tr>\n",
       "    <tr>\n",
       "      <th>2</th>\n",
       "      <td>1</td>\n",
       "      <td>168</td>\n",
       "      <td>983</td>\n",
       "      <td>5040</td>\n",
       "      <td>5050</td>\n",
       "      <td>5054</td>\n",
       "      <td>5055</td>\n",
       "      <td>5058</td>\n",
       "      <td>5060</td>\n",
       "      <td>5069</td>\n",
       "      <td>5207</td>\n",
       "    </tr>\n",
       "    <tr>\n",
       "      <th>3</th>\n",
       "      <td>0</td>\n",
       "      <td>620</td>\n",
       "      <td>1743</td>\n",
       "      <td>5045</td>\n",
       "      <td>5051</td>\n",
       "      <td>5054</td>\n",
       "      <td>5055</td>\n",
       "      <td>5058</td>\n",
       "      <td>5061</td>\n",
       "      <td>5073</td>\n",
       "      <td>5149</td>\n",
       "    </tr>\n",
       "    <tr>\n",
       "      <th>4</th>\n",
       "      <td>0</td>\n",
       "      <td>46</td>\n",
       "      <td>2692</td>\n",
       "      <td>5040</td>\n",
       "      <td>5049</td>\n",
       "      <td>5054</td>\n",
       "      <td>5055</td>\n",
       "      <td>5058</td>\n",
       "      <td>5060</td>\n",
       "      <td>5086</td>\n",
       "      <td>5211</td>\n",
       "    </tr>\n",
       "  </tbody>\n",
       "</table>\n",
       "</div>"
      ],
      "text/plain": [
       "   label  user  item  daytime  weekday  isweekend  homework  cost  weather  \\\n",
       "0      0   451  4149     5041     5046       5053      5055  5058     5060   \n",
       "1      0    91  3503     5041     5047       5053      5056  5058     5065   \n",
       "2      1   168   983     5040     5050       5054      5055  5058     5060   \n",
       "3      0   620  1743     5045     5051       5054      5055  5058     5061   \n",
       "4      0    46  2692     5040     5049       5054      5055  5058     5060   \n",
       "\n",
       "   country  city  \n",
       "0     5069  5149  \n",
       "1     5095  5149  \n",
       "2     5069  5207  \n",
       "3     5073  5149  \n",
       "4     5086  5211  "
      ]
     },
     "execution_count": 23,
     "metadata": {},
     "output_type": "execute_result"
    }
   ],
   "source": [
    "base_path = \"/kaggle/input/frappe-x1\"\n",
    "\n",
    "df_train = pd.read_csv(f\"{base_path}/train.csv\")\n",
    "df_test = pd.read_csv(f\"{base_path}/test.csv\")\n",
    "df_val = pd.read_csv(f\"{base_path}/valid.csv\")\n",
    "\n",
    "df_train.head()"
   ]
  },
  {
   "cell_type": "code",
   "execution_count": 24,
   "metadata": {
    "execution": {
     "iopub.execute_input": "2025-05-03T23:15:07.207976Z",
     "iopub.status.busy": "2025-05-03T23:15:07.207267Z",
     "iopub.status.idle": "2025-05-03T23:15:07.288498Z",
     "shell.execute_reply": "2025-05-03T23:15:07.287691Z",
     "shell.execute_reply.started": "2025-05-03T23:15:07.207949Z"
    },
    "id": "RFBh3RkIIPwf",
    "trusted": true
   },
   "outputs": [],
   "source": [
    "feature_columns = df_train.columns.difference([\"label\"])\n",
    "for df in [df_train, df_val, df_test]:\n",
    "    df[feature_columns] = df[feature_columns].astype(\"category\")"
   ]
  },
  {
   "cell_type": "markdown",
   "metadata": {
    "id": "xU-j5MEsZLhe"
   },
   "source": [
    "# LightGBM"
   ]
  },
  {
   "cell_type": "markdown",
   "metadata": {
    "id": "VXFUjJZmbw-w"
   },
   "source": [
    "## LGBMClassifier"
   ]
  },
  {
   "cell_type": "code",
   "execution_count": 26,
   "metadata": {
    "execution": {
     "iopub.execute_input": "2025-05-03T23:15:23.735798Z",
     "iopub.status.busy": "2025-05-03T23:15:23.735136Z",
     "iopub.status.idle": "2025-05-03T23:15:23.762233Z",
     "shell.execute_reply": "2025-05-03T23:15:23.761696Z",
     "shell.execute_reply.started": "2025-05-03T23:15:23.735771Z"
    },
    "id": "55nlOdgRbwaQ",
    "trusted": true
   },
   "outputs": [],
   "source": [
    "booster_clf = LGBMClassifier(\n",
    "    objective=\"binary\",\n",
    "    max_depth=5,\n",
    "    learning_rate=1e-1,\n",
    "    n_estimators=1000,\n",
    ")"
   ]
  },
  {
   "cell_type": "code",
   "execution_count": 27,
   "metadata": {
    "colab": {
     "base_uri": "https://localhost:8080/"
    },
    "execution": {
     "iopub.execute_input": "2025-05-03T23:15:29.337970Z",
     "iopub.status.busy": "2025-05-03T23:15:29.337359Z",
     "iopub.status.idle": "2025-05-03T23:15:42.569297Z",
     "shell.execute_reply": "2025-05-03T23:15:42.568711Z",
     "shell.execute_reply.started": "2025-05-03T23:15:29.337945Z"
    },
    "id": "RgYElnaUb83n",
    "outputId": "f6000962-9099-421d-baf7-cbe9337650c7",
    "scrolled": true,
    "trusted": true
   },
   "outputs": [
    {
     "name": "stdout",
     "output_type": "stream",
     "text": [
      "[LightGBM] [Warning] Categorical features with more bins than the configured maximum bin number found.\n",
      "[LightGBM] [Warning] For categorical features, max_bin and max_bin_by_feature may be ignored with a large number of categories.\n",
      "[LightGBM] [Info] Number of positive: 67604, number of negative: 134423\n",
      "[LightGBM] [Info] Auto-choosing col-wise multi-threading, the overhead of testing was 0.020250 seconds.\n",
      "You can set `force_col_wise=true` to remove the overhead.\n",
      "[LightGBM] [Info] Total Bins 4989\n",
      "[LightGBM] [Info] Number of data points in the train set: 202027, number of used features: 10\n",
      "[LightGBM] [Info] [binary:BoostFromScore]: pavg=0.334629 -> initscore=-0.687324\n",
      "[LightGBM] [Info] Start training from score -0.687324\n",
      "[LightGBM] [Warning] No further splits with positive gain, best gain: -inf\n",
      "[1]\tvalid_0's binary_logloss: 0.583418\n",
      "Training until validation scores don't improve for 10 rounds\n",
      "[LightGBM] [Warning] No further splits with positive gain, best gain: -inf\n",
      "[2]\tvalid_0's binary_logloss: 0.543931\n",
      "[LightGBM] [Warning] No further splits with positive gain, best gain: -inf\n",
      "[3]\tvalid_0's binary_logloss: 0.512499\n",
      "[LightGBM] [Warning] No further splits with positive gain, best gain: -inf\n",
      "[4]\tvalid_0's binary_logloss: 0.486551\n",
      "[LightGBM] [Warning] No further splits with positive gain, best gain: -inf\n",
      "[5]\tvalid_0's binary_logloss: 0.465163\n",
      "[LightGBM] [Warning] No further splits with positive gain, best gain: -inf\n",
      "[6]\tvalid_0's binary_logloss: 0.447226\n",
      "[LightGBM] [Warning] No further splits with positive gain, best gain: -inf\n",
      "[7]\tvalid_0's binary_logloss: 0.431919\n",
      "[LightGBM] [Warning] No further splits with positive gain, best gain: -inf\n",
      "[8]\tvalid_0's binary_logloss: 0.418697\n",
      "[LightGBM] [Warning] No further splits with positive gain, best gain: -inf\n",
      "[9]\tvalid_0's binary_logloss: 0.407334\n",
      "[LightGBM] [Warning] No further splits with positive gain, best gain: -inf\n",
      "[10]\tvalid_0's binary_logloss: 0.39735\n",
      "[LightGBM] [Warning] No further splits with positive gain, best gain: -inf\n",
      "[11]\tvalid_0's binary_logloss: 0.38861\n",
      "[LightGBM] [Warning] No further splits with positive gain, best gain: -inf\n",
      "[12]\tvalid_0's binary_logloss: 0.380774\n",
      "[LightGBM] [Warning] No further splits with positive gain, best gain: -inf\n",
      "[13]\tvalid_0's binary_logloss: 0.3734\n",
      "[LightGBM] [Warning] No further splits with positive gain, best gain: -inf\n",
      "[14]\tvalid_0's binary_logloss: 0.367065\n",
      "[LightGBM] [Warning] No further splits with positive gain, best gain: -inf\n",
      "[15]\tvalid_0's binary_logloss: 0.361002\n",
      "[LightGBM] [Warning] No further splits with positive gain, best gain: -inf\n",
      "[16]\tvalid_0's binary_logloss: 0.35612\n",
      "[LightGBM] [Warning] No further splits with positive gain, best gain: -inf\n",
      "[17]\tvalid_0's binary_logloss: 0.351211\n",
      "[LightGBM] [Warning] No further splits with positive gain, best gain: -inf\n",
      "[18]\tvalid_0's binary_logloss: 0.347003\n",
      "[LightGBM] [Warning] No further splits with positive gain, best gain: -inf\n",
      "[19]\tvalid_0's binary_logloss: 0.342951\n",
      "[LightGBM] [Warning] No further splits with positive gain, best gain: -inf\n",
      "[20]\tvalid_0's binary_logloss: 0.339131\n",
      "[LightGBM] [Warning] No further splits with positive gain, best gain: -inf\n",
      "[21]\tvalid_0's binary_logloss: 0.336042\n",
      "[LightGBM] [Warning] No further splits with positive gain, best gain: -inf\n",
      "[22]\tvalid_0's binary_logloss: 0.333051\n",
      "[LightGBM] [Warning] No further splits with positive gain, best gain: -inf\n",
      "[23]\tvalid_0's binary_logloss: 0.329713\n",
      "[LightGBM] [Warning] No further splits with positive gain, best gain: -inf\n",
      "[24]\tvalid_0's binary_logloss: 0.327271\n",
      "[25]\tvalid_0's binary_logloss: 0.324291\n",
      "[LightGBM] [Warning] No further splits with positive gain, best gain: -inf\n",
      "[26]\tvalid_0's binary_logloss: 0.322112\n",
      "[LightGBM] [Warning] No further splits with positive gain, best gain: -inf\n",
      "[27]\tvalid_0's binary_logloss: 0.31955\n",
      "[LightGBM] [Warning] No further splits with positive gain, best gain: -inf\n",
      "[28]\tvalid_0's binary_logloss: 0.317438\n",
      "[LightGBM] [Warning] No further splits with positive gain, best gain: -inf\n",
      "[29]\tvalid_0's binary_logloss: 0.315047\n",
      "[LightGBM] [Warning] No further splits with positive gain, best gain: -inf\n",
      "[30]\tvalid_0's binary_logloss: 0.31317\n",
      "[LightGBM] [Warning] No further splits with positive gain, best gain: -inf\n",
      "[31]\tvalid_0's binary_logloss: 0.311028\n",
      "[LightGBM] [Warning] No further splits with positive gain, best gain: -inf\n",
      "[32]\tvalid_0's binary_logloss: 0.309256\n",
      "[LightGBM] [Warning] No further splits with positive gain, best gain: -inf\n",
      "[33]\tvalid_0's binary_logloss: 0.307335\n",
      "[LightGBM] [Warning] No further splits with positive gain, best gain: -inf\n",
      "[34]\tvalid_0's binary_logloss: 0.305543\n",
      "[LightGBM] [Warning] No further splits with positive gain, best gain: -inf\n",
      "[35]\tvalid_0's binary_logloss: 0.303509\n",
      "[LightGBM] [Warning] No further splits with positive gain, best gain: -inf\n",
      "[36]\tvalid_0's binary_logloss: 0.302138\n",
      "[LightGBM] [Warning] No further splits with positive gain, best gain: -inf\n",
      "[37]\tvalid_0's binary_logloss: 0.300823\n",
      "[LightGBM] [Warning] No further splits with positive gain, best gain: -inf\n",
      "[38]\tvalid_0's binary_logloss: 0.299124\n",
      "[LightGBM] [Warning] No further splits with positive gain, best gain: -inf\n",
      "[39]\tvalid_0's binary_logloss: 0.297385\n",
      "[LightGBM] [Warning] No further splits with positive gain, best gain: -inf\n",
      "[40]\tvalid_0's binary_logloss: 0.295643\n",
      "[LightGBM] [Warning] No further splits with positive gain, best gain: -inf\n",
      "[41]\tvalid_0's binary_logloss: 0.293955\n",
      "[LightGBM] [Warning] No further splits with positive gain, best gain: -inf\n",
      "[42]\tvalid_0's binary_logloss: 0.29184\n",
      "[LightGBM] [Warning] No further splits with positive gain, best gain: -inf\n",
      "[43]\tvalid_0's binary_logloss: 0.290102\n",
      "[LightGBM] [Warning] No further splits with positive gain, best gain: -inf\n",
      "[44]\tvalid_0's binary_logloss: 0.289\n",
      "[LightGBM] [Warning] No further splits with positive gain, best gain: -inf\n",
      "[45]\tvalid_0's binary_logloss: 0.287923\n",
      "[LightGBM] [Warning] No further splits with positive gain, best gain: -inf\n",
      "[46]\tvalid_0's binary_logloss: 0.286518\n",
      "[LightGBM] [Warning] No further splits with positive gain, best gain: -inf\n",
      "[47]\tvalid_0's binary_logloss: 0.284592\n",
      "[LightGBM] [Warning] No further splits with positive gain, best gain: -inf\n",
      "[48]\tvalid_0's binary_logloss: 0.283062\n",
      "[LightGBM] [Warning] No further splits with positive gain, best gain: -inf\n",
      "[49]\tvalid_0's binary_logloss: 0.282057\n",
      "[LightGBM] [Warning] No further splits with positive gain, best gain: -inf\n",
      "[50]\tvalid_0's binary_logloss: 0.28067\n",
      "[LightGBM] [Warning] No further splits with positive gain, best gain: -inf\n",
      "[51]\tvalid_0's binary_logloss: 0.279275\n",
      "[LightGBM] [Warning] No further splits with positive gain, best gain: -inf\n",
      "[52]\tvalid_0's binary_logloss: 0.277533\n",
      "[LightGBM] [Warning] No further splits with positive gain, best gain: -inf\n",
      "[53]\tvalid_0's binary_logloss: 0.276709\n",
      "[LightGBM] [Warning] No further splits with positive gain, best gain: -inf\n",
      "[54]\tvalid_0's binary_logloss: 0.2755\n",
      "[LightGBM] [Warning] No further splits with positive gain, best gain: -inf\n",
      "[55]\tvalid_0's binary_logloss: 0.274492\n",
      "[LightGBM] [Warning] No further splits with positive gain, best gain: -inf\n",
      "[56]\tvalid_0's binary_logloss: 0.2737\n",
      "[LightGBM] [Warning] No further splits with positive gain, best gain: -inf\n",
      "[57]\tvalid_0's binary_logloss: 0.272351\n",
      "[LightGBM] [Warning] No further splits with positive gain, best gain: -inf\n",
      "[58]\tvalid_0's binary_logloss: 0.271235\n",
      "[LightGBM] [Warning] No further splits with positive gain, best gain: -inf\n",
      "[59]\tvalid_0's binary_logloss: 0.270144\n",
      "[LightGBM] [Warning] No further splits with positive gain, best gain: -inf\n",
      "[60]\tvalid_0's binary_logloss: 0.269511\n",
      "[LightGBM] [Warning] No further splits with positive gain, best gain: -inf\n",
      "[61]\tvalid_0's binary_logloss: 0.268444\n",
      "[LightGBM] [Warning] No further splits with positive gain, best gain: -inf\n",
      "[62]\tvalid_0's binary_logloss: 0.267421\n",
      "[LightGBM] [Warning] No further splits with positive gain, best gain: -inf\n",
      "[63]\tvalid_0's binary_logloss: 0.266768\n",
      "[LightGBM] [Warning] No further splits with positive gain, best gain: -inf\n",
      "[64]\tvalid_0's binary_logloss: 0.265611\n",
      "[LightGBM] [Warning] No further splits with positive gain, best gain: -inf\n",
      "[65]\tvalid_0's binary_logloss: 0.264481\n",
      "[LightGBM] [Warning] No further splits with positive gain, best gain: -inf\n",
      "[66]\tvalid_0's binary_logloss: 0.263366\n",
      "[LightGBM] [Warning] No further splits with positive gain, best gain: -inf\n",
      "[67]\tvalid_0's binary_logloss: 0.26254\n",
      "[LightGBM] [Warning] No further splits with positive gain, best gain: -inf\n",
      "[68]\tvalid_0's binary_logloss: 0.261872\n",
      "[LightGBM] [Warning] No further splits with positive gain, best gain: -inf\n",
      "[69]\tvalid_0's binary_logloss: 0.260942\n",
      "[LightGBM] [Warning] No further splits with positive gain, best gain: -inf\n",
      "[70]\tvalid_0's binary_logloss: 0.259997\n",
      "[LightGBM] [Warning] No further splits with positive gain, best gain: -inf\n",
      "[71]\tvalid_0's binary_logloss: 0.259083\n",
      "[LightGBM] [Warning] No further splits with positive gain, best gain: -inf\n",
      "[72]\tvalid_0's binary_logloss: 0.258053\n",
      "[LightGBM] [Warning] No further splits with positive gain, best gain: -inf\n",
      "[73]\tvalid_0's binary_logloss: 0.257778\n",
      "[LightGBM] [Warning] No further splits with positive gain, best gain: -inf\n",
      "[74]\tvalid_0's binary_logloss: 0.257016\n",
      "[LightGBM] [Warning] No further splits with positive gain, best gain: -inf\n",
      "[75]\tvalid_0's binary_logloss: 0.256014\n",
      "[LightGBM] [Warning] No further splits with positive gain, best gain: -inf\n",
      "[76]\tvalid_0's binary_logloss: 0.255395\n",
      "[LightGBM] [Warning] No further splits with positive gain, best gain: -inf\n",
      "[77]\tvalid_0's binary_logloss: 0.25438\n",
      "[LightGBM] [Warning] No further splits with positive gain, best gain: -inf\n",
      "[78]\tvalid_0's binary_logloss: 0.253298\n",
      "[LightGBM] [Warning] No further splits with positive gain, best gain: -inf\n",
      "[79]\tvalid_0's binary_logloss: 0.252757\n",
      "[LightGBM] [Warning] No further splits with positive gain, best gain: -inf\n",
      "[80]\tvalid_0's binary_logloss: 0.252587\n",
      "[LightGBM] [Warning] No further splits with positive gain, best gain: -inf\n",
      "[81]\tvalid_0's binary_logloss: 0.251796\n",
      "[LightGBM] [Warning] No further splits with positive gain, best gain: -inf\n",
      "[82]\tvalid_0's binary_logloss: 0.250993\n",
      "[LightGBM] [Warning] No further splits with positive gain, best gain: -inf\n",
      "[83]\tvalid_0's binary_logloss: 0.250171\n",
      "[LightGBM] [Warning] No further splits with positive gain, best gain: -inf\n",
      "[84]\tvalid_0's binary_logloss: 0.24963\n",
      "[LightGBM] [Warning] No further splits with positive gain, best gain: -inf\n",
      "[85]\tvalid_0's binary_logloss: 0.249269\n",
      "[LightGBM] [Warning] No further splits with positive gain, best gain: -inf\n",
      "[86]\tvalid_0's binary_logloss: 0.248871\n",
      "[LightGBM] [Warning] No further splits with positive gain, best gain: -inf\n",
      "[87]\tvalid_0's binary_logloss: 0.248809\n",
      "[LightGBM] [Warning] No further splits with positive gain, best gain: -inf\n",
      "[88]\tvalid_0's binary_logloss: 0.248789\n",
      "[LightGBM] [Warning] No further splits with positive gain, best gain: -inf\n",
      "[89]\tvalid_0's binary_logloss: 0.248034\n",
      "[LightGBM] [Warning] No further splits with positive gain, best gain: -inf\n",
      "[90]\tvalid_0's binary_logloss: 0.247321\n",
      "[LightGBM] [Warning] No further splits with positive gain, best gain: -inf\n",
      "[91]\tvalid_0's binary_logloss: 0.247069\n",
      "[LightGBM] [Warning] No further splits with positive gain, best gain: -inf\n",
      "[92]\tvalid_0's binary_logloss: 0.246228\n",
      "[LightGBM] [Warning] No further splits with positive gain, best gain: -inf\n",
      "[93]\tvalid_0's binary_logloss: 0.245765\n",
      "[LightGBM] [Warning] No further splits with positive gain, best gain: -inf\n",
      "[94]\tvalid_0's binary_logloss: 0.24509\n",
      "[LightGBM] [Warning] No further splits with positive gain, best gain: -inf\n",
      "[95]\tvalid_0's binary_logloss: 0.244188\n",
      "[LightGBM] [Warning] No further splits with positive gain, best gain: -inf\n",
      "[96]\tvalid_0's binary_logloss: 0.244122\n",
      "[LightGBM] [Warning] No further splits with positive gain, best gain: -inf\n",
      "[97]\tvalid_0's binary_logloss: 0.243208\n",
      "[LightGBM] [Warning] No further splits with positive gain, best gain: -inf\n",
      "[98]\tvalid_0's binary_logloss: 0.242474\n",
      "[LightGBM] [Warning] No further splits with positive gain, best gain: -inf\n",
      "[99]\tvalid_0's binary_logloss: 0.241962\n",
      "[LightGBM] [Warning] No further splits with positive gain, best gain: -inf\n",
      "[100]\tvalid_0's binary_logloss: 0.241797\n",
      "[LightGBM] [Warning] No further splits with positive gain, best gain: -inf\n",
      "[101]\tvalid_0's binary_logloss: 0.241687\n",
      "[LightGBM] [Warning] No further splits with positive gain, best gain: -inf\n",
      "[102]\tvalid_0's binary_logloss: 0.241151\n",
      "[LightGBM] [Warning] No further splits with positive gain, best gain: -inf\n",
      "[103]\tvalid_0's binary_logloss: 0.240488\n",
      "[LightGBM] [Warning] No further splits with positive gain, best gain: -inf\n",
      "[104]\tvalid_0's binary_logloss: 0.239987\n",
      "[LightGBM] [Warning] No further splits with positive gain, best gain: -inf\n",
      "[105]\tvalid_0's binary_logloss: 0.239775\n",
      "[LightGBM] [Warning] No further splits with positive gain, best gain: -inf\n",
      "[106]\tvalid_0's binary_logloss: 0.239734\n",
      "[LightGBM] [Warning] No further splits with positive gain, best gain: -inf\n",
      "[107]\tvalid_0's binary_logloss: 0.238953\n",
      "[LightGBM] [Warning] No further splits with positive gain, best gain: -inf\n",
      "[108]\tvalid_0's binary_logloss: 0.238443\n",
      "[LightGBM] [Warning] No further splits with positive gain, best gain: -inf\n",
      "[109]\tvalid_0's binary_logloss: 0.238013\n",
      "[LightGBM] [Warning] No further splits with positive gain, best gain: -inf\n",
      "[110]\tvalid_0's binary_logloss: 0.237322\n",
      "[LightGBM] [Warning] No further splits with positive gain, best gain: -inf\n",
      "[111]\tvalid_0's binary_logloss: 0.237133\n",
      "[LightGBM] [Warning] No further splits with positive gain, best gain: -inf\n",
      "[112]\tvalid_0's binary_logloss: 0.236617\n",
      "[LightGBM] [Warning] No further splits with positive gain, best gain: -inf\n",
      "[113]\tvalid_0's binary_logloss: 0.236107\n",
      "[LightGBM] [Warning] No further splits with positive gain, best gain: -inf\n",
      "[114]\tvalid_0's binary_logloss: 0.235829\n",
      "[LightGBM] [Warning] No further splits with positive gain, best gain: -inf\n",
      "[115]\tvalid_0's binary_logloss: 0.235619\n",
      "[LightGBM] [Warning] No further splits with positive gain, best gain: -inf\n",
      "[116]\tvalid_0's binary_logloss: 0.23548\n",
      "[LightGBM] [Warning] No further splits with positive gain, best gain: -inf\n",
      "[117]\tvalid_0's binary_logloss: 0.234786\n",
      "[LightGBM] [Warning] No further splits with positive gain, best gain: -inf\n",
      "[118]\tvalid_0's binary_logloss: 0.234211\n",
      "[LightGBM] [Warning] No further splits with positive gain, best gain: -inf\n",
      "[119]\tvalid_0's binary_logloss: 0.233487\n",
      "[LightGBM] [Warning] No further splits with positive gain, best gain: -inf\n",
      "[120]\tvalid_0's binary_logloss: 0.233016\n",
      "[LightGBM] [Warning] No further splits with positive gain, best gain: -inf\n",
      "[121]\tvalid_0's binary_logloss: 0.232431\n",
      "[LightGBM] [Warning] No further splits with positive gain, best gain: -inf\n",
      "[122]\tvalid_0's binary_logloss: 0.232402\n",
      "[LightGBM] [Warning] No further splits with positive gain, best gain: -inf\n",
      "[123]\tvalid_0's binary_logloss: 0.231692\n",
      "[LightGBM] [Warning] No further splits with positive gain, best gain: -inf\n",
      "[124]\tvalid_0's binary_logloss: 0.231159\n",
      "[LightGBM] [Warning] No further splits with positive gain, best gain: -inf\n",
      "[125]\tvalid_0's binary_logloss: 0.230649\n",
      "[LightGBM] [Warning] No further splits with positive gain, best gain: -inf\n",
      "[126]\tvalid_0's binary_logloss: 0.230479\n",
      "[LightGBM] [Warning] No further splits with positive gain, best gain: -inf\n",
      "[127]\tvalid_0's binary_logloss: 0.230194\n",
      "[LightGBM] [Warning] No further splits with positive gain, best gain: -inf\n",
      "[128]\tvalid_0's binary_logloss: 0.229625\n",
      "[LightGBM] [Warning] No further splits with positive gain, best gain: -inf\n",
      "[129]\tvalid_0's binary_logloss: 0.229628\n",
      "[LightGBM] [Warning] No further splits with positive gain, best gain: -inf\n",
      "[130]\tvalid_0's binary_logloss: 0.229362\n",
      "[LightGBM] [Warning] No further splits with positive gain, best gain: -inf\n",
      "[131]\tvalid_0's binary_logloss: 0.228855\n",
      "[LightGBM] [Warning] No further splits with positive gain, best gain: -inf\n",
      "[132]\tvalid_0's binary_logloss: 0.228362\n",
      "[LightGBM] [Warning] No further splits with positive gain, best gain: -inf\n",
      "[133]\tvalid_0's binary_logloss: 0.228235\n",
      "[LightGBM] [Warning] No further splits with positive gain, best gain: -inf\n",
      "[134]\tvalid_0's binary_logloss: 0.228214\n",
      "[LightGBM] [Warning] No further splits with positive gain, best gain: -inf\n",
      "[135]\tvalid_0's binary_logloss: 0.228184\n",
      "[LightGBM] [Warning] No further splits with positive gain, best gain: -inf\n",
      "[136]\tvalid_0's binary_logloss: 0.227653\n",
      "[LightGBM] [Warning] No further splits with positive gain, best gain: -inf\n",
      "[137]\tvalid_0's binary_logloss: 0.22706\n",
      "[LightGBM] [Warning] No further splits with positive gain, best gain: -inf\n",
      "[138]\tvalid_0's binary_logloss: 0.226662\n",
      "[LightGBM] [Warning] No further splits with positive gain, best gain: -inf\n",
      "[139]\tvalid_0's binary_logloss: 0.226573\n",
      "[LightGBM] [Warning] No further splits with positive gain, best gain: -inf\n",
      "[140]\tvalid_0's binary_logloss: 0.22609\n",
      "[LightGBM] [Warning] No further splits with positive gain, best gain: -inf\n",
      "[141]\tvalid_0's binary_logloss: 0.225829\n",
      "[LightGBM] [Warning] No further splits with positive gain, best gain: -inf\n",
      "[142]\tvalid_0's binary_logloss: 0.225831\n",
      "[LightGBM] [Warning] No further splits with positive gain, best gain: -inf\n",
      "[143]\tvalid_0's binary_logloss: 0.225406\n",
      "[LightGBM] [Warning] No further splits with positive gain, best gain: -inf\n",
      "[144]\tvalid_0's binary_logloss: 0.225233\n",
      "[LightGBM] [Warning] No further splits with positive gain, best gain: -inf\n",
      "[145]\tvalid_0's binary_logloss: 0.224878\n",
      "[LightGBM] [Warning] No further splits with positive gain, best gain: -inf\n",
      "[146]\tvalid_0's binary_logloss: 0.224327\n",
      "[LightGBM] [Warning] No further splits with positive gain, best gain: -inf\n",
      "[147]\tvalid_0's binary_logloss: 0.223873\n",
      "[LightGBM] [Warning] No further splits with positive gain, best gain: -inf\n",
      "[148]\tvalid_0's binary_logloss: 0.223457\n",
      "[LightGBM] [Warning] No further splits with positive gain, best gain: -inf\n",
      "[149]\tvalid_0's binary_logloss: 0.222788\n",
      "[LightGBM] [Warning] No further splits with positive gain, best gain: -inf\n",
      "[150]\tvalid_0's binary_logloss: 0.222604\n",
      "[LightGBM] [Warning] No further splits with positive gain, best gain: -inf\n",
      "[151]\tvalid_0's binary_logloss: 0.222176\n",
      "[LightGBM] [Warning] No further splits with positive gain, best gain: -inf\n",
      "[152]\tvalid_0's binary_logloss: 0.222181\n",
      "[LightGBM] [Warning] No further splits with positive gain, best gain: -inf\n",
      "[153]\tvalid_0's binary_logloss: 0.222174\n",
      "[LightGBM] [Warning] No further splits with positive gain, best gain: -inf\n",
      "[154]\tvalid_0's binary_logloss: 0.222029\n",
      "[LightGBM] [Warning] No further splits with positive gain, best gain: -inf\n",
      "[155]\tvalid_0's binary_logloss: 0.221556\n",
      "[LightGBM] [Warning] No further splits with positive gain, best gain: -inf\n",
      "[156]\tvalid_0's binary_logloss: 0.221357\n",
      "[LightGBM] [Warning] No further splits with positive gain, best gain: -inf\n",
      "[157]\tvalid_0's binary_logloss: 0.221001\n",
      "[LightGBM] [Warning] No further splits with positive gain, best gain: -inf\n",
      "[158]\tvalid_0's binary_logloss: 0.22098\n",
      "[LightGBM] [Warning] No further splits with positive gain, best gain: -inf\n",
      "[159]\tvalid_0's binary_logloss: 0.220733\n",
      "[LightGBM] [Warning] No further splits with positive gain, best gain: -inf\n",
      "[160]\tvalid_0's binary_logloss: 0.220286\n",
      "[LightGBM] [Warning] No further splits with positive gain, best gain: -inf\n",
      "[161]\tvalid_0's binary_logloss: 0.219987\n",
      "[LightGBM] [Warning] No further splits with positive gain, best gain: -inf\n",
      "[162]\tvalid_0's binary_logloss: 0.219973\n",
      "[LightGBM] [Warning] No further splits with positive gain, best gain: -inf\n",
      "[163]\tvalid_0's binary_logloss: 0.219905\n",
      "[LightGBM] [Warning] No further splits with positive gain, best gain: -inf\n",
      "[164]\tvalid_0's binary_logloss: 0.219407\n",
      "[LightGBM] [Warning] No further splits with positive gain, best gain: -inf\n",
      "[165]\tvalid_0's binary_logloss: 0.219418\n",
      "[LightGBM] [Warning] No further splits with positive gain, best gain: -inf\n",
      "[166]\tvalid_0's binary_logloss: 0.219203\n",
      "[LightGBM] [Warning] No further splits with positive gain, best gain: -inf\n",
      "[167]\tvalid_0's binary_logloss: 0.219073\n",
      "[LightGBM] [Warning] No further splits with positive gain, best gain: -inf\n",
      "[168]\tvalid_0's binary_logloss: 0.218553\n",
      "[LightGBM] [Warning] No further splits with positive gain, best gain: -inf\n",
      "[169]\tvalid_0's binary_logloss: 0.218372\n",
      "[LightGBM] [Warning] No further splits with positive gain, best gain: -inf\n",
      "[170]\tvalid_0's binary_logloss: 0.21819\n",
      "[LightGBM] [Warning] No further splits with positive gain, best gain: -inf\n",
      "[171]\tvalid_0's binary_logloss: 0.218119\n",
      "[LightGBM] [Warning] No further splits with positive gain, best gain: -inf\n",
      "[172]\tvalid_0's binary_logloss: 0.218116\n",
      "[LightGBM] [Warning] No further splits with positive gain, best gain: -inf\n",
      "[173]\tvalid_0's binary_logloss: 0.217663\n",
      "[LightGBM] [Warning] No further splits with positive gain, best gain: -inf\n",
      "[174]\tvalid_0's binary_logloss: 0.217262\n",
      "[LightGBM] [Warning] No further splits with positive gain, best gain: -inf\n",
      "[175]\tvalid_0's binary_logloss: 0.216955\n",
      "[LightGBM] [Warning] No further splits with positive gain, best gain: -inf\n",
      "[176]\tvalid_0's binary_logloss: 0.216639\n",
      "[LightGBM] [Warning] No further splits with positive gain, best gain: -inf\n",
      "[177]\tvalid_0's binary_logloss: 0.216422\n",
      "[LightGBM] [Warning] No further splits with positive gain, best gain: -inf\n",
      "[178]\tvalid_0's binary_logloss: 0.216281\n",
      "[LightGBM] [Warning] No further splits with positive gain, best gain: -inf\n",
      "[179]\tvalid_0's binary_logloss: 0.21615\n",
      "[LightGBM] [Warning] No further splits with positive gain, best gain: -inf\n",
      "[180]\tvalid_0's binary_logloss: 0.215768\n",
      "[LightGBM] [Warning] No further splits with positive gain, best gain: -inf\n",
      "[181]\tvalid_0's binary_logloss: 0.2157\n",
      "[LightGBM] [Warning] No further splits with positive gain, best gain: -inf\n",
      "[182]\tvalid_0's binary_logloss: 0.215333\n",
      "[LightGBM] [Warning] No further splits with positive gain, best gain: -inf\n",
      "[183]\tvalid_0's binary_logloss: 0.215141\n",
      "[LightGBM] [Warning] No further splits with positive gain, best gain: -inf\n",
      "[184]\tvalid_0's binary_logloss: 0.214688\n",
      "[LightGBM] [Warning] No further splits with positive gain, best gain: -inf\n",
      "[185]\tvalid_0's binary_logloss: 0.21439\n",
      "[LightGBM] [Warning] No further splits with positive gain, best gain: -inf\n",
      "[186]\tvalid_0's binary_logloss: 0.214366\n",
      "[LightGBM] [Warning] No further splits with positive gain, best gain: -inf\n",
      "[187]\tvalid_0's binary_logloss: 0.214359\n",
      "[LightGBM] [Warning] No further splits with positive gain, best gain: -inf\n",
      "[188]\tvalid_0's binary_logloss: 0.213958\n",
      "[LightGBM] [Warning] No further splits with positive gain, best gain: -inf\n",
      "[189]\tvalid_0's binary_logloss: 0.213567\n",
      "[LightGBM] [Warning] No further splits with positive gain, best gain: -inf\n",
      "[190]\tvalid_0's binary_logloss: 0.213557\n",
      "[LightGBM] [Warning] No further splits with positive gain, best gain: -inf\n",
      "[191]\tvalid_0's binary_logloss: 0.213189\n",
      "[LightGBM] [Warning] No further splits with positive gain, best gain: -inf\n",
      "[192]\tvalid_0's binary_logloss: 0.213127\n",
      "[LightGBM] [Warning] No further splits with positive gain, best gain: -inf\n",
      "[193]\tvalid_0's binary_logloss: 0.212706\n",
      "[LightGBM] [Warning] No further splits with positive gain, best gain: -inf\n",
      "[194]\tvalid_0's binary_logloss: 0.212521\n",
      "[LightGBM] [Warning] No further splits with positive gain, best gain: -inf\n",
      "[195]\tvalid_0's binary_logloss: 0.212332\n",
      "[LightGBM] [Warning] No further splits with positive gain, best gain: -inf\n",
      "[196]\tvalid_0's binary_logloss: 0.211952\n",
      "[LightGBM] [Warning] No further splits with positive gain, best gain: -inf\n",
      "[197]\tvalid_0's binary_logloss: 0.211954\n",
      "[LightGBM] [Warning] No further splits with positive gain, best gain: -inf\n",
      "[198]\tvalid_0's binary_logloss: 0.211548\n",
      "[LightGBM] [Warning] No further splits with positive gain, best gain: -inf\n",
      "[199]\tvalid_0's binary_logloss: 0.211549\n",
      "[LightGBM] [Warning] No further splits with positive gain, best gain: -inf\n",
      "[200]\tvalid_0's binary_logloss: 0.211375\n",
      "[LightGBM] [Warning] No further splits with positive gain, best gain: -inf\n",
      "[201]\tvalid_0's binary_logloss: 0.211058\n",
      "[LightGBM] [Warning] No further splits with positive gain, best gain: -inf\n",
      "[202]\tvalid_0's binary_logloss: 0.210687\n",
      "[LightGBM] [Warning] No further splits with positive gain, best gain: -inf\n",
      "[203]\tvalid_0's binary_logloss: 0.210319\n",
      "[LightGBM] [Warning] No further splits with positive gain, best gain: -inf\n",
      "[204]\tvalid_0's binary_logloss: 0.21011\n",
      "[LightGBM] [Warning] No further splits with positive gain, best gain: -inf\n",
      "[205]\tvalid_0's binary_logloss: 0.209816\n",
      "[LightGBM] [Warning] No further splits with positive gain, best gain: -inf\n",
      "[206]\tvalid_0's binary_logloss: 0.209468\n",
      "[LightGBM] [Warning] No further splits with positive gain, best gain: -inf\n",
      "[207]\tvalid_0's binary_logloss: 0.209467\n",
      "[LightGBM] [Warning] No further splits with positive gain, best gain: -inf\n",
      "[208]\tvalid_0's binary_logloss: 0.209106\n",
      "[LightGBM] [Warning] No further splits with positive gain, best gain: -inf\n",
      "[209]\tvalid_0's binary_logloss: 0.20912\n",
      "[LightGBM] [Warning] No further splits with positive gain, best gain: -inf\n",
      "[210]\tvalid_0's binary_logloss: 0.209048\n",
      "[LightGBM] [Warning] No further splits with positive gain, best gain: -inf\n",
      "[211]\tvalid_0's binary_logloss: 0.208815\n",
      "[LightGBM] [Warning] No further splits with positive gain, best gain: -inf\n",
      "[212]\tvalid_0's binary_logloss: 0.208632\n",
      "[LightGBM] [Warning] No further splits with positive gain, best gain: -inf\n",
      "[213]\tvalid_0's binary_logloss: 0.208211\n",
      "[LightGBM] [Warning] No further splits with positive gain, best gain: -inf\n",
      "[214]\tvalid_0's binary_logloss: 0.208167\n",
      "[LightGBM] [Warning] No further splits with positive gain, best gain: -inf\n",
      "[215]\tvalid_0's binary_logloss: 0.207874\n",
      "[LightGBM] [Warning] No further splits with positive gain, best gain: -inf\n",
      "[216]\tvalid_0's binary_logloss: 0.207666\n",
      "[217]\tvalid_0's binary_logloss: 0.207363\n",
      "[LightGBM] [Warning] No further splits with positive gain, best gain: -inf\n",
      "[218]\tvalid_0's binary_logloss: 0.207374\n",
      "[LightGBM] [Warning] No further splits with positive gain, best gain: -inf\n",
      "[219]\tvalid_0's binary_logloss: 0.206939\n",
      "[LightGBM] [Warning] No further splits with positive gain, best gain: -inf\n",
      "[220]\tvalid_0's binary_logloss: 0.206617\n",
      "[LightGBM] [Warning] No further splits with positive gain, best gain: -inf\n",
      "[221]\tvalid_0's binary_logloss: 0.206632\n",
      "[LightGBM] [Warning] No further splits with positive gain, best gain: -inf\n",
      "[222]\tvalid_0's binary_logloss: 0.206379\n",
      "[LightGBM] [Warning] No further splits with positive gain, best gain: -inf\n",
      "[223]\tvalid_0's binary_logloss: 0.20622\n",
      "[LightGBM] [Warning] No further splits with positive gain, best gain: -inf\n",
      "[224]\tvalid_0's binary_logloss: 0.205932\n",
      "[LightGBM] [Warning] No further splits with positive gain, best gain: -inf\n",
      "[225]\tvalid_0's binary_logloss: 0.205949\n",
      "[LightGBM] [Warning] No further splits with positive gain, best gain: -inf\n",
      "[226]\tvalid_0's binary_logloss: 0.205814\n",
      "[LightGBM] [Warning] No further splits with positive gain, best gain: -inf\n",
      "[227]\tvalid_0's binary_logloss: 0.205811\n",
      "[LightGBM] [Warning] No further splits with positive gain, best gain: -inf\n",
      "[228]\tvalid_0's binary_logloss: 0.205698\n",
      "[LightGBM] [Warning] No further splits with positive gain, best gain: -inf\n",
      "[229]\tvalid_0's binary_logloss: 0.205591\n",
      "[LightGBM] [Warning] No further splits with positive gain, best gain: -inf\n",
      "[230]\tvalid_0's binary_logloss: 0.205468\n",
      "[LightGBM] [Warning] No further splits with positive gain, best gain: -inf\n",
      "[231]\tvalid_0's binary_logloss: 0.205322\n",
      "[LightGBM] [Warning] No further splits with positive gain, best gain: -inf\n",
      "[232]\tvalid_0's binary_logloss: 0.205019\n",
      "[LightGBM] [Warning] No further splits with positive gain, best gain: -inf\n",
      "[233]\tvalid_0's binary_logloss: 0.204932\n",
      "[LightGBM] [Warning] No further splits with positive gain, best gain: -inf\n",
      "[234]\tvalid_0's binary_logloss: 0.20459\n",
      "[LightGBM] [Warning] No further splits with positive gain, best gain: -inf\n",
      "[235]\tvalid_0's binary_logloss: 0.204266\n",
      "[LightGBM] [Warning] No further splits with positive gain, best gain: -inf\n",
      "[236]\tvalid_0's binary_logloss: 0.204098\n",
      "[LightGBM] [Warning] No further splits with positive gain, best gain: -inf\n",
      "[237]\tvalid_0's binary_logloss: 0.20404\n",
      "[LightGBM] [Warning] No further splits with positive gain, best gain: -inf\n",
      "[238]\tvalid_0's binary_logloss: 0.204055\n",
      "[LightGBM] [Warning] No further splits with positive gain, best gain: -inf\n",
      "[239]\tvalid_0's binary_logloss: 0.203904\n",
      "[LightGBM] [Warning] No further splits with positive gain, best gain: -inf\n",
      "[240]\tvalid_0's binary_logloss: 0.203653\n",
      "[LightGBM] [Warning] No further splits with positive gain, best gain: -inf\n",
      "[241]\tvalid_0's binary_logloss: 0.203675\n",
      "[LightGBM] [Warning] No further splits with positive gain, best gain: -inf\n",
      "[242]\tvalid_0's binary_logloss: 0.203696\n",
      "[LightGBM] [Warning] No further splits with positive gain, best gain: -inf\n",
      "[243]\tvalid_0's binary_logloss: 0.203422\n",
      "[LightGBM] [Warning] No further splits with positive gain, best gain: -inf\n",
      "[244]\tvalid_0's binary_logloss: 0.203428\n",
      "[LightGBM] [Warning] No further splits with positive gain, best gain: -inf\n",
      "[245]\tvalid_0's binary_logloss: 0.20305\n",
      "[LightGBM] [Warning] No further splits with positive gain, best gain: -inf\n",
      "[246]\tvalid_0's binary_logloss: 0.202916\n",
      "[LightGBM] [Warning] No further splits with positive gain, best gain: -inf\n",
      "[247]\tvalid_0's binary_logloss: 0.202798\n",
      "[LightGBM] [Warning] No further splits with positive gain, best gain: -inf\n",
      "[248]\tvalid_0's binary_logloss: 0.202437\n",
      "[LightGBM] [Warning] No further splits with positive gain, best gain: -inf\n",
      "[249]\tvalid_0's binary_logloss: 0.202177\n",
      "[LightGBM] [Warning] No further splits with positive gain, best gain: -inf\n",
      "[250]\tvalid_0's binary_logloss: 0.202178\n",
      "[LightGBM] [Warning] No further splits with positive gain, best gain: -inf\n",
      "[251]\tvalid_0's binary_logloss: 0.202057\n",
      "[LightGBM] [Warning] No further splits with positive gain, best gain: -inf\n",
      "[252]\tvalid_0's binary_logloss: 0.201922\n",
      "[LightGBM] [Warning] No further splits with positive gain, best gain: -inf\n",
      "[253]\tvalid_0's binary_logloss: 0.201604\n",
      "[LightGBM] [Warning] No further splits with positive gain, best gain: -inf\n",
      "[254]\tvalid_0's binary_logloss: 0.201246\n",
      "[LightGBM] [Warning] No further splits with positive gain, best gain: -inf\n",
      "[255]\tvalid_0's binary_logloss: 0.200878\n",
      "[LightGBM] [Warning] No further splits with positive gain, best gain: -inf\n",
      "[256]\tvalid_0's binary_logloss: 0.200683\n",
      "[LightGBM] [Warning] No further splits with positive gain, best gain: -inf\n",
      "[257]\tvalid_0's binary_logloss: 0.200703\n",
      "[LightGBM] [Warning] No further splits with positive gain, best gain: -inf\n",
      "[258]\tvalid_0's binary_logloss: 0.200588\n",
      "[LightGBM] [Warning] No further splits with positive gain, best gain: -inf\n",
      "[259]\tvalid_0's binary_logloss: 0.200279\n",
      "[LightGBM] [Warning] No further splits with positive gain, best gain: -inf\n",
      "[260]\tvalid_0's binary_logloss: 0.200048\n",
      "[LightGBM] [Warning] No further splits with positive gain, best gain: -inf\n",
      "[261]\tvalid_0's binary_logloss: 0.199784\n",
      "[LightGBM] [Warning] No further splits with positive gain, best gain: -inf\n",
      "[262]\tvalid_0's binary_logloss: 0.199811\n",
      "[LightGBM] [Warning] No further splits with positive gain, best gain: -inf\n",
      "[263]\tvalid_0's binary_logloss: 0.199494\n",
      "[LightGBM] [Warning] No further splits with positive gain, best gain: -inf\n",
      "[264]\tvalid_0's binary_logloss: 0.199168\n",
      "[LightGBM] [Warning] No further splits with positive gain, best gain: -inf\n",
      "[265]\tvalid_0's binary_logloss: 0.198892\n",
      "[LightGBM] [Warning] No further splits with positive gain, best gain: -inf\n",
      "[266]\tvalid_0's binary_logloss: 0.198639\n",
      "[LightGBM] [Warning] No further splits with positive gain, best gain: -inf\n",
      "[267]\tvalid_0's binary_logloss: 0.198648\n",
      "[LightGBM] [Warning] No further splits with positive gain, best gain: -inf\n",
      "[268]\tvalid_0's binary_logloss: 0.198544\n",
      "[LightGBM] [Warning] No further splits with positive gain, best gain: -inf\n",
      "[269]\tvalid_0's binary_logloss: 0.198254\n",
      "[LightGBM] [Warning] No further splits with positive gain, best gain: -inf\n",
      "[270]\tvalid_0's binary_logloss: 0.197942\n",
      "[LightGBM] [Warning] No further splits with positive gain, best gain: -inf\n",
      "[271]\tvalid_0's binary_logloss: 0.197844\n",
      "[LightGBM] [Warning] No further splits with positive gain, best gain: -inf\n",
      "[272]\tvalid_0's binary_logloss: 0.197785\n",
      "[LightGBM] [Warning] No further splits with positive gain, best gain: -inf\n",
      "[273]\tvalid_0's binary_logloss: 0.197708\n",
      "[LightGBM] [Warning] No further splits with positive gain, best gain: -inf\n",
      "[274]\tvalid_0's binary_logloss: 0.197396\n",
      "[LightGBM] [Warning] No further splits with positive gain, best gain: -inf\n",
      "[275]\tvalid_0's binary_logloss: 0.197114\n",
      "[LightGBM] [Warning] No further splits with positive gain, best gain: -inf\n",
      "[276]\tvalid_0's binary_logloss: 0.196817\n",
      "[LightGBM] [Warning] No further splits with positive gain, best gain: -inf\n",
      "[277]\tvalid_0's binary_logloss: 0.196491\n",
      "[LightGBM] [Warning] No further splits with positive gain, best gain: -inf\n",
      "[278]\tvalid_0's binary_logloss: 0.196378\n",
      "[LightGBM] [Warning] No further splits with positive gain, best gain: -inf\n",
      "[279]\tvalid_0's binary_logloss: 0.196377\n",
      "[LightGBM] [Warning] No further splits with positive gain, best gain: -inf\n",
      "[280]\tvalid_0's binary_logloss: 0.196274\n",
      "[LightGBM] [Warning] No further splits with positive gain, best gain: -inf\n",
      "[281]\tvalid_0's binary_logloss: 0.195974\n",
      "[LightGBM] [Warning] No further splits with positive gain, best gain: -inf\n",
      "[282]\tvalid_0's binary_logloss: 0.195694\n",
      "[LightGBM] [Warning] No further splits with positive gain, best gain: -inf\n",
      "[283]\tvalid_0's binary_logloss: 0.195548\n",
      "[LightGBM] [Warning] No further splits with positive gain, best gain: -inf\n",
      "[284]\tvalid_0's binary_logloss: 0.195155\n",
      "[LightGBM] [Warning] No further splits with positive gain, best gain: -inf\n",
      "[285]\tvalid_0's binary_logloss: 0.19488\n",
      "[LightGBM] [Warning] No further splits with positive gain, best gain: -inf\n",
      "[286]\tvalid_0's binary_logloss: 0.194589\n",
      "[LightGBM] [Warning] No further splits with positive gain, best gain: -inf\n",
      "[287]\tvalid_0's binary_logloss: 0.194297\n",
      "[LightGBM] [Warning] No further splits with positive gain, best gain: -inf\n",
      "[288]\tvalid_0's binary_logloss: 0.194175\n",
      "[LightGBM] [Warning] No further splits with positive gain, best gain: -inf\n",
      "[289]\tvalid_0's binary_logloss: 0.194122\n",
      "[LightGBM] [Warning] No further splits with positive gain, best gain: -inf\n",
      "[290]\tvalid_0's binary_logloss: 0.193799\n",
      "[LightGBM] [Warning] No further splits with positive gain, best gain: -inf\n",
      "[291]\tvalid_0's binary_logloss: 0.193764\n",
      "[LightGBM] [Warning] No further splits with positive gain, best gain: -inf\n",
      "[292]\tvalid_0's binary_logloss: 0.19364\n",
      "[293]\tvalid_0's binary_logloss: 0.19328\n",
      "[LightGBM] [Warning] No further splits with positive gain, best gain: -inf\n",
      "[294]\tvalid_0's binary_logloss: 0.193328\n",
      "[LightGBM] [Warning] No further splits with positive gain, best gain: -inf\n",
      "[295]\tvalid_0's binary_logloss: 0.193271\n",
      "[LightGBM] [Warning] No further splits with positive gain, best gain: -inf\n",
      "[296]\tvalid_0's binary_logloss: 0.192958\n",
      "[LightGBM] [Warning] No further splits with positive gain, best gain: -inf\n",
      "[297]\tvalid_0's binary_logloss: 0.192858\n",
      "[LightGBM] [Warning] No further splits with positive gain, best gain: -inf\n",
      "[298]\tvalid_0's binary_logloss: 0.192743\n",
      "[LightGBM] [Warning] No further splits with positive gain, best gain: -inf\n",
      "[299]\tvalid_0's binary_logloss: 0.192679\n",
      "[LightGBM] [Warning] No further splits with positive gain, best gain: -inf\n",
      "[300]\tvalid_0's binary_logloss: 0.192382\n",
      "[LightGBM] [Warning] No further splits with positive gain, best gain: -inf\n",
      "[301]\tvalid_0's binary_logloss: 0.192149\n",
      "[LightGBM] [Warning] No further splits with positive gain, best gain: -inf\n",
      "[302]\tvalid_0's binary_logloss: 0.192168\n",
      "[LightGBM] [Warning] No further splits with positive gain, best gain: -inf\n",
      "[303]\tvalid_0's binary_logloss: 0.191883\n",
      "[LightGBM] [Warning] No further splits with positive gain, best gain: -inf\n",
      "[304]\tvalid_0's binary_logloss: 0.191652\n",
      "[LightGBM] [Warning] No further splits with positive gain, best gain: -inf\n",
      "[305]\tvalid_0's binary_logloss: 0.191387\n",
      "[LightGBM] [Warning] No further splits with positive gain, best gain: -inf\n",
      "[306]\tvalid_0's binary_logloss: 0.191104\n",
      "[LightGBM] [Warning] No further splits with positive gain, best gain: -inf\n",
      "[307]\tvalid_0's binary_logloss: 0.190769\n",
      "[LightGBM] [Warning] No further splits with positive gain, best gain: -inf\n",
      "[308]\tvalid_0's binary_logloss: 0.19049\n",
      "[LightGBM] [Warning] No further splits with positive gain, best gain: -inf\n",
      "[309]\tvalid_0's binary_logloss: 0.190206\n",
      "[LightGBM] [Warning] No further splits with positive gain, best gain: -inf\n",
      "[310]\tvalid_0's binary_logloss: 0.189953\n",
      "[LightGBM] [Warning] No further splits with positive gain, best gain: -inf\n",
      "[311]\tvalid_0's binary_logloss: 0.189697\n",
      "[LightGBM] [Warning] No further splits with positive gain, best gain: -inf\n",
      "[312]\tvalid_0's binary_logloss: 0.189607\n",
      "[LightGBM] [Warning] No further splits with positive gain, best gain: -inf\n",
      "[313]\tvalid_0's binary_logloss: 0.189485\n",
      "[LightGBM] [Warning] No further splits with positive gain, best gain: -inf\n",
      "[314]\tvalid_0's binary_logloss: 0.189166\n",
      "[LightGBM] [Warning] No further splits with positive gain, best gain: -inf\n",
      "[315]\tvalid_0's binary_logloss: 0.188869\n",
      "[LightGBM] [Warning] No further splits with positive gain, best gain: -inf\n",
      "[316]\tvalid_0's binary_logloss: 0.188623\n",
      "[LightGBM] [Warning] No further splits with positive gain, best gain: -inf\n",
      "[317]\tvalid_0's binary_logloss: 0.188346\n",
      "[LightGBM] [Warning] No further splits with positive gain, best gain: -inf\n",
      "[318]\tvalid_0's binary_logloss: 0.188086\n",
      "[LightGBM] [Warning] No further splits with positive gain, best gain: -inf\n",
      "[319]\tvalid_0's binary_logloss: 0.188118\n",
      "[LightGBM] [Warning] No further splits with positive gain, best gain: -inf\n",
      "[320]\tvalid_0's binary_logloss: 0.188015\n",
      "[LightGBM] [Warning] No further splits with positive gain, best gain: -inf\n",
      "[321]\tvalid_0's binary_logloss: 0.187965\n",
      "[LightGBM] [Warning] No further splits with positive gain, best gain: -inf\n",
      "[322]\tvalid_0's binary_logloss: 0.187973\n",
      "[LightGBM] [Warning] No further splits with positive gain, best gain: -inf\n",
      "[323]\tvalid_0's binary_logloss: 0.187783\n",
      "[LightGBM] [Warning] No further splits with positive gain, best gain: -inf\n",
      "[324]\tvalid_0's binary_logloss: 0.187534\n",
      "[LightGBM] [Warning] No further splits with positive gain, best gain: -inf\n",
      "[325]\tvalid_0's binary_logloss: 0.187564\n",
      "[LightGBM] [Warning] No further splits with positive gain, best gain: -inf\n",
      "[326]\tvalid_0's binary_logloss: 0.187513\n",
      "[LightGBM] [Warning] No further splits with positive gain, best gain: -inf\n",
      "[327]\tvalid_0's binary_logloss: 0.187315\n",
      "[LightGBM] [Warning] No further splits with positive gain, best gain: -inf\n",
      "[328]\tvalid_0's binary_logloss: 0.187122\n",
      "[LightGBM] [Warning] No further splits with positive gain, best gain: -inf\n",
      "[329]\tvalid_0's binary_logloss: 0.187068\n",
      "[LightGBM] [Warning] No further splits with positive gain, best gain: -inf\n",
      "[330]\tvalid_0's binary_logloss: 0.186828\n",
      "[LightGBM] [Warning] No further splits with positive gain, best gain: -inf\n",
      "[331]\tvalid_0's binary_logloss: 0.186856\n",
      "[LightGBM] [Warning] No further splits with positive gain, best gain: -inf\n",
      "[332]\tvalid_0's binary_logloss: 0.186889\n",
      "[LightGBM] [Warning] No further splits with positive gain, best gain: -inf\n",
      "[333]\tvalid_0's binary_logloss: 0.186795\n",
      "[LightGBM] [Warning] No further splits with positive gain, best gain: -inf\n",
      "[334]\tvalid_0's binary_logloss: 0.186851\n",
      "[LightGBM] [Warning] No further splits with positive gain, best gain: -inf\n",
      "[335]\tvalid_0's binary_logloss: 0.186711\n",
      "[LightGBM] [Warning] No further splits with positive gain, best gain: -inf\n",
      "[336]\tvalid_0's binary_logloss: 0.186753\n",
      "[LightGBM] [Warning] No further splits with positive gain, best gain: -inf\n",
      "[337]\tvalid_0's binary_logloss: 0.186462\n",
      "[LightGBM] [Warning] No further splits with positive gain, best gain: -inf\n",
      "[338]\tvalid_0's binary_logloss: 0.186186\n",
      "[LightGBM] [Warning] No further splits with positive gain, best gain: -inf\n",
      "[339]\tvalid_0's binary_logloss: 0.18619\n",
      "[LightGBM] [Warning] No further splits with positive gain, best gain: -inf\n",
      "[340]\tvalid_0's binary_logloss: 0.186168\n",
      "[LightGBM] [Warning] No further splits with positive gain, best gain: -inf\n",
      "[341]\tvalid_0's binary_logloss: 0.185944\n",
      "[LightGBM] [Warning] No further splits with positive gain, best gain: -inf\n",
      "[342]\tvalid_0's binary_logloss: 0.18592\n",
      "[LightGBM] [Warning] No further splits with positive gain, best gain: -inf\n",
      "[343]\tvalid_0's binary_logloss: 0.185886\n",
      "[LightGBM] [Warning] No further splits with positive gain, best gain: -inf\n",
      "[344]\tvalid_0's binary_logloss: 0.185873\n",
      "[LightGBM] [Warning] No further splits with positive gain, best gain: -inf\n",
      "[345]\tvalid_0's binary_logloss: 0.185845\n",
      "[LightGBM] [Warning] No further splits with positive gain, best gain: -inf\n",
      "[346]\tvalid_0's binary_logloss: 0.185738\n",
      "[LightGBM] [Warning] No further splits with positive gain, best gain: -inf\n",
      "[347]\tvalid_0's binary_logloss: 0.185512\n",
      "[LightGBM] [Warning] No further splits with positive gain, best gain: -inf\n",
      "[348]\tvalid_0's binary_logloss: 0.18525\n",
      "[LightGBM] [Warning] No further splits with positive gain, best gain: -inf\n",
      "[349]\tvalid_0's binary_logloss: 0.185222\n",
      "[LightGBM] [Warning] No further splits with positive gain, best gain: -inf\n",
      "[350]\tvalid_0's binary_logloss: 0.184983\n",
      "[LightGBM] [Warning] No further splits with positive gain, best gain: -inf\n",
      "[351]\tvalid_0's binary_logloss: 0.1848\n",
      "[LightGBM] [Warning] No further splits with positive gain, best gain: -inf\n",
      "[352]\tvalid_0's binary_logloss: 0.184766\n",
      "[LightGBM] [Warning] No further splits with positive gain, best gain: -inf\n",
      "[353]\tvalid_0's binary_logloss: 0.184771\n",
      "[LightGBM] [Warning] No further splits with positive gain, best gain: -inf\n",
      "[354]\tvalid_0's binary_logloss: 0.184534\n",
      "[LightGBM] [Warning] No further splits with positive gain, best gain: -inf\n",
      "[355]\tvalid_0's binary_logloss: 0.184298\n",
      "[LightGBM] [Warning] No further splits with positive gain, best gain: -inf\n",
      "[356]\tvalid_0's binary_logloss: 0.18428\n",
      "[LightGBM] [Warning] No further splits with positive gain, best gain: -inf\n",
      "[357]\tvalid_0's binary_logloss: 0.183993\n",
      "[LightGBM] [Warning] No further splits with positive gain, best gain: -inf\n",
      "[358]\tvalid_0's binary_logloss: 0.183728\n",
      "[LightGBM] [Warning] No further splits with positive gain, best gain: -inf\n",
      "[359]\tvalid_0's binary_logloss: 0.183706\n",
      "[LightGBM] [Warning] No further splits with positive gain, best gain: -inf\n",
      "[360]\tvalid_0's binary_logloss: 0.183432\n",
      "[LightGBM] [Warning] No further splits with positive gain, best gain: -inf\n",
      "[361]\tvalid_0's binary_logloss: 0.183253\n",
      "[LightGBM] [Warning] No further splits with positive gain, best gain: -inf\n",
      "[362]\tvalid_0's binary_logloss: 0.183032\n",
      "[LightGBM] [Warning] No further splits with positive gain, best gain: -inf\n",
      "[363]\tvalid_0's binary_logloss: 0.182822\n",
      "[LightGBM] [Warning] No further splits with positive gain, best gain: -inf\n",
      "[364]\tvalid_0's binary_logloss: 0.182846\n",
      "[LightGBM] [Warning] No further splits with positive gain, best gain: -inf\n",
      "[365]\tvalid_0's binary_logloss: 0.182622\n",
      "[LightGBM] [Warning] No further splits with positive gain, best gain: -inf\n",
      "[366]\tvalid_0's binary_logloss: 0.182389\n",
      "[LightGBM] [Warning] No further splits with positive gain, best gain: -inf\n",
      "[367]\tvalid_0's binary_logloss: 0.182442\n",
      "[LightGBM] [Warning] No further splits with positive gain, best gain: -inf\n",
      "[368]\tvalid_0's binary_logloss: 0.182474\n",
      "[LightGBM] [Warning] No further splits with positive gain, best gain: -inf\n",
      "[369]\tvalid_0's binary_logloss: 0.182248\n",
      "[LightGBM] [Warning] No further splits with positive gain, best gain: -inf\n",
      "[370]\tvalid_0's binary_logloss: 0.182182\n",
      "[LightGBM] [Warning] No further splits with positive gain, best gain: -inf\n",
      "[371]\tvalid_0's binary_logloss: 0.181961\n",
      "[LightGBM] [Warning] No further splits with positive gain, best gain: -inf\n",
      "[372]\tvalid_0's binary_logloss: 0.18173\n",
      "[LightGBM] [Warning] No further splits with positive gain, best gain: -inf\n",
      "[373]\tvalid_0's binary_logloss: 0.181474\n",
      "[LightGBM] [Warning] No further splits with positive gain, best gain: -inf\n",
      "[374]\tvalid_0's binary_logloss: 0.181313\n",
      "[LightGBM] [Warning] No further splits with positive gain, best gain: -inf\n",
      "[375]\tvalid_0's binary_logloss: 0.181361\n",
      "[LightGBM] [Warning] No further splits with positive gain, best gain: -inf\n",
      "[376]\tvalid_0's binary_logloss: 0.18136\n",
      "[LightGBM] [Warning] No further splits with positive gain, best gain: -inf\n",
      "[377]\tvalid_0's binary_logloss: 0.18115\n",
      "[LightGBM] [Warning] No further splits with positive gain, best gain: -inf\n",
      "[378]\tvalid_0's binary_logloss: 0.181172\n",
      "[LightGBM] [Warning] No further splits with positive gain, best gain: -inf\n",
      "[379]\tvalid_0's binary_logloss: 0.180907\n",
      "[LightGBM] [Warning] No further splits with positive gain, best gain: -inf\n",
      "[380]\tvalid_0's binary_logloss: 0.180932\n",
      "[LightGBM] [Warning] No further splits with positive gain, best gain: -inf\n",
      "[381]\tvalid_0's binary_logloss: 0.180967\n",
      "[LightGBM] [Warning] No further splits with positive gain, best gain: -inf\n",
      "[382]\tvalid_0's binary_logloss: 0.180924\n",
      "[LightGBM] [Warning] No further splits with positive gain, best gain: -inf\n",
      "[383]\tvalid_0's binary_logloss: 0.180704\n",
      "[LightGBM] [Warning] No further splits with positive gain, best gain: -inf\n",
      "[384]\tvalid_0's binary_logloss: 0.180527\n",
      "[LightGBM] [Warning] No further splits with positive gain, best gain: -inf\n",
      "[385]\tvalid_0's binary_logloss: 0.180355\n",
      "[LightGBM] [Warning] No further splits with positive gain, best gain: -inf\n",
      "[386]\tvalid_0's binary_logloss: 0.180092\n",
      "[LightGBM] [Warning] No further splits with positive gain, best gain: -inf\n",
      "[387]\tvalid_0's binary_logloss: 0.179869\n",
      "[LightGBM] [Warning] No further splits with positive gain, best gain: -inf\n",
      "[388]\tvalid_0's binary_logloss: 0.179629\n",
      "[LightGBM] [Warning] No further splits with positive gain, best gain: -inf\n",
      "[389]\tvalid_0's binary_logloss: 0.179434\n",
      "[LightGBM] [Warning] No further splits with positive gain, best gain: -inf\n",
      "[390]\tvalid_0's binary_logloss: 0.179187\n",
      "[LightGBM] [Warning] No further splits with positive gain, best gain: -inf\n",
      "[391]\tvalid_0's binary_logloss: 0.178982\n",
      "[LightGBM] [Warning] No further splits with positive gain, best gain: -inf\n",
      "[392]\tvalid_0's binary_logloss: 0.178708\n",
      "[LightGBM] [Warning] No further splits with positive gain, best gain: -inf\n",
      "[393]\tvalid_0's binary_logloss: 0.178499\n",
      "[LightGBM] [Warning] No further splits with positive gain, best gain: -inf\n",
      "[394]\tvalid_0's binary_logloss: 0.178172\n",
      "[LightGBM] [Warning] No further splits with positive gain, best gain: -inf\n",
      "[395]\tvalid_0's binary_logloss: 0.177922\n",
      "[LightGBM] [Warning] No further splits with positive gain, best gain: -inf\n",
      "[396]\tvalid_0's binary_logloss: 0.17763\n",
      "[LightGBM] [Warning] No further splits with positive gain, best gain: -inf\n",
      "[397]\tvalid_0's binary_logloss: 0.177396\n",
      "[LightGBM] [Warning] No further splits with positive gain, best gain: -inf\n",
      "[398]\tvalid_0's binary_logloss: 0.177202\n",
      "[LightGBM] [Warning] No further splits with positive gain, best gain: -inf\n",
      "[399]\tvalid_0's binary_logloss: 0.177064\n",
      "[LightGBM] [Warning] No further splits with positive gain, best gain: -inf\n",
      "[400]\tvalid_0's binary_logloss: 0.176841\n",
      "[LightGBM] [Warning] No further splits with positive gain, best gain: -inf\n",
      "[401]\tvalid_0's binary_logloss: 0.176693\n",
      "[LightGBM] [Warning] No further splits with positive gain, best gain: -inf\n",
      "[402]\tvalid_0's binary_logloss: 0.176584\n",
      "[LightGBM] [Warning] No further splits with positive gain, best gain: -inf\n",
      "[403]\tvalid_0's binary_logloss: 0.176364\n",
      "[LightGBM] [Warning] No further splits with positive gain, best gain: -inf\n",
      "[404]\tvalid_0's binary_logloss: 0.176303\n",
      "[LightGBM] [Warning] No further splits with positive gain, best gain: -inf\n",
      "[405]\tvalid_0's binary_logloss: 0.176057\n",
      "[LightGBM] [Warning] No further splits with positive gain, best gain: -inf\n",
      "[406]\tvalid_0's binary_logloss: 0.175805\n",
      "[LightGBM] [Warning] No further splits with positive gain, best gain: -inf\n",
      "[407]\tvalid_0's binary_logloss: 0.175589\n",
      "[LightGBM] [Warning] No further splits with positive gain, best gain: -inf\n",
      "[408]\tvalid_0's binary_logloss: 0.175431\n",
      "[LightGBM] [Warning] No further splits with positive gain, best gain: -inf\n",
      "[409]\tvalid_0's binary_logloss: 0.175257\n",
      "[LightGBM] [Warning] No further splits with positive gain, best gain: -inf\n",
      "[410]\tvalid_0's binary_logloss: 0.175269\n",
      "[LightGBM] [Warning] No further splits with positive gain, best gain: -inf\n",
      "[411]\tvalid_0's binary_logloss: 0.175033\n",
      "[LightGBM] [Warning] No further splits with positive gain, best gain: -inf\n",
      "[412]\tvalid_0's binary_logloss: 0.175092\n",
      "[LightGBM] [Warning] No further splits with positive gain, best gain: -inf\n",
      "[413]\tvalid_0's binary_logloss: 0.174849\n",
      "[LightGBM] [Warning] No further splits with positive gain, best gain: -inf\n",
      "[414]\tvalid_0's binary_logloss: 0.174854\n",
      "[LightGBM] [Warning] No further splits with positive gain, best gain: -inf\n",
      "[415]\tvalid_0's binary_logloss: 0.174849\n",
      "[LightGBM] [Warning] No further splits with positive gain, best gain: -inf\n",
      "[416]\tvalid_0's binary_logloss: 0.174656\n",
      "[LightGBM] [Warning] No further splits with positive gain, best gain: -inf\n",
      "[417]\tvalid_0's binary_logloss: 0.174485\n",
      "[LightGBM] [Warning] No further splits with positive gain, best gain: -inf\n",
      "[418]\tvalid_0's binary_logloss: 0.174306\n",
      "[LightGBM] [Warning] No further splits with positive gain, best gain: -inf\n",
      "[419]\tvalid_0's binary_logloss: 0.174263\n",
      "[LightGBM] [Warning] No further splits with positive gain, best gain: -inf\n",
      "[420]\tvalid_0's binary_logloss: 0.174142\n",
      "[LightGBM] [Warning] No further splits with positive gain, best gain: -inf\n",
      "[421]\tvalid_0's binary_logloss: 0.174087\n",
      "[LightGBM] [Warning] No further splits with positive gain, best gain: -inf\n",
      "[422]\tvalid_0's binary_logloss: 0.173879\n",
      "[LightGBM] [Warning] No further splits with positive gain, best gain: -inf\n",
      "[423]\tvalid_0's binary_logloss: 0.173649\n",
      "[LightGBM] [Warning] No further splits with positive gain, best gain: -inf\n",
      "[424]\tvalid_0's binary_logloss: 0.173522\n",
      "[LightGBM] [Warning] No further splits with positive gain, best gain: -inf\n",
      "[425]\tvalid_0's binary_logloss: 0.173368\n",
      "[LightGBM] [Warning] No further splits with positive gain, best gain: -inf\n",
      "[426]\tvalid_0's binary_logloss: 0.173153\n",
      "[LightGBM] [Warning] No further splits with positive gain, best gain: -inf\n",
      "[427]\tvalid_0's binary_logloss: 0.173014\n",
      "[LightGBM] [Warning] No further splits with positive gain, best gain: -inf\n",
      "[428]\tvalid_0's binary_logloss: 0.172913\n",
      "[LightGBM] [Warning] No further splits with positive gain, best gain: -inf\n",
      "[429]\tvalid_0's binary_logloss: 0.172715\n",
      "[LightGBM] [Warning] No further splits with positive gain, best gain: -inf\n",
      "[430]\tvalid_0's binary_logloss: 0.172543\n",
      "[LightGBM] [Warning] No further splits with positive gain, best gain: -inf\n",
      "[431]\tvalid_0's binary_logloss: 0.172508\n",
      "[LightGBM] [Warning] No further splits with positive gain, best gain: -inf\n",
      "[432]\tvalid_0's binary_logloss: 0.172316\n",
      "[LightGBM] [Warning] No further splits with positive gain, best gain: -inf\n",
      "[433]\tvalid_0's binary_logloss: 0.172259\n",
      "[LightGBM] [Warning] No further splits with positive gain, best gain: -inf\n",
      "[434]\tvalid_0's binary_logloss: 0.172191\n",
      "[LightGBM] [Warning] No further splits with positive gain, best gain: -inf\n",
      "[435]\tvalid_0's binary_logloss: 0.171977\n",
      "[LightGBM] [Warning] No further splits with positive gain, best gain: -inf\n",
      "[436]\tvalid_0's binary_logloss: 0.171841\n",
      "[LightGBM] [Warning] No further splits with positive gain, best gain: -inf\n",
      "[437]\tvalid_0's binary_logloss: 0.17166\n",
      "[LightGBM] [Warning] No further splits with positive gain, best gain: -inf\n",
      "[438]\tvalid_0's binary_logloss: 0.17151\n",
      "[LightGBM] [Warning] No further splits with positive gain, best gain: -inf\n",
      "[439]\tvalid_0's binary_logloss: 0.171369\n",
      "[LightGBM] [Warning] No further splits with positive gain, best gain: -inf\n",
      "[440]\tvalid_0's binary_logloss: 0.171158\n",
      "[LightGBM] [Warning] No further splits with positive gain, best gain: -inf\n",
      "[441]\tvalid_0's binary_logloss: 0.171043\n",
      "[LightGBM] [Warning] No further splits with positive gain, best gain: -inf\n",
      "[442]\tvalid_0's binary_logloss: 0.170798\n",
      "[LightGBM] [Warning] No further splits with positive gain, best gain: -inf\n",
      "[443]\tvalid_0's binary_logloss: 0.170642\n",
      "[LightGBM] [Warning] No further splits with positive gain, best gain: -inf\n",
      "[444]\tvalid_0's binary_logloss: 0.170447\n",
      "[LightGBM] [Warning] No further splits with positive gain, best gain: -inf\n",
      "[445]\tvalid_0's binary_logloss: 0.170248\n",
      "[LightGBM] [Warning] No further splits with positive gain, best gain: -inf\n",
      "[446]\tvalid_0's binary_logloss: 0.170024\n",
      "[LightGBM] [Warning] No further splits with positive gain, best gain: -inf\n",
      "[447]\tvalid_0's binary_logloss: 0.16989\n",
      "[LightGBM] [Warning] No further splits with positive gain, best gain: -inf\n",
      "[448]\tvalid_0's binary_logloss: 0.169716\n",
      "[LightGBM] [Warning] No further splits with positive gain, best gain: -inf\n",
      "[449]\tvalid_0's binary_logloss: 0.169515\n",
      "[LightGBM] [Warning] No further splits with positive gain, best gain: -inf\n",
      "[450]\tvalid_0's binary_logloss: 0.169324\n",
      "[LightGBM] [Warning] No further splits with positive gain, best gain: -inf\n",
      "[451]\tvalid_0's binary_logloss: 0.169262\n",
      "[LightGBM] [Warning] No further splits with positive gain, best gain: -inf\n",
      "[452]\tvalid_0's binary_logloss: 0.169166\n",
      "[LightGBM] [Warning] No further splits with positive gain, best gain: -inf\n",
      "[453]\tvalid_0's binary_logloss: 0.168949\n",
      "[LightGBM] [Warning] No further splits with positive gain, best gain: -inf\n",
      "[454]\tvalid_0's binary_logloss: 0.16874\n",
      "[LightGBM] [Warning] No further splits with positive gain, best gain: -inf\n",
      "[455]\tvalid_0's binary_logloss: 0.168707\n",
      "[LightGBM] [Warning] No further splits with positive gain, best gain: -inf\n",
      "[456]\tvalid_0's binary_logloss: 0.16854\n",
      "[LightGBM] [Warning] No further splits with positive gain, best gain: -inf\n",
      "[457]\tvalid_0's binary_logloss: 0.16838\n",
      "[LightGBM] [Warning] No further splits with positive gain, best gain: -inf\n",
      "[458]\tvalid_0's binary_logloss: 0.168204\n",
      "[LightGBM] [Warning] No further splits with positive gain, best gain: -inf\n",
      "[459]\tvalid_0's binary_logloss: 0.16805\n",
      "[LightGBM] [Warning] No further splits with positive gain, best gain: -inf\n",
      "[460]\tvalid_0's binary_logloss: 0.16799\n",
      "[LightGBM] [Warning] No further splits with positive gain, best gain: -inf\n",
      "[461]\tvalid_0's binary_logloss: 0.167926\n",
      "[LightGBM] [Warning] No further splits with positive gain, best gain: -inf\n",
      "[462]\tvalid_0's binary_logloss: 0.167865\n",
      "[LightGBM] [Warning] No further splits with positive gain, best gain: -inf\n",
      "[463]\tvalid_0's binary_logloss: 0.167708\n",
      "[LightGBM] [Warning] No further splits with positive gain, best gain: -inf\n",
      "[464]\tvalid_0's binary_logloss: 0.167496\n",
      "[LightGBM] [Warning] No further splits with positive gain, best gain: -inf\n",
      "[465]\tvalid_0's binary_logloss: 0.167385\n",
      "[LightGBM] [Warning] No further splits with positive gain, best gain: -inf\n",
      "[466]\tvalid_0's binary_logloss: 0.167285\n",
      "[LightGBM] [Warning] No further splits with positive gain, best gain: -inf\n",
      "[467]\tvalid_0's binary_logloss: 0.167141\n",
      "[LightGBM] [Warning] No further splits with positive gain, best gain: -inf\n",
      "[468]\tvalid_0's binary_logloss: 0.167021\n",
      "[LightGBM] [Warning] No further splits with positive gain, best gain: -inf\n",
      "[469]\tvalid_0's binary_logloss: 0.166851\n",
      "[LightGBM] [Warning] No further splits with positive gain, best gain: -inf\n",
      "[470]\tvalid_0's binary_logloss: 0.166737\n",
      "[LightGBM] [Warning] No further splits with positive gain, best gain: -inf\n",
      "[471]\tvalid_0's binary_logloss: 0.166542\n",
      "[LightGBM] [Warning] No further splits with positive gain, best gain: -inf\n",
      "[472]\tvalid_0's binary_logloss: 0.166309\n",
      "[LightGBM] [Warning] No further splits with positive gain, best gain: -inf\n",
      "[473]\tvalid_0's binary_logloss: 0.166092\n",
      "[LightGBM] [Warning] No further splits with positive gain, best gain: -inf\n",
      "[474]\tvalid_0's binary_logloss: 0.165933\n",
      "[LightGBM] [Warning] No further splits with positive gain, best gain: -inf\n",
      "[475]\tvalid_0's binary_logloss: 0.16572\n",
      "[LightGBM] [Warning] No further splits with positive gain, best gain: -inf\n",
      "[476]\tvalid_0's binary_logloss: 0.165614\n",
      "[LightGBM] [Warning] No further splits with positive gain, best gain: -inf\n",
      "[477]\tvalid_0's binary_logloss: 0.165426\n",
      "[LightGBM] [Warning] No further splits with positive gain, best gain: -inf\n",
      "[478]\tvalid_0's binary_logloss: 0.165283\n",
      "[LightGBM] [Warning] No further splits with positive gain, best gain: -inf\n",
      "[479]\tvalid_0's binary_logloss: 0.165196\n",
      "[LightGBM] [Warning] No further splits with positive gain, best gain: -inf\n",
      "[480]\tvalid_0's binary_logloss: 0.165091\n",
      "[LightGBM] [Warning] No further splits with positive gain, best gain: -inf\n",
      "[481]\tvalid_0's binary_logloss: 0.164897\n",
      "[LightGBM] [Warning] No further splits with positive gain, best gain: -inf\n",
      "[482]\tvalid_0's binary_logloss: 0.164776\n",
      "[LightGBM] [Warning] No further splits with positive gain, best gain: -inf\n",
      "[483]\tvalid_0's binary_logloss: 0.164628\n",
      "[LightGBM] [Warning] No further splits with positive gain, best gain: -inf\n",
      "[484]\tvalid_0's binary_logloss: 0.164545\n",
      "[LightGBM] [Warning] No further splits with positive gain, best gain: -inf\n",
      "[485]\tvalid_0's binary_logloss: 0.164447\n",
      "[LightGBM] [Warning] No further splits with positive gain, best gain: -inf\n",
      "[486]\tvalid_0's binary_logloss: 0.16433\n",
      "[LightGBM] [Warning] No further splits with positive gain, best gain: -inf\n",
      "[487]\tvalid_0's binary_logloss: 0.164108\n",
      "[LightGBM] [Warning] No further splits with positive gain, best gain: -inf\n",
      "[488]\tvalid_0's binary_logloss: 0.163959\n",
      "[LightGBM] [Warning] No further splits with positive gain, best gain: -inf\n",
      "[489]\tvalid_0's binary_logloss: 0.163822\n",
      "[LightGBM] [Warning] No further splits with positive gain, best gain: -inf\n",
      "[490]\tvalid_0's binary_logloss: 0.163757\n",
      "[LightGBM] [Warning] No further splits with positive gain, best gain: -inf\n",
      "[491]\tvalid_0's binary_logloss: 0.163587\n",
      "[LightGBM] [Warning] No further splits with positive gain, best gain: -inf\n",
      "[492]\tvalid_0's binary_logloss: 0.163511\n",
      "[LightGBM] [Warning] No further splits with positive gain, best gain: -inf\n",
      "[493]\tvalid_0's binary_logloss: 0.163383\n",
      "[LightGBM] [Warning] No further splits with positive gain, best gain: -inf\n",
      "[494]\tvalid_0's binary_logloss: 0.163346\n",
      "[LightGBM] [Warning] No further splits with positive gain, best gain: -inf\n",
      "[495]\tvalid_0's binary_logloss: 0.163284\n",
      "[LightGBM] [Warning] No further splits with positive gain, best gain: -inf\n",
      "[496]\tvalid_0's binary_logloss: 0.163205\n",
      "[LightGBM] [Warning] No further splits with positive gain, best gain: -inf\n",
      "[497]\tvalid_0's binary_logloss: 0.163163\n",
      "[LightGBM] [Warning] No further splits with positive gain, best gain: -inf\n",
      "[498]\tvalid_0's binary_logloss: 0.163103\n",
      "[LightGBM] [Warning] No further splits with positive gain, best gain: -inf\n",
      "[499]\tvalid_0's binary_logloss: 0.16294\n",
      "[LightGBM] [Warning] No further splits with positive gain, best gain: -inf\n",
      "[500]\tvalid_0's binary_logloss: 0.162791\n",
      "[LightGBM] [Warning] No further splits with positive gain, best gain: -inf\n",
      "[501]\tvalid_0's binary_logloss: 0.162592\n",
      "[LightGBM] [Warning] No further splits with positive gain, best gain: -inf\n",
      "[502]\tvalid_0's binary_logloss: 0.162424\n",
      "[LightGBM] [Warning] No further splits with positive gain, best gain: -inf\n",
      "[503]\tvalid_0's binary_logloss: 0.162318\n",
      "[LightGBM] [Warning] No further splits with positive gain, best gain: -inf\n",
      "[504]\tvalid_0's binary_logloss: 0.162144\n",
      "[LightGBM] [Warning] No further splits with positive gain, best gain: -inf\n",
      "[505]\tvalid_0's binary_logloss: 0.16208\n",
      "[LightGBM] [Warning] No further splits with positive gain, best gain: -inf\n",
      "[506]\tvalid_0's binary_logloss: 0.161949\n",
      "[LightGBM] [Warning] No further splits with positive gain, best gain: -inf\n",
      "[507]\tvalid_0's binary_logloss: 0.161806\n",
      "[LightGBM] [Warning] No further splits with positive gain, best gain: -inf\n",
      "[508]\tvalid_0's binary_logloss: 0.161728\n",
      "[LightGBM] [Warning] No further splits with positive gain, best gain: -inf\n",
      "[509]\tvalid_0's binary_logloss: 0.161578\n",
      "[LightGBM] [Warning] No further splits with positive gain, best gain: -inf\n",
      "[510]\tvalid_0's binary_logloss: 0.161439\n",
      "[LightGBM] [Warning] No further splits with positive gain, best gain: -inf\n",
      "[511]\tvalid_0's binary_logloss: 0.161332\n",
      "[LightGBM] [Warning] No further splits with positive gain, best gain: -inf\n",
      "[512]\tvalid_0's binary_logloss: 0.161288\n",
      "[LightGBM] [Warning] No further splits with positive gain, best gain: -inf\n",
      "[513]\tvalid_0's binary_logloss: 0.161152\n",
      "[LightGBM] [Warning] No further splits with positive gain, best gain: -inf\n",
      "[514]\tvalid_0's binary_logloss: 0.161089\n",
      "[LightGBM] [Warning] No further splits with positive gain, best gain: -inf\n",
      "[515]\tvalid_0's binary_logloss: 0.161013\n",
      "[LightGBM] [Warning] No further splits with positive gain, best gain: -inf\n",
      "[516]\tvalid_0's binary_logloss: 0.160997\n",
      "[LightGBM] [Warning] No further splits with positive gain, best gain: -inf\n",
      "[517]\tvalid_0's binary_logloss: 0.160822\n",
      "[LightGBM] [Warning] No further splits with positive gain, best gain: -inf\n",
      "[518]\tvalid_0's binary_logloss: 0.160759\n",
      "[LightGBM] [Warning] No further splits with positive gain, best gain: -inf\n",
      "[519]\tvalid_0's binary_logloss: 0.160603\n",
      "[LightGBM] [Warning] No further splits with positive gain, best gain: -inf\n",
      "[520]\tvalid_0's binary_logloss: 0.160401\n",
      "[LightGBM] [Warning] No further splits with positive gain, best gain: -inf\n",
      "[521]\tvalid_0's binary_logloss: 0.160297\n",
      "[LightGBM] [Warning] No further splits with positive gain, best gain: -inf\n",
      "[522]\tvalid_0's binary_logloss: 0.160174\n",
      "[LightGBM] [Warning] No further splits with positive gain, best gain: -inf\n",
      "[523]\tvalid_0's binary_logloss: 0.160136\n",
      "[LightGBM] [Warning] No further splits with positive gain, best gain: -inf\n",
      "[524]\tvalid_0's binary_logloss: 0.159995\n",
      "[LightGBM] [Warning] No further splits with positive gain, best gain: -inf\n",
      "[525]\tvalid_0's binary_logloss: 0.159801\n",
      "[LightGBM] [Warning] No further splits with positive gain, best gain: -inf\n",
      "[526]\tvalid_0's binary_logloss: 0.159674\n",
      "[LightGBM] [Warning] No further splits with positive gain, best gain: -inf\n",
      "[527]\tvalid_0's binary_logloss: 0.159568\n",
      "[LightGBM] [Warning] No further splits with positive gain, best gain: -inf\n",
      "[528]\tvalid_0's binary_logloss: 0.159422\n",
      "[LightGBM] [Warning] No further splits with positive gain, best gain: -inf\n",
      "[529]\tvalid_0's binary_logloss: 0.159306\n",
      "[LightGBM] [Warning] No further splits with positive gain, best gain: -inf\n",
      "[530]\tvalid_0's binary_logloss: 0.159183\n",
      "[LightGBM] [Warning] No further splits with positive gain, best gain: -inf\n",
      "[531]\tvalid_0's binary_logloss: 0.159153\n",
      "[LightGBM] [Warning] No further splits with positive gain, best gain: -inf\n",
      "[532]\tvalid_0's binary_logloss: 0.159042\n",
      "[LightGBM] [Warning] No further splits with positive gain, best gain: -inf\n",
      "[533]\tvalid_0's binary_logloss: 0.158907\n",
      "[LightGBM] [Warning] No further splits with positive gain, best gain: -inf\n",
      "[534]\tvalid_0's binary_logloss: 0.158867\n",
      "[LightGBM] [Warning] No further splits with positive gain, best gain: -inf\n",
      "[535]\tvalid_0's binary_logloss: 0.158801\n",
      "[LightGBM] [Warning] No further splits with positive gain, best gain: -inf\n",
      "[536]\tvalid_0's binary_logloss: 0.158628\n",
      "[LightGBM] [Warning] No further splits with positive gain, best gain: -inf\n",
      "[537]\tvalid_0's binary_logloss: 0.158445\n",
      "[LightGBM] [Warning] No further splits with positive gain, best gain: -inf\n",
      "[538]\tvalid_0's binary_logloss: 0.158265\n",
      "[LightGBM] [Warning] No further splits with positive gain, best gain: -inf\n",
      "[539]\tvalid_0's binary_logloss: 0.158138\n",
      "[LightGBM] [Warning] No further splits with positive gain, best gain: -inf\n",
      "[540]\tvalid_0's binary_logloss: 0.158019\n",
      "[LightGBM] [Warning] No further splits with positive gain, best gain: -inf\n",
      "[541]\tvalid_0's binary_logloss: 0.157877\n",
      "[LightGBM] [Warning] No further splits with positive gain, best gain: -inf\n",
      "[542]\tvalid_0's binary_logloss: 0.157846\n",
      "[LightGBM] [Warning] No further splits with positive gain, best gain: -inf\n",
      "[543]\tvalid_0's binary_logloss: 0.157638\n",
      "[LightGBM] [Warning] No further splits with positive gain, best gain: -inf\n",
      "[544]\tvalid_0's binary_logloss: 0.1576\n",
      "[LightGBM] [Warning] No further splits with positive gain, best gain: -inf\n",
      "[545]\tvalid_0's binary_logloss: 0.157416\n",
      "[LightGBM] [Warning] No further splits with positive gain, best gain: -inf\n",
      "[546]\tvalid_0's binary_logloss: 0.157395\n",
      "[LightGBM] [Warning] No further splits with positive gain, best gain: -inf\n",
      "[547]\tvalid_0's binary_logloss: 0.157311\n",
      "[LightGBM] [Warning] No further splits with positive gain, best gain: -inf\n",
      "[548]\tvalid_0's binary_logloss: 0.157186\n",
      "[LightGBM] [Warning] No further splits with positive gain, best gain: -inf\n",
      "[549]\tvalid_0's binary_logloss: 0.157038\n",
      "[LightGBM] [Warning] No further splits with positive gain, best gain: -inf\n",
      "[550]\tvalid_0's binary_logloss: 0.15687\n",
      "[LightGBM] [Warning] No further splits with positive gain, best gain: -inf\n",
      "[551]\tvalid_0's binary_logloss: 0.156776\n",
      "[LightGBM] [Warning] No further splits with positive gain, best gain: -inf\n",
      "[552]\tvalid_0's binary_logloss: 0.15668\n",
      "[LightGBM] [Warning] No further splits with positive gain, best gain: -inf\n",
      "[553]\tvalid_0's binary_logloss: 0.156493\n",
      "[LightGBM] [Warning] No further splits with positive gain, best gain: -inf\n",
      "[554]\tvalid_0's binary_logloss: 0.156399\n",
      "[LightGBM] [Warning] No further splits with positive gain, best gain: -inf\n",
      "[555]\tvalid_0's binary_logloss: 0.156259\n",
      "[LightGBM] [Warning] No further splits with positive gain, best gain: -inf\n",
      "[556]\tvalid_0's binary_logloss: 0.156161\n",
      "[LightGBM] [Warning] No further splits with positive gain, best gain: -inf\n",
      "[557]\tvalid_0's binary_logloss: 0.156031\n",
      "[LightGBM] [Warning] No further splits with positive gain, best gain: -inf\n",
      "[558]\tvalid_0's binary_logloss: 0.155884\n",
      "[LightGBM] [Warning] No further splits with positive gain, best gain: -inf\n",
      "[559]\tvalid_0's binary_logloss: 0.155817\n",
      "[LightGBM] [Warning] No further splits with positive gain, best gain: -inf\n",
      "[560]\tvalid_0's binary_logloss: 0.155708\n",
      "[LightGBM] [Warning] No further splits with positive gain, best gain: -inf\n",
      "[561]\tvalid_0's binary_logloss: 0.15559\n",
      "[LightGBM] [Warning] No further splits with positive gain, best gain: -inf\n",
      "[562]\tvalid_0's binary_logloss: 0.155558\n",
      "[LightGBM] [Warning] No further splits with positive gain, best gain: -inf\n",
      "[563]\tvalid_0's binary_logloss: 0.155366\n",
      "[LightGBM] [Warning] No further splits with positive gain, best gain: -inf\n",
      "[564]\tvalid_0's binary_logloss: 0.155286\n",
      "[LightGBM] [Warning] No further splits with positive gain, best gain: -inf\n",
      "[565]\tvalid_0's binary_logloss: 0.155196\n",
      "[LightGBM] [Warning] No further splits with positive gain, best gain: -inf\n",
      "[566]\tvalid_0's binary_logloss: 0.155156\n",
      "[LightGBM] [Warning] No further splits with positive gain, best gain: -inf\n",
      "[567]\tvalid_0's binary_logloss: 0.155031\n",
      "[LightGBM] [Warning] No further splits with positive gain, best gain: -inf\n",
      "[568]\tvalid_0's binary_logloss: 0.154952\n",
      "[LightGBM] [Warning] No further splits with positive gain, best gain: -inf\n",
      "[569]\tvalid_0's binary_logloss: 0.154921\n",
      "[LightGBM] [Warning] No further splits with positive gain, best gain: -inf\n",
      "[570]\tvalid_0's binary_logloss: 0.15477\n",
      "[LightGBM] [Warning] No further splits with positive gain, best gain: -inf\n",
      "[571]\tvalid_0's binary_logloss: 0.15466\n",
      "[LightGBM] [Warning] No further splits with positive gain, best gain: -inf\n",
      "[572]\tvalid_0's binary_logloss: 0.154591\n",
      "[LightGBM] [Warning] No further splits with positive gain, best gain: -inf\n",
      "[573]\tvalid_0's binary_logloss: 0.154562\n",
      "[LightGBM] [Warning] No further splits with positive gain, best gain: -inf\n",
      "[574]\tvalid_0's binary_logloss: 0.154429\n",
      "[LightGBM] [Warning] No further splits with positive gain, best gain: -inf\n",
      "[575]\tvalid_0's binary_logloss: 0.154324\n",
      "[LightGBM] [Warning] No further splits with positive gain, best gain: -inf\n",
      "[576]\tvalid_0's binary_logloss: 0.154224\n",
      "[LightGBM] [Warning] No further splits with positive gain, best gain: -inf\n",
      "[577]\tvalid_0's binary_logloss: 0.154145\n",
      "[LightGBM] [Warning] No further splits with positive gain, best gain: -inf\n",
      "[578]\tvalid_0's binary_logloss: 0.154006\n",
      "[LightGBM] [Warning] No further splits with positive gain, best gain: -inf\n",
      "[579]\tvalid_0's binary_logloss: 0.153911\n",
      "[LightGBM] [Warning] No further splits with positive gain, best gain: -inf\n",
      "[580]\tvalid_0's binary_logloss: 0.153772\n",
      "[LightGBM] [Warning] No further splits with positive gain, best gain: -inf\n",
      "[581]\tvalid_0's binary_logloss: 0.153676\n",
      "[LightGBM] [Warning] No further splits with positive gain, best gain: -inf\n",
      "[582]\tvalid_0's binary_logloss: 0.153653\n",
      "[LightGBM] [Warning] No further splits with positive gain, best gain: -inf\n",
      "[583]\tvalid_0's binary_logloss: 0.153528\n",
      "[LightGBM] [Warning] No further splits with positive gain, best gain: -inf\n",
      "[584]\tvalid_0's binary_logloss: 0.153489\n",
      "[LightGBM] [Warning] No further splits with positive gain, best gain: -inf\n",
      "[585]\tvalid_0's binary_logloss: 0.153393\n",
      "[LightGBM] [Warning] No further splits with positive gain, best gain: -inf\n",
      "[586]\tvalid_0's binary_logloss: 0.153353\n",
      "[LightGBM] [Warning] No further splits with positive gain, best gain: -inf\n",
      "[587]\tvalid_0's binary_logloss: 0.153175\n",
      "[LightGBM] [Warning] No further splits with positive gain, best gain: -inf\n",
      "[588]\tvalid_0's binary_logloss: 0.153122\n",
      "[LightGBM] [Warning] No further splits with positive gain, best gain: -inf\n",
      "[589]\tvalid_0's binary_logloss: 0.152981\n",
      "[LightGBM] [Warning] No further splits with positive gain, best gain: -inf\n",
      "[590]\tvalid_0's binary_logloss: 0.152899\n",
      "[LightGBM] [Warning] No further splits with positive gain, best gain: -inf\n",
      "[591]\tvalid_0's binary_logloss: 0.15276\n",
      "[LightGBM] [Warning] No further splits with positive gain, best gain: -inf\n",
      "[592]\tvalid_0's binary_logloss: 0.152712\n",
      "[LightGBM] [Warning] No further splits with positive gain, best gain: -inf\n",
      "[593]\tvalid_0's binary_logloss: 0.152616\n",
      "[LightGBM] [Warning] No further splits with positive gain, best gain: -inf\n",
      "[594]\tvalid_0's binary_logloss: 0.15256\n",
      "[LightGBM] [Warning] No further splits with positive gain, best gain: -inf\n",
      "[595]\tvalid_0's binary_logloss: 0.152471\n",
      "[LightGBM] [Warning] No further splits with positive gain, best gain: -inf\n",
      "[596]\tvalid_0's binary_logloss: 0.152381\n",
      "[LightGBM] [Warning] No further splits with positive gain, best gain: -inf\n",
      "[597]\tvalid_0's binary_logloss: 0.152303\n",
      "[LightGBM] [Warning] No further splits with positive gain, best gain: -inf\n",
      "[598]\tvalid_0's binary_logloss: 0.152222\n",
      "[LightGBM] [Warning] No further splits with positive gain, best gain: -inf\n",
      "[599]\tvalid_0's binary_logloss: 0.152124\n",
      "[LightGBM] [Warning] No further splits with positive gain, best gain: -inf\n",
      "[600]\tvalid_0's binary_logloss: 0.152103\n",
      "[LightGBM] [Warning] No further splits with positive gain, best gain: -inf\n",
      "[601]\tvalid_0's binary_logloss: 0.152017\n",
      "[LightGBM] [Warning] No further splits with positive gain, best gain: -inf\n",
      "[602]\tvalid_0's binary_logloss: 0.151924\n",
      "[LightGBM] [Warning] No further splits with positive gain, best gain: -inf\n",
      "[603]\tvalid_0's binary_logloss: 0.151824\n",
      "[LightGBM] [Warning] No further splits with positive gain, best gain: -inf\n",
      "[604]\tvalid_0's binary_logloss: 0.151799\n",
      "[LightGBM] [Warning] No further splits with positive gain, best gain: -inf\n",
      "[605]\tvalid_0's binary_logloss: 0.151712\n",
      "[LightGBM] [Warning] No further splits with positive gain, best gain: -inf\n",
      "[606]\tvalid_0's binary_logloss: 0.151668\n",
      "[LightGBM] [Warning] No further splits with positive gain, best gain: -inf\n",
      "[607]\tvalid_0's binary_logloss: 0.151523\n",
      "[LightGBM] [Warning] No further splits with positive gain, best gain: -inf\n",
      "[608]\tvalid_0's binary_logloss: 0.151486\n",
      "[LightGBM] [Warning] No further splits with positive gain, best gain: -inf\n",
      "[609]\tvalid_0's binary_logloss: 0.151361\n",
      "[LightGBM] [Warning] No further splits with positive gain, best gain: -inf\n",
      "[610]\tvalid_0's binary_logloss: 0.151275\n",
      "[LightGBM] [Warning] No further splits with positive gain, best gain: -inf\n",
      "[611]\tvalid_0's binary_logloss: 0.15123\n",
      "[LightGBM] [Warning] No further splits with positive gain, best gain: -inf\n",
      "[612]\tvalid_0's binary_logloss: 0.151185\n",
      "[LightGBM] [Warning] No further splits with positive gain, best gain: -inf\n",
      "[613]\tvalid_0's binary_logloss: 0.151041\n",
      "[LightGBM] [Warning] No further splits with positive gain, best gain: -inf\n",
      "[614]\tvalid_0's binary_logloss: 0.150925\n",
      "[LightGBM] [Warning] No further splits with positive gain, best gain: -inf\n",
      "[615]\tvalid_0's binary_logloss: 0.150851\n",
      "[LightGBM] [Warning] No further splits with positive gain, best gain: -inf\n",
      "[616]\tvalid_0's binary_logloss: 0.150751\n",
      "[LightGBM] [Warning] No further splits with positive gain, best gain: -inf\n",
      "[617]\tvalid_0's binary_logloss: 0.150688\n",
      "[LightGBM] [Warning] No further splits with positive gain, best gain: -inf\n",
      "[618]\tvalid_0's binary_logloss: 0.150531\n",
      "[LightGBM] [Warning] No further splits with positive gain, best gain: -inf\n",
      "[619]\tvalid_0's binary_logloss: 0.150471\n",
      "[LightGBM] [Warning] No further splits with positive gain, best gain: -inf\n",
      "[620]\tvalid_0's binary_logloss: 0.150363\n",
      "[LightGBM] [Warning] No further splits with positive gain, best gain: -inf\n",
      "[621]\tvalid_0's binary_logloss: 0.150283\n",
      "[LightGBM] [Warning] No further splits with positive gain, best gain: -inf\n",
      "[622]\tvalid_0's binary_logloss: 0.150214\n",
      "[LightGBM] [Warning] No further splits with positive gain, best gain: -inf\n",
      "[623]\tvalid_0's binary_logloss: 0.150158\n",
      "[LightGBM] [Warning] No further splits with positive gain, best gain: -inf\n",
      "[624]\tvalid_0's binary_logloss: 0.150047\n",
      "[LightGBM] [Warning] No further splits with positive gain, best gain: -inf\n",
      "[625]\tvalid_0's binary_logloss: 0.149954\n",
      "[LightGBM] [Warning] No further splits with positive gain, best gain: -inf\n",
      "[626]\tvalid_0's binary_logloss: 0.149906\n",
      "[LightGBM] [Warning] No further splits with positive gain, best gain: -inf\n",
      "[627]\tvalid_0's binary_logloss: 0.149861\n",
      "[LightGBM] [Warning] No further splits with positive gain, best gain: -inf\n",
      "[628]\tvalid_0's binary_logloss: 0.149811\n",
      "[LightGBM] [Warning] No further splits with positive gain, best gain: -inf\n",
      "[629]\tvalid_0's binary_logloss: 0.149751\n",
      "[LightGBM] [Warning] No further splits with positive gain, best gain: -inf\n",
      "[630]\tvalid_0's binary_logloss: 0.149682\n",
      "[LightGBM] [Warning] No further splits with positive gain, best gain: -inf\n",
      "[631]\tvalid_0's binary_logloss: 0.149555\n",
      "[LightGBM] [Warning] No further splits with positive gain, best gain: -inf\n",
      "[632]\tvalid_0's binary_logloss: 0.149468\n",
      "[LightGBM] [Warning] No further splits with positive gain, best gain: -inf\n",
      "[633]\tvalid_0's binary_logloss: 0.149431\n",
      "[LightGBM] [Warning] No further splits with positive gain, best gain: -inf\n",
      "[634]\tvalid_0's binary_logloss: 0.149394\n",
      "[LightGBM] [Warning] No further splits with positive gain, best gain: -inf\n",
      "[635]\tvalid_0's binary_logloss: 0.149282\n",
      "[LightGBM] [Warning] No further splits with positive gain, best gain: -inf\n",
      "[636]\tvalid_0's binary_logloss: 0.149182\n",
      "[LightGBM] [Warning] No further splits with positive gain, best gain: -inf\n",
      "[637]\tvalid_0's binary_logloss: 0.149169\n",
      "[LightGBM] [Warning] No further splits with positive gain, best gain: -inf\n",
      "[638]\tvalid_0's binary_logloss: 0.149111\n",
      "[LightGBM] [Warning] No further splits with positive gain, best gain: -inf\n",
      "[639]\tvalid_0's binary_logloss: 0.148972\n",
      "[LightGBM] [Warning] No further splits with positive gain, best gain: -inf\n",
      "[640]\tvalid_0's binary_logloss: 0.148917\n",
      "[LightGBM] [Warning] No further splits with positive gain, best gain: -inf\n",
      "[641]\tvalid_0's binary_logloss: 0.148862\n",
      "[LightGBM] [Warning] No further splits with positive gain, best gain: -inf\n",
      "[642]\tvalid_0's binary_logloss: 0.148746\n",
      "[LightGBM] [Warning] No further splits with positive gain, best gain: -inf\n",
      "[643]\tvalid_0's binary_logloss: 0.148644\n",
      "[LightGBM] [Warning] No further splits with positive gain, best gain: -inf\n",
      "[644]\tvalid_0's binary_logloss: 0.148599\n",
      "[LightGBM] [Warning] No further splits with positive gain, best gain: -inf\n",
      "[645]\tvalid_0's binary_logloss: 0.148487\n",
      "[LightGBM] [Warning] No further splits with positive gain, best gain: -inf\n",
      "[646]\tvalid_0's binary_logloss: 0.148418\n",
      "[LightGBM] [Warning] No further splits with positive gain, best gain: -inf\n",
      "[647]\tvalid_0's binary_logloss: 0.148353\n",
      "[LightGBM] [Warning] No further splits with positive gain, best gain: -inf\n",
      "[648]\tvalid_0's binary_logloss: 0.148347\n",
      "[LightGBM] [Warning] No further splits with positive gain, best gain: -inf\n",
      "[649]\tvalid_0's binary_logloss: 0.148247\n",
      "[LightGBM] [Warning] No further splits with positive gain, best gain: -inf\n",
      "[650]\tvalid_0's binary_logloss: 0.148197\n",
      "[LightGBM] [Warning] No further splits with positive gain, best gain: -inf\n",
      "[651]\tvalid_0's binary_logloss: 0.148159\n",
      "[LightGBM] [Warning] No further splits with positive gain, best gain: -inf\n",
      "[652]\tvalid_0's binary_logloss: 0.148054\n",
      "[LightGBM] [Warning] No further splits with positive gain, best gain: -inf\n",
      "[653]\tvalid_0's binary_logloss: 0.147996\n",
      "[LightGBM] [Warning] No further splits with positive gain, best gain: -inf\n",
      "[654]\tvalid_0's binary_logloss: 0.147914\n",
      "[655]\tvalid_0's binary_logloss: 0.14779\n",
      "[LightGBM] [Warning] No further splits with positive gain, best gain: -inf\n",
      "[656]\tvalid_0's binary_logloss: 0.14772\n",
      "[LightGBM] [Warning] No further splits with positive gain, best gain: -inf\n",
      "[657]\tvalid_0's binary_logloss: 0.147587\n",
      "[LightGBM] [Warning] No further splits with positive gain, best gain: -inf\n",
      "[658]\tvalid_0's binary_logloss: 0.14751\n",
      "[LightGBM] [Warning] No further splits with positive gain, best gain: -inf\n",
      "[659]\tvalid_0's binary_logloss: 0.147421\n",
      "[LightGBM] [Warning] No further splits with positive gain, best gain: -inf\n",
      "[660]\tvalid_0's binary_logloss: 0.147324\n",
      "[LightGBM] [Warning] No further splits with positive gain, best gain: -inf\n",
      "[661]\tvalid_0's binary_logloss: 0.1473\n",
      "[LightGBM] [Warning] No further splits with positive gain, best gain: -inf\n",
      "[662]\tvalid_0's binary_logloss: 0.147178\n",
      "[LightGBM] [Warning] No further splits with positive gain, best gain: -inf\n",
      "[663]\tvalid_0's binary_logloss: 0.147126\n",
      "[LightGBM] [Warning] No further splits with positive gain, best gain: -inf\n",
      "[664]\tvalid_0's binary_logloss: 0.147032\n",
      "[LightGBM] [Warning] No further splits with positive gain, best gain: -inf\n",
      "[665]\tvalid_0's binary_logloss: 0.146998\n",
      "[LightGBM] [Warning] No further splits with positive gain, best gain: -inf\n",
      "[666]\tvalid_0's binary_logloss: 0.146871\n",
      "[LightGBM] [Warning] No further splits with positive gain, best gain: -inf\n",
      "[667]\tvalid_0's binary_logloss: 0.146829\n",
      "[LightGBM] [Warning] No further splits with positive gain, best gain: -inf\n",
      "[668]\tvalid_0's binary_logloss: 0.146767\n",
      "[LightGBM] [Warning] No further splits with positive gain, best gain: -inf\n",
      "[669]\tvalid_0's binary_logloss: 0.146675\n",
      "[LightGBM] [Warning] No further splits with positive gain, best gain: -inf\n",
      "[670]\tvalid_0's binary_logloss: 0.146602\n",
      "[LightGBM] [Warning] No further splits with positive gain, best gain: -inf\n",
      "[671]\tvalid_0's binary_logloss: 0.146587\n",
      "[LightGBM] [Warning] No further splits with positive gain, best gain: -inf\n",
      "[672]\tvalid_0's binary_logloss: 0.146493\n",
      "[LightGBM] [Warning] No further splits with positive gain, best gain: -inf\n",
      "[673]\tvalid_0's binary_logloss: 0.146421\n",
      "[LightGBM] [Warning] No further splits with positive gain, best gain: -inf\n",
      "[674]\tvalid_0's binary_logloss: 0.146327\n",
      "[LightGBM] [Warning] No further splits with positive gain, best gain: -inf\n",
      "[675]\tvalid_0's binary_logloss: 0.146268\n",
      "[LightGBM] [Warning] No further splits with positive gain, best gain: -inf\n",
      "[676]\tvalid_0's binary_logloss: 0.14618\n",
      "[LightGBM] [Warning] No further splits with positive gain, best gain: -inf\n",
      "[677]\tvalid_0's binary_logloss: 0.146175\n",
      "[LightGBM] [Warning] No further splits with positive gain, best gain: -inf\n",
      "[678]\tvalid_0's binary_logloss: 0.146104\n",
      "[LightGBM] [Warning] No further splits with positive gain, best gain: -inf\n",
      "[679]\tvalid_0's binary_logloss: 0.146077\n",
      "[LightGBM] [Warning] No further splits with positive gain, best gain: -inf\n",
      "[680]\tvalid_0's binary_logloss: 0.146038\n",
      "[LightGBM] [Warning] No further splits with positive gain, best gain: -inf\n",
      "[681]\tvalid_0's binary_logloss: 0.145965\n",
      "[LightGBM] [Warning] No further splits with positive gain, best gain: -inf\n",
      "[682]\tvalid_0's binary_logloss: 0.145889\n",
      "[LightGBM] [Warning] No further splits with positive gain, best gain: -inf\n",
      "[683]\tvalid_0's binary_logloss: 0.145859\n",
      "[LightGBM] [Warning] No further splits with positive gain, best gain: -inf\n",
      "[684]\tvalid_0's binary_logloss: 0.145761\n",
      "[LightGBM] [Warning] No further splits with positive gain, best gain: -inf\n",
      "[685]\tvalid_0's binary_logloss: 0.145678\n",
      "[LightGBM] [Warning] No further splits with positive gain, best gain: -inf\n",
      "[686]\tvalid_0's binary_logloss: 0.145573\n",
      "[LightGBM] [Warning] No further splits with positive gain, best gain: -inf\n",
      "[687]\tvalid_0's binary_logloss: 0.145499\n",
      "[LightGBM] [Warning] No further splits with positive gain, best gain: -inf\n",
      "[688]\tvalid_0's binary_logloss: 0.145289\n",
      "[LightGBM] [Warning] No further splits with positive gain, best gain: -inf\n",
      "[689]\tvalid_0's binary_logloss: 0.145238\n",
      "[LightGBM] [Warning] No further splits with positive gain, best gain: -inf\n",
      "[690]\tvalid_0's binary_logloss: 0.145169\n",
      "[LightGBM] [Warning] No further splits with positive gain, best gain: -inf\n",
      "[691]\tvalid_0's binary_logloss: 0.145095\n",
      "[LightGBM] [Warning] No further splits with positive gain, best gain: -inf\n",
      "[692]\tvalid_0's binary_logloss: 0.145056\n",
      "[LightGBM] [Warning] No further splits with positive gain, best gain: -inf\n",
      "[693]\tvalid_0's binary_logloss: 0.145028\n",
      "[LightGBM] [Warning] No further splits with positive gain, best gain: -inf\n",
      "[694]\tvalid_0's binary_logloss: 0.144927\n",
      "[LightGBM] [Warning] No further splits with positive gain, best gain: -inf\n",
      "[695]\tvalid_0's binary_logloss: 0.144817\n",
      "[LightGBM] [Warning] No further splits with positive gain, best gain: -inf\n",
      "[696]\tvalid_0's binary_logloss: 0.144748\n",
      "[LightGBM] [Warning] No further splits with positive gain, best gain: -inf\n",
      "[697]\tvalid_0's binary_logloss: 0.144623\n",
      "[LightGBM] [Warning] No further splits with positive gain, best gain: -inf\n",
      "[698]\tvalid_0's binary_logloss: 0.144559\n",
      "[LightGBM] [Warning] No further splits with positive gain, best gain: -inf\n",
      "[699]\tvalid_0's binary_logloss: 0.144435\n",
      "[LightGBM] [Warning] No further splits with positive gain, best gain: -inf\n",
      "[700]\tvalid_0's binary_logloss: 0.144326\n",
      "[LightGBM] [Warning] No further splits with positive gain, best gain: -inf\n",
      "[701]\tvalid_0's binary_logloss: 0.144246\n",
      "[LightGBM] [Warning] No further splits with positive gain, best gain: -inf\n",
      "[702]\tvalid_0's binary_logloss: 0.144129\n",
      "[LightGBM] [Warning] No further splits with positive gain, best gain: -inf\n",
      "[703]\tvalid_0's binary_logloss: 0.144021\n",
      "[704]\tvalid_0's binary_logloss: 0.143904\n",
      "[LightGBM] [Warning] No further splits with positive gain, best gain: -inf\n",
      "[705]\tvalid_0's binary_logloss: 0.143841\n",
      "[LightGBM] [Warning] No further splits with positive gain, best gain: -inf\n",
      "[706]\tvalid_0's binary_logloss: 0.143733\n",
      "[LightGBM] [Warning] No further splits with positive gain, best gain: -inf\n",
      "[707]\tvalid_0's binary_logloss: 0.14362\n",
      "[LightGBM] [Warning] No further splits with positive gain, best gain: -inf\n",
      "[708]\tvalid_0's binary_logloss: 0.143534\n",
      "[LightGBM] [Warning] No further splits with positive gain, best gain: -inf\n",
      "[709]\tvalid_0's binary_logloss: 0.143453\n",
      "[LightGBM] [Warning] No further splits with positive gain, best gain: -inf\n",
      "[710]\tvalid_0's binary_logloss: 0.143362\n",
      "[LightGBM] [Warning] No further splits with positive gain, best gain: -inf\n",
      "[711]\tvalid_0's binary_logloss: 0.14333\n",
      "[LightGBM] [Warning] No further splits with positive gain, best gain: -inf\n",
      "[712]\tvalid_0's binary_logloss: 0.143245\n",
      "[LightGBM] [Warning] No further splits with positive gain, best gain: -inf\n",
      "[713]\tvalid_0's binary_logloss: 0.143141\n",
      "[LightGBM] [Warning] No further splits with positive gain, best gain: -inf\n",
      "[714]\tvalid_0's binary_logloss: 0.143117\n",
      "[LightGBM] [Warning] No further splits with positive gain, best gain: -inf\n",
      "[715]\tvalid_0's binary_logloss: 0.143103\n",
      "[LightGBM] [Warning] No further splits with positive gain, best gain: -inf\n",
      "[716]\tvalid_0's binary_logloss: 0.143038\n",
      "[LightGBM] [Warning] No further splits with positive gain, best gain: -inf\n",
      "[717]\tvalid_0's binary_logloss: 0.142913\n",
      "[LightGBM] [Warning] No further splits with positive gain, best gain: -inf\n",
      "[718]\tvalid_0's binary_logloss: 0.142818\n",
      "[719]\tvalid_0's binary_logloss: 0.142718\n",
      "[LightGBM] [Warning] No further splits with positive gain, best gain: -inf\n",
      "[720]\tvalid_0's binary_logloss: 0.142706\n",
      "[LightGBM] [Warning] No further splits with positive gain, best gain: -inf\n",
      "[721]\tvalid_0's binary_logloss: 0.142681\n",
      "[LightGBM] [Warning] No further splits with positive gain, best gain: -inf\n",
      "[722]\tvalid_0's binary_logloss: 0.142538\n",
      "[LightGBM] [Warning] No further splits with positive gain, best gain: -inf\n",
      "[723]\tvalid_0's binary_logloss: 0.142482\n",
      "[LightGBM] [Warning] No further splits with positive gain, best gain: -inf\n",
      "[724]\tvalid_0's binary_logloss: 0.142429\n",
      "[LightGBM] [Warning] No further splits with positive gain, best gain: -inf\n",
      "[725]\tvalid_0's binary_logloss: 0.142361\n",
      "[LightGBM] [Warning] No further splits with positive gain, best gain: -inf\n",
      "[726]\tvalid_0's binary_logloss: 0.142328\n",
      "[LightGBM] [Warning] No further splits with positive gain, best gain: -inf\n",
      "[727]\tvalid_0's binary_logloss: 0.142339\n",
      "[LightGBM] [Warning] No further splits with positive gain, best gain: -inf\n",
      "[728]\tvalid_0's binary_logloss: 0.142297\n",
      "[LightGBM] [Warning] No further splits with positive gain, best gain: -inf\n",
      "[729]\tvalid_0's binary_logloss: 0.142155\n",
      "[LightGBM] [Warning] No further splits with positive gain, best gain: -inf\n",
      "[730]\tvalid_0's binary_logloss: 0.142062\n",
      "[LightGBM] [Warning] No further splits with positive gain, best gain: -inf\n",
      "[731]\tvalid_0's binary_logloss: 0.141973\n",
      "[LightGBM] [Warning] No further splits with positive gain, best gain: -inf\n",
      "[732]\tvalid_0's binary_logloss: 0.141896\n",
      "[LightGBM] [Warning] No further splits with positive gain, best gain: -inf\n",
      "[733]\tvalid_0's binary_logloss: 0.141812\n",
      "[LightGBM] [Warning] No further splits with positive gain, best gain: -inf\n",
      "[734]\tvalid_0's binary_logloss: 0.141708\n",
      "[LightGBM] [Warning] No further splits with positive gain, best gain: -inf\n",
      "[735]\tvalid_0's binary_logloss: 0.141654\n",
      "[LightGBM] [Warning] No further splits with positive gain, best gain: -inf\n",
      "[736]\tvalid_0's binary_logloss: 0.14161\n",
      "[LightGBM] [Warning] No further splits with positive gain, best gain: -inf\n",
      "[737]\tvalid_0's binary_logloss: 0.141549\n",
      "[LightGBM] [Warning] No further splits with positive gain, best gain: -inf\n",
      "[738]\tvalid_0's binary_logloss: 0.14155\n",
      "[LightGBM] [Warning] No further splits with positive gain, best gain: -inf\n",
      "[739]\tvalid_0's binary_logloss: 0.141533\n",
      "[LightGBM] [Warning] No further splits with positive gain, best gain: -inf\n",
      "[740]\tvalid_0's binary_logloss: 0.141474\n",
      "[LightGBM] [Warning] No further splits with positive gain, best gain: -inf\n",
      "[741]\tvalid_0's binary_logloss: 0.141473\n",
      "[LightGBM] [Warning] No further splits with positive gain, best gain: -inf\n",
      "[742]\tvalid_0's binary_logloss: 0.141421\n",
      "[LightGBM] [Warning] No further splits with positive gain, best gain: -inf\n",
      "[743]\tvalid_0's binary_logloss: 0.141377\n",
      "[LightGBM] [Warning] No further splits with positive gain, best gain: -inf\n",
      "[744]\tvalid_0's binary_logloss: 0.141322\n",
      "[LightGBM] [Warning] No further splits with positive gain, best gain: -inf\n",
      "[745]\tvalid_0's binary_logloss: 0.141189\n",
      "[LightGBM] [Warning] No further splits with positive gain, best gain: -inf\n",
      "[746]\tvalid_0's binary_logloss: 0.141091\n",
      "[LightGBM] [Warning] No further splits with positive gain, best gain: -inf\n",
      "[747]\tvalid_0's binary_logloss: 0.140996\n",
      "[LightGBM] [Warning] No further splits with positive gain, best gain: -inf\n",
      "[748]\tvalid_0's binary_logloss: 0.140905\n",
      "[LightGBM] [Warning] No further splits with positive gain, best gain: -inf\n",
      "[749]\tvalid_0's binary_logloss: 0.140874\n",
      "[LightGBM] [Warning] No further splits with positive gain, best gain: -inf\n",
      "[750]\tvalid_0's binary_logloss: 0.140812\n",
      "[LightGBM] [Warning] No further splits with positive gain, best gain: -inf\n",
      "[751]\tvalid_0's binary_logloss: 0.140629\n",
      "[LightGBM] [Warning] No further splits with positive gain, best gain: -inf\n",
      "[752]\tvalid_0's binary_logloss: 0.140569\n",
      "[LightGBM] [Warning] No further splits with positive gain, best gain: -inf\n",
      "[753]\tvalid_0's binary_logloss: 0.140536\n",
      "[LightGBM] [Warning] No further splits with positive gain, best gain: -inf\n",
      "[754]\tvalid_0's binary_logloss: 0.140443\n",
      "[LightGBM] [Warning] No further splits with positive gain, best gain: -inf\n",
      "[755]\tvalid_0's binary_logloss: 0.14043\n",
      "[LightGBM] [Warning] No further splits with positive gain, best gain: -inf\n",
      "[756]\tvalid_0's binary_logloss: 0.140393\n",
      "[LightGBM] [Warning] No further splits with positive gain, best gain: -inf\n",
      "[757]\tvalid_0's binary_logloss: 0.140302\n",
      "[LightGBM] [Warning] No further splits with positive gain, best gain: -inf\n",
      "[758]\tvalid_0's binary_logloss: 0.140238\n",
      "[LightGBM] [Warning] No further splits with positive gain, best gain: -inf\n",
      "[759]\tvalid_0's binary_logloss: 0.140143\n",
      "[LightGBM] [Warning] No further splits with positive gain, best gain: -inf\n",
      "[760]\tvalid_0's binary_logloss: 0.140084\n",
      "[LightGBM] [Warning] No further splits with positive gain, best gain: -inf\n",
      "[761]\tvalid_0's binary_logloss: 0.140049\n",
      "[LightGBM] [Warning] No further splits with positive gain, best gain: -inf\n",
      "[762]\tvalid_0's binary_logloss: 0.139952\n",
      "[LightGBM] [Warning] No further splits with positive gain, best gain: -inf\n",
      "[763]\tvalid_0's binary_logloss: 0.139922\n",
      "[LightGBM] [Warning] No further splits with positive gain, best gain: -inf\n",
      "[764]\tvalid_0's binary_logloss: 0.139841\n",
      "[LightGBM] [Warning] No further splits with positive gain, best gain: -inf\n",
      "[765]\tvalid_0's binary_logloss: 0.139791\n",
      "[LightGBM] [Warning] No further splits with positive gain, best gain: -inf\n",
      "[766]\tvalid_0's binary_logloss: 0.139787\n",
      "[LightGBM] [Warning] No further splits with positive gain, best gain: -inf\n",
      "[767]\tvalid_0's binary_logloss: 0.139755\n",
      "[LightGBM] [Warning] No further splits with positive gain, best gain: -inf\n",
      "[768]\tvalid_0's binary_logloss: 0.139727\n",
      "[LightGBM] [Warning] No further splits with positive gain, best gain: -inf\n",
      "[769]\tvalid_0's binary_logloss: 0.139705\n",
      "[LightGBM] [Warning] No further splits with positive gain, best gain: -inf\n",
      "[770]\tvalid_0's binary_logloss: 0.139628\n",
      "[LightGBM] [Warning] No further splits with positive gain, best gain: -inf\n",
      "[771]\tvalid_0's binary_logloss: 0.139566\n",
      "[LightGBM] [Warning] No further splits with positive gain, best gain: -inf\n",
      "[772]\tvalid_0's binary_logloss: 0.139514\n",
      "[LightGBM] [Warning] No further splits with positive gain, best gain: -inf\n",
      "[773]\tvalid_0's binary_logloss: 0.139485\n",
      "[LightGBM] [Warning] No further splits with positive gain, best gain: -inf\n",
      "[774]\tvalid_0's binary_logloss: 0.139429\n",
      "[LightGBM] [Warning] No further splits with positive gain, best gain: -inf\n",
      "[775]\tvalid_0's binary_logloss: 0.139343\n",
      "[LightGBM] [Warning] No further splits with positive gain, best gain: -inf\n",
      "[776]\tvalid_0's binary_logloss: 0.139284\n",
      "[LightGBM] [Warning] No further splits with positive gain, best gain: -inf\n",
      "[777]\tvalid_0's binary_logloss: 0.139242\n",
      "[LightGBM] [Warning] No further splits with positive gain, best gain: -inf\n",
      "[778]\tvalid_0's binary_logloss: 0.139166\n",
      "[LightGBM] [Warning] No further splits with positive gain, best gain: -inf\n",
      "[779]\tvalid_0's binary_logloss: 0.139102\n",
      "[LightGBM] [Warning] No further splits with positive gain, best gain: -inf\n",
      "[780]\tvalid_0's binary_logloss: 0.138988\n",
      "[LightGBM] [Warning] No further splits with positive gain, best gain: -inf\n",
      "[781]\tvalid_0's binary_logloss: 0.138839\n",
      "[LightGBM] [Warning] No further splits with positive gain, best gain: -inf\n",
      "[782]\tvalid_0's binary_logloss: 0.138735\n",
      "[LightGBM] [Warning] No further splits with positive gain, best gain: -inf\n",
      "[783]\tvalid_0's binary_logloss: 0.138659\n",
      "[LightGBM] [Warning] No further splits with positive gain, best gain: -inf\n",
      "[784]\tvalid_0's binary_logloss: 0.138608\n",
      "[LightGBM] [Warning] No further splits with positive gain, best gain: -inf\n",
      "[785]\tvalid_0's binary_logloss: 0.138591\n",
      "[LightGBM] [Warning] No further splits with positive gain, best gain: -inf\n",
      "[786]\tvalid_0's binary_logloss: 0.138519\n",
      "[LightGBM] [Warning] No further splits with positive gain, best gain: -inf\n",
      "[787]\tvalid_0's binary_logloss: 0.138501\n",
      "[LightGBM] [Warning] No further splits with positive gain, best gain: -inf\n",
      "[788]\tvalid_0's binary_logloss: 0.138449\n",
      "[LightGBM] [Warning] No further splits with positive gain, best gain: -inf\n",
      "[789]\tvalid_0's binary_logloss: 0.138366\n",
      "[LightGBM] [Warning] No further splits with positive gain, best gain: -inf\n",
      "[790]\tvalid_0's binary_logloss: 0.13828\n",
      "[LightGBM] [Warning] No further splits with positive gain, best gain: -inf\n",
      "[791]\tvalid_0's binary_logloss: 0.138206\n",
      "[LightGBM] [Warning] No further splits with positive gain, best gain: -inf\n",
      "[792]\tvalid_0's binary_logloss: 0.138108\n",
      "[LightGBM] [Warning] No further splits with positive gain, best gain: -inf\n",
      "[793]\tvalid_0's binary_logloss: 0.137992\n",
      "[LightGBM] [Warning] No further splits with positive gain, best gain: -inf\n",
      "[794]\tvalid_0's binary_logloss: 0.137841\n",
      "[LightGBM] [Warning] No further splits with positive gain, best gain: -inf\n",
      "[795]\tvalid_0's binary_logloss: 0.137769\n",
      "[LightGBM] [Warning] No further splits with positive gain, best gain: -inf\n",
      "[796]\tvalid_0's binary_logloss: 0.137699\n",
      "[LightGBM] [Warning] No further splits with positive gain, best gain: -inf\n",
      "[797]\tvalid_0's binary_logloss: 0.137631\n",
      "[LightGBM] [Warning] No further splits with positive gain, best gain: -inf\n",
      "[798]\tvalid_0's binary_logloss: 0.13754\n",
      "[LightGBM] [Warning] No further splits with positive gain, best gain: -inf\n",
      "[799]\tvalid_0's binary_logloss: 0.137457\n",
      "[LightGBM] [Warning] No further splits with positive gain, best gain: -inf\n",
      "[800]\tvalid_0's binary_logloss: 0.137361\n",
      "[LightGBM] [Warning] No further splits with positive gain, best gain: -inf\n",
      "[801]\tvalid_0's binary_logloss: 0.137249\n",
      "[LightGBM] [Warning] No further splits with positive gain, best gain: -inf\n",
      "[802]\tvalid_0's binary_logloss: 0.137144\n",
      "[LightGBM] [Warning] No further splits with positive gain, best gain: -inf\n",
      "[803]\tvalid_0's binary_logloss: 0.137074\n",
      "[LightGBM] [Warning] No further splits with positive gain, best gain: -inf\n",
      "[804]\tvalid_0's binary_logloss: 0.136972\n",
      "[LightGBM] [Warning] No further splits with positive gain, best gain: -inf\n",
      "[805]\tvalid_0's binary_logloss: 0.136956\n",
      "[LightGBM] [Warning] No further splits with positive gain, best gain: -inf\n",
      "[806]\tvalid_0's binary_logloss: 0.136918\n",
      "[LightGBM] [Warning] No further splits with positive gain, best gain: -inf\n",
      "[807]\tvalid_0's binary_logloss: 0.136884\n",
      "[LightGBM] [Warning] No further splits with positive gain, best gain: -inf\n",
      "[808]\tvalid_0's binary_logloss: 0.136817\n",
      "[LightGBM] [Warning] No further splits with positive gain, best gain: -inf\n",
      "[809]\tvalid_0's binary_logloss: 0.136722\n",
      "[LightGBM] [Warning] No further splits with positive gain, best gain: -inf\n",
      "[810]\tvalid_0's binary_logloss: 0.136673\n",
      "[LightGBM] [Warning] No further splits with positive gain, best gain: -inf\n",
      "[811]\tvalid_0's binary_logloss: 0.136619\n",
      "[LightGBM] [Warning] No further splits with positive gain, best gain: -inf\n",
      "[812]\tvalid_0's binary_logloss: 0.136525\n",
      "[LightGBM] [Warning] No further splits with positive gain, best gain: -inf\n",
      "[813]\tvalid_0's binary_logloss: 0.1364\n",
      "[LightGBM] [Warning] No further splits with positive gain, best gain: -inf\n",
      "[814]\tvalid_0's binary_logloss: 0.136343\n",
      "[LightGBM] [Warning] No further splits with positive gain, best gain: -inf\n",
      "[815]\tvalid_0's binary_logloss: 0.136245\n",
      "[LightGBM] [Warning] No further splits with positive gain, best gain: -inf\n",
      "[816]\tvalid_0's binary_logloss: 0.136139\n",
      "[LightGBM] [Warning] No further splits with positive gain, best gain: -inf\n",
      "[817]\tvalid_0's binary_logloss: 0.136126\n",
      "[LightGBM] [Warning] No further splits with positive gain, best gain: -inf\n",
      "[818]\tvalid_0's binary_logloss: 0.136043\n",
      "[LightGBM] [Warning] No further splits with positive gain, best gain: -inf\n",
      "[819]\tvalid_0's binary_logloss: 0.135958\n",
      "[LightGBM] [Warning] No further splits with positive gain, best gain: -inf\n",
      "[820]\tvalid_0's binary_logloss: 0.13584\n",
      "[LightGBM] [Warning] No further splits with positive gain, best gain: -inf\n",
      "[821]\tvalid_0's binary_logloss: 0.135758\n",
      "[LightGBM] [Warning] No further splits with positive gain, best gain: -inf\n",
      "[822]\tvalid_0's binary_logloss: 0.135681\n",
      "[LightGBM] [Warning] No further splits with positive gain, best gain: -inf\n",
      "[823]\tvalid_0's binary_logloss: 0.135625\n",
      "[LightGBM] [Warning] No further splits with positive gain, best gain: -inf\n",
      "[824]\tvalid_0's binary_logloss: 0.135535\n",
      "[LightGBM] [Warning] No further splits with positive gain, best gain: -inf\n",
      "[825]\tvalid_0's binary_logloss: 0.135385\n",
      "[LightGBM] [Warning] No further splits with positive gain, best gain: -inf\n",
      "[826]\tvalid_0's binary_logloss: 0.135326\n",
      "[LightGBM] [Warning] No further splits with positive gain, best gain: -inf\n",
      "[827]\tvalid_0's binary_logloss: 0.13528\n",
      "[LightGBM] [Warning] No further splits with positive gain, best gain: -inf\n",
      "[828]\tvalid_0's binary_logloss: 0.135205\n",
      "[LightGBM] [Warning] No further splits with positive gain, best gain: -inf\n",
      "[829]\tvalid_0's binary_logloss: 0.135147\n",
      "[LightGBM] [Warning] No further splits with positive gain, best gain: -inf\n",
      "[830]\tvalid_0's binary_logloss: 0.135126\n",
      "[LightGBM] [Warning] No further splits with positive gain, best gain: -inf\n",
      "[831]\tvalid_0's binary_logloss: 0.135057\n",
      "[LightGBM] [Warning] No further splits with positive gain, best gain: -inf\n",
      "[832]\tvalid_0's binary_logloss: 0.135022\n",
      "[LightGBM] [Warning] No further splits with positive gain, best gain: -inf\n",
      "[833]\tvalid_0's binary_logloss: 0.134985\n",
      "[LightGBM] [Warning] No further splits with positive gain, best gain: -inf\n",
      "[834]\tvalid_0's binary_logloss: 0.134896\n",
      "[LightGBM] [Warning] No further splits with positive gain, best gain: -inf\n",
      "[835]\tvalid_0's binary_logloss: 0.134855\n",
      "[LightGBM] [Warning] No further splits with positive gain, best gain: -inf\n",
      "[836]\tvalid_0's binary_logloss: 0.134777\n",
      "[LightGBM] [Warning] No further splits with positive gain, best gain: -inf\n",
      "[837]\tvalid_0's binary_logloss: 0.134719\n",
      "[LightGBM] [Warning] No further splits with positive gain, best gain: -inf\n",
      "[838]\tvalid_0's binary_logloss: 0.134655\n",
      "[LightGBM] [Warning] No further splits with positive gain, best gain: -inf\n",
      "[839]\tvalid_0's binary_logloss: 0.134565\n",
      "[LightGBM] [Warning] No further splits with positive gain, best gain: -inf\n",
      "[840]\tvalid_0's binary_logloss: 0.134485\n",
      "[LightGBM] [Warning] No further splits with positive gain, best gain: -inf\n",
      "[841]\tvalid_0's binary_logloss: 0.134418\n",
      "[LightGBM] [Warning] No further splits with positive gain, best gain: -inf\n",
      "[842]\tvalid_0's binary_logloss: 0.134349\n",
      "[LightGBM] [Warning] No further splits with positive gain, best gain: -inf\n",
      "[843]\tvalid_0's binary_logloss: 0.134289\n",
      "[LightGBM] [Warning] No further splits with positive gain, best gain: -inf\n",
      "[844]\tvalid_0's binary_logloss: 0.134216\n",
      "[LightGBM] [Warning] No further splits with positive gain, best gain: -inf\n",
      "[845]\tvalid_0's binary_logloss: 0.134111\n",
      "[LightGBM] [Warning] No further splits with positive gain, best gain: -inf\n",
      "[846]\tvalid_0's binary_logloss: 0.134029\n",
      "[LightGBM] [Warning] No further splits with positive gain, best gain: -inf\n",
      "[847]\tvalid_0's binary_logloss: 0.133897\n",
      "[LightGBM] [Warning] No further splits with positive gain, best gain: -inf\n",
      "[848]\tvalid_0's binary_logloss: 0.133878\n",
      "[LightGBM] [Warning] No further splits with positive gain, best gain: -inf\n",
      "[849]\tvalid_0's binary_logloss: 0.133765\n",
      "[LightGBM] [Warning] No further splits with positive gain, best gain: -inf\n",
      "[850]\tvalid_0's binary_logloss: 0.133703\n",
      "[LightGBM] [Warning] No further splits with positive gain, best gain: -inf\n",
      "[851]\tvalid_0's binary_logloss: 0.133601\n",
      "[LightGBM] [Warning] No further splits with positive gain, best gain: -inf\n",
      "[852]\tvalid_0's binary_logloss: 0.133498\n",
      "[LightGBM] [Warning] No further splits with positive gain, best gain: -inf\n",
      "[853]\tvalid_0's binary_logloss: 0.133413\n",
      "[LightGBM] [Warning] No further splits with positive gain, best gain: -inf\n",
      "[854]\tvalid_0's binary_logloss: 0.133329\n",
      "[LightGBM] [Warning] No further splits with positive gain, best gain: -inf\n",
      "[855]\tvalid_0's binary_logloss: 0.133247\n",
      "[LightGBM] [Warning] No further splits with positive gain, best gain: -inf\n",
      "[856]\tvalid_0's binary_logloss: 0.133121\n",
      "[LightGBM] [Warning] No further splits with positive gain, best gain: -inf\n",
      "[857]\tvalid_0's binary_logloss: 0.133076\n",
      "[LightGBM] [Warning] No further splits with positive gain, best gain: -inf\n",
      "[858]\tvalid_0's binary_logloss: 0.133074\n",
      "[LightGBM] [Warning] No further splits with positive gain, best gain: -inf\n",
      "[859]\tvalid_0's binary_logloss: 0.133009\n",
      "[LightGBM] [Warning] No further splits with positive gain, best gain: -inf\n",
      "[860]\tvalid_0's binary_logloss: 0.132976\n",
      "[LightGBM] [Warning] No further splits with positive gain, best gain: -inf\n",
      "[861]\tvalid_0's binary_logloss: 0.132933\n",
      "[LightGBM] [Warning] No further splits with positive gain, best gain: -inf\n",
      "[862]\tvalid_0's binary_logloss: 0.132842\n",
      "[LightGBM] [Warning] No further splits with positive gain, best gain: -inf\n",
      "[863]\tvalid_0's binary_logloss: 0.132806\n",
      "[LightGBM] [Warning] No further splits with positive gain, best gain: -inf\n",
      "[864]\tvalid_0's binary_logloss: 0.132762\n",
      "[LightGBM] [Warning] No further splits with positive gain, best gain: -inf\n",
      "[865]\tvalid_0's binary_logloss: 0.132713\n",
      "[LightGBM] [Warning] No further splits with positive gain, best gain: -inf\n",
      "[866]\tvalid_0's binary_logloss: 0.132682\n",
      "[LightGBM] [Warning] No further splits with positive gain, best gain: -inf\n",
      "[867]\tvalid_0's binary_logloss: 0.13264\n",
      "[LightGBM] [Warning] No further splits with positive gain, best gain: -inf\n",
      "[868]\tvalid_0's binary_logloss: 0.13259\n",
      "[LightGBM] [Warning] No further splits with positive gain, best gain: -inf\n",
      "[869]\tvalid_0's binary_logloss: 0.13256\n",
      "[LightGBM] [Warning] No further splits with positive gain, best gain: -inf\n",
      "[870]\tvalid_0's binary_logloss: 0.132524\n",
      "[LightGBM] [Warning] No further splits with positive gain, best gain: -inf\n",
      "[871]\tvalid_0's binary_logloss: 0.132483\n",
      "[LightGBM] [Warning] No further splits with positive gain, best gain: -inf\n",
      "[872]\tvalid_0's binary_logloss: 0.132427\n",
      "[LightGBM] [Warning] No further splits with positive gain, best gain: -inf\n",
      "[873]\tvalid_0's binary_logloss: 0.13237\n",
      "[LightGBM] [Warning] No further splits with positive gain, best gain: -inf\n",
      "[874]\tvalid_0's binary_logloss: 0.132346\n",
      "[LightGBM] [Warning] No further splits with positive gain, best gain: -inf\n",
      "[875]\tvalid_0's binary_logloss: 0.132272\n",
      "[LightGBM] [Warning] No further splits with positive gain, best gain: -inf\n",
      "[876]\tvalid_0's binary_logloss: 0.132217\n",
      "[LightGBM] [Warning] No further splits with positive gain, best gain: -inf\n",
      "[877]\tvalid_0's binary_logloss: 0.13213\n",
      "[LightGBM] [Warning] No further splits with positive gain, best gain: -inf\n",
      "[878]\tvalid_0's binary_logloss: 0.13209\n",
      "[LightGBM] [Warning] No further splits with positive gain, best gain: -inf\n",
      "[879]\tvalid_0's binary_logloss: 0.131993\n",
      "[LightGBM] [Warning] No further splits with positive gain, best gain: -inf\n",
      "[880]\tvalid_0's binary_logloss: 0.131948\n",
      "[LightGBM] [Warning] No further splits with positive gain, best gain: -inf\n",
      "[881]\tvalid_0's binary_logloss: 0.131901\n",
      "[LightGBM] [Warning] No further splits with positive gain, best gain: -inf\n",
      "[882]\tvalid_0's binary_logloss: 0.131845\n",
      "[LightGBM] [Warning] No further splits with positive gain, best gain: -inf\n",
      "[883]\tvalid_0's binary_logloss: 0.131801\n",
      "[LightGBM] [Warning] No further splits with positive gain, best gain: -inf\n",
      "[884]\tvalid_0's binary_logloss: 0.131733\n",
      "[LightGBM] [Warning] No further splits with positive gain, best gain: -inf\n",
      "[885]\tvalid_0's binary_logloss: 0.13172\n",
      "[LightGBM] [Warning] No further splits with positive gain, best gain: -inf\n",
      "[886]\tvalid_0's binary_logloss: 0.131641\n",
      "[LightGBM] [Warning] No further splits with positive gain, best gain: -inf\n",
      "[887]\tvalid_0's binary_logloss: 0.131624\n",
      "[LightGBM] [Warning] No further splits with positive gain, best gain: -inf\n",
      "[888]\tvalid_0's binary_logloss: 0.131587\n",
      "[LightGBM] [Warning] No further splits with positive gain, best gain: -inf\n",
      "[889]\tvalid_0's binary_logloss: 0.131494\n",
      "[LightGBM] [Warning] No further splits with positive gain, best gain: -inf\n",
      "[890]\tvalid_0's binary_logloss: 0.131468\n",
      "[LightGBM] [Warning] No further splits with positive gain, best gain: -inf\n",
      "[891]\tvalid_0's binary_logloss: 0.131451\n",
      "[LightGBM] [Warning] No further splits with positive gain, best gain: -inf\n",
      "[892]\tvalid_0's binary_logloss: 0.131373\n",
      "[LightGBM] [Warning] No further splits with positive gain, best gain: -inf\n",
      "[893]\tvalid_0's binary_logloss: 0.131272\n",
      "[LightGBM] [Warning] No further splits with positive gain, best gain: -inf\n",
      "[894]\tvalid_0's binary_logloss: 0.131238\n",
      "[LightGBM] [Warning] No further splits with positive gain, best gain: -inf\n",
      "[895]\tvalid_0's binary_logloss: 0.131154\n",
      "[LightGBM] [Warning] No further splits with positive gain, best gain: -inf\n",
      "[896]\tvalid_0's binary_logloss: 0.131099\n",
      "[LightGBM] [Warning] No further splits with positive gain, best gain: -inf\n",
      "[897]\tvalid_0's binary_logloss: 0.131044\n",
      "[LightGBM] [Warning] No further splits with positive gain, best gain: -inf\n",
      "[898]\tvalid_0's binary_logloss: 0.131035\n",
      "[LightGBM] [Warning] No further splits with positive gain, best gain: -inf\n",
      "[899]\tvalid_0's binary_logloss: 0.13099\n",
      "[LightGBM] [Warning] No further splits with positive gain, best gain: -inf\n",
      "[900]\tvalid_0's binary_logloss: 0.130943\n",
      "[LightGBM] [Warning] No further splits with positive gain, best gain: -inf\n",
      "[901]\tvalid_0's binary_logloss: 0.130868\n",
      "[LightGBM] [Warning] No further splits with positive gain, best gain: -inf\n",
      "[902]\tvalid_0's binary_logloss: 0.130794\n",
      "[LightGBM] [Warning] No further splits with positive gain, best gain: -inf\n",
      "[903]\tvalid_0's binary_logloss: 0.130724\n",
      "[LightGBM] [Warning] No further splits with positive gain, best gain: -inf\n",
      "[904]\tvalid_0's binary_logloss: 0.130723\n",
      "[LightGBM] [Warning] No further splits with positive gain, best gain: -inf\n",
      "[905]\tvalid_0's binary_logloss: 0.130638\n",
      "[LightGBM] [Warning] No further splits with positive gain, best gain: -inf\n",
      "[906]\tvalid_0's binary_logloss: 0.130569\n",
      "[LightGBM] [Warning] No further splits with positive gain, best gain: -inf\n",
      "[907]\tvalid_0's binary_logloss: 0.130538\n",
      "[LightGBM] [Warning] No further splits with positive gain, best gain: -inf\n",
      "[908]\tvalid_0's binary_logloss: 0.130489\n",
      "[LightGBM] [Warning] No further splits with positive gain, best gain: -inf\n",
      "[909]\tvalid_0's binary_logloss: 0.130438\n",
      "[LightGBM] [Warning] No further splits with positive gain, best gain: -inf\n",
      "[910]\tvalid_0's binary_logloss: 0.130394\n",
      "[LightGBM] [Warning] No further splits with positive gain, best gain: -inf\n",
      "[911]\tvalid_0's binary_logloss: 0.130357\n",
      "[LightGBM] [Warning] No further splits with positive gain, best gain: -inf\n",
      "[912]\tvalid_0's binary_logloss: 0.13037\n",
      "[LightGBM] [Warning] No further splits with positive gain, best gain: -inf\n",
      "[913]\tvalid_0's binary_logloss: 0.130315\n",
      "[LightGBM] [Warning] No further splits with positive gain, best gain: -inf\n",
      "[914]\tvalid_0's binary_logloss: 0.130241\n",
      "[LightGBM] [Warning] No further splits with positive gain, best gain: -inf\n",
      "[915]\tvalid_0's binary_logloss: 0.130203\n",
      "[LightGBM] [Warning] No further splits with positive gain, best gain: -inf\n",
      "[916]\tvalid_0's binary_logloss: 0.130134\n",
      "[LightGBM] [Warning] No further splits with positive gain, best gain: -inf\n",
      "[917]\tvalid_0's binary_logloss: 0.130047\n",
      "[LightGBM] [Warning] No further splits with positive gain, best gain: -inf\n",
      "[918]\tvalid_0's binary_logloss: 0.130009\n",
      "[LightGBM] [Warning] No further splits with positive gain, best gain: -inf\n",
      "[919]\tvalid_0's binary_logloss: 0.129956\n",
      "[LightGBM] [Warning] No further splits with positive gain, best gain: -inf\n",
      "[920]\tvalid_0's binary_logloss: 0.129891\n",
      "[LightGBM] [Warning] No further splits with positive gain, best gain: -inf\n",
      "[921]\tvalid_0's binary_logloss: 0.12988\n",
      "[LightGBM] [Warning] No further splits with positive gain, best gain: -inf\n",
      "[922]\tvalid_0's binary_logloss: 0.129831\n",
      "[LightGBM] [Warning] No further splits with positive gain, best gain: -inf\n",
      "[923]\tvalid_0's binary_logloss: 0.12977\n",
      "[LightGBM] [Warning] No further splits with positive gain, best gain: -inf\n",
      "[924]\tvalid_0's binary_logloss: 0.129724\n",
      "[LightGBM] [Warning] No further splits with positive gain, best gain: -inf\n",
      "[925]\tvalid_0's binary_logloss: 0.129669\n",
      "[LightGBM] [Warning] No further splits with positive gain, best gain: -inf\n",
      "[926]\tvalid_0's binary_logloss: 0.129611\n",
      "[LightGBM] [Warning] No further splits with positive gain, best gain: -inf\n",
      "[927]\tvalid_0's binary_logloss: 0.129551\n",
      "[LightGBM] [Warning] No further splits with positive gain, best gain: -inf\n",
      "[928]\tvalid_0's binary_logloss: 0.129478\n",
      "[LightGBM] [Warning] No further splits with positive gain, best gain: -inf\n",
      "[929]\tvalid_0's binary_logloss: 0.129416\n",
      "[LightGBM] [Warning] No further splits with positive gain, best gain: -inf\n",
      "[930]\tvalid_0's binary_logloss: 0.129429\n",
      "[LightGBM] [Warning] No further splits with positive gain, best gain: -inf\n",
      "[931]\tvalid_0's binary_logloss: 0.129329\n",
      "[LightGBM] [Warning] No further splits with positive gain, best gain: -inf\n",
      "[932]\tvalid_0's binary_logloss: 0.129221\n",
      "[LightGBM] [Warning] No further splits with positive gain, best gain: -inf\n",
      "[933]\tvalid_0's binary_logloss: 0.129145\n",
      "[LightGBM] [Warning] No further splits with positive gain, best gain: -inf\n",
      "[934]\tvalid_0's binary_logloss: 0.129157\n",
      "[LightGBM] [Warning] No further splits with positive gain, best gain: -inf\n",
      "[935]\tvalid_0's binary_logloss: 0.129122\n",
      "[LightGBM] [Warning] No further splits with positive gain, best gain: -inf\n",
      "[936]\tvalid_0's binary_logloss: 0.129084\n",
      "[LightGBM] [Warning] No further splits with positive gain, best gain: -inf\n",
      "[937]\tvalid_0's binary_logloss: 0.128996\n",
      "[LightGBM] [Warning] No further splits with positive gain, best gain: -inf\n",
      "[938]\tvalid_0's binary_logloss: 0.12896\n",
      "[LightGBM] [Warning] No further splits with positive gain, best gain: -inf\n",
      "[939]\tvalid_0's binary_logloss: 0.128948\n",
      "[LightGBM] [Warning] No further splits with positive gain, best gain: -inf\n",
      "[940]\tvalid_0's binary_logloss: 0.128857\n",
      "[LightGBM] [Warning] No further splits with positive gain, best gain: -inf\n",
      "[941]\tvalid_0's binary_logloss: 0.128752\n",
      "[LightGBM] [Warning] No further splits with positive gain, best gain: -inf\n",
      "[942]\tvalid_0's binary_logloss: 0.128672\n",
      "[LightGBM] [Warning] No further splits with positive gain, best gain: -inf\n",
      "[943]\tvalid_0's binary_logloss: 0.128617\n",
      "[LightGBM] [Warning] No further splits with positive gain, best gain: -inf\n",
      "[944]\tvalid_0's binary_logloss: 0.128525\n",
      "[LightGBM] [Warning] No further splits with positive gain, best gain: -inf\n",
      "[945]\tvalid_0's binary_logloss: 0.128493\n",
      "[LightGBM] [Warning] No further splits with positive gain, best gain: -inf\n",
      "[946]\tvalid_0's binary_logloss: 0.128495\n",
      "[LightGBM] [Warning] No further splits with positive gain, best gain: -inf\n",
      "[947]\tvalid_0's binary_logloss: 0.128431\n",
      "[LightGBM] [Warning] No further splits with positive gain, best gain: -inf\n",
      "[948]\tvalid_0's binary_logloss: 0.128394\n",
      "[949]\tvalid_0's binary_logloss: 0.12833\n",
      "[LightGBM] [Warning] No further splits with positive gain, best gain: -inf\n",
      "[950]\tvalid_0's binary_logloss: 0.128289\n",
      "[LightGBM] [Warning] No further splits with positive gain, best gain: -inf\n",
      "[951]\tvalid_0's binary_logloss: 0.128243\n",
      "[LightGBM] [Warning] No further splits with positive gain, best gain: -inf\n",
      "[952]\tvalid_0's binary_logloss: 0.128203\n",
      "[LightGBM] [Warning] No further splits with positive gain, best gain: -inf\n",
      "[953]\tvalid_0's binary_logloss: 0.128141\n",
      "[LightGBM] [Warning] No further splits with positive gain, best gain: -inf\n",
      "[954]\tvalid_0's binary_logloss: 0.128158\n",
      "[LightGBM] [Warning] No further splits with positive gain, best gain: -inf\n",
      "[955]\tvalid_0's binary_logloss: 0.128124\n",
      "[LightGBM] [Warning] No further splits with positive gain, best gain: -inf\n",
      "[956]\tvalid_0's binary_logloss: 0.128094\n",
      "[LightGBM] [Warning] No further splits with positive gain, best gain: -inf\n",
      "[957]\tvalid_0's binary_logloss: 0.128064\n",
      "[LightGBM] [Warning] No further splits with positive gain, best gain: -inf\n",
      "[958]\tvalid_0's binary_logloss: 0.127997\n",
      "[LightGBM] [Warning] No further splits with positive gain, best gain: -inf\n",
      "[959]\tvalid_0's binary_logloss: 0.127911\n",
      "[LightGBM] [Warning] No further splits with positive gain, best gain: -inf\n",
      "[960]\tvalid_0's binary_logloss: 0.127864\n",
      "[LightGBM] [Warning] No further splits with positive gain, best gain: -inf\n",
      "[961]\tvalid_0's binary_logloss: 0.127823\n",
      "[LightGBM] [Warning] No further splits with positive gain, best gain: -inf\n",
      "[962]\tvalid_0's binary_logloss: 0.127742\n",
      "[LightGBM] [Warning] No further splits with positive gain, best gain: -inf\n",
      "[963]\tvalid_0's binary_logloss: 0.127669\n",
      "[LightGBM] [Warning] No further splits with positive gain, best gain: -inf\n",
      "[964]\tvalid_0's binary_logloss: 0.12766\n",
      "[LightGBM] [Warning] No further splits with positive gain, best gain: -inf\n",
      "[965]\tvalid_0's binary_logloss: 0.127641\n",
      "[966]\tvalid_0's binary_logloss: 0.127491\n",
      "[LightGBM] [Warning] No further splits with positive gain, best gain: -inf\n",
      "[967]\tvalid_0's binary_logloss: 0.127478\n",
      "[LightGBM] [Warning] No further splits with positive gain, best gain: -inf\n",
      "[968]\tvalid_0's binary_logloss: 0.127478\n",
      "[LightGBM] [Warning] No further splits with positive gain, best gain: -inf\n",
      "[969]\tvalid_0's binary_logloss: 0.127465\n",
      "[LightGBM] [Warning] No further splits with positive gain, best gain: -inf\n",
      "[970]\tvalid_0's binary_logloss: 0.127396\n",
      "[LightGBM] [Warning] No further splits with positive gain, best gain: -inf\n",
      "[971]\tvalid_0's binary_logloss: 0.127324\n",
      "[LightGBM] [Warning] No further splits with positive gain, best gain: -inf\n",
      "[972]\tvalid_0's binary_logloss: 0.127301\n",
      "[LightGBM] [Warning] No further splits with positive gain, best gain: -inf\n",
      "[973]\tvalid_0's binary_logloss: 0.127273\n",
      "[LightGBM] [Warning] No further splits with positive gain, best gain: -inf\n",
      "[974]\tvalid_0's binary_logloss: 0.127224\n",
      "[LightGBM] [Warning] No further splits with positive gain, best gain: -inf\n",
      "[975]\tvalid_0's binary_logloss: 0.12715\n",
      "[LightGBM] [Warning] No further splits with positive gain, best gain: -inf\n",
      "[976]\tvalid_0's binary_logloss: 0.127108\n",
      "[LightGBM] [Warning] No further splits with positive gain, best gain: -inf\n",
      "[977]\tvalid_0's binary_logloss: 0.127056\n",
      "[LightGBM] [Warning] No further splits with positive gain, best gain: -inf\n",
      "[978]\tvalid_0's binary_logloss: 0.12699\n",
      "[LightGBM] [Warning] No further splits with positive gain, best gain: -inf\n",
      "[979]\tvalid_0's binary_logloss: 0.126976\n",
      "[LightGBM] [Warning] No further splits with positive gain, best gain: -inf\n",
      "[980]\tvalid_0's binary_logloss: 0.126988\n",
      "[LightGBM] [Warning] No further splits with positive gain, best gain: -inf\n",
      "[981]\tvalid_0's binary_logloss: 0.126967\n",
      "[LightGBM] [Warning] No further splits with positive gain, best gain: -inf\n",
      "[982]\tvalid_0's binary_logloss: 0.126936\n",
      "[LightGBM] [Warning] No further splits with positive gain, best gain: -inf\n",
      "[983]\tvalid_0's binary_logloss: 0.126882\n",
      "[LightGBM] [Warning] No further splits with positive gain, best gain: -inf\n",
      "[984]\tvalid_0's binary_logloss: 0.126777\n",
      "[LightGBM] [Warning] No further splits with positive gain, best gain: -inf\n",
      "[985]\tvalid_0's binary_logloss: 0.126763\n",
      "[LightGBM] [Warning] No further splits with positive gain, best gain: -inf\n",
      "[986]\tvalid_0's binary_logloss: 0.126701\n",
      "[LightGBM] [Warning] No further splits with positive gain, best gain: -inf\n",
      "[987]\tvalid_0's binary_logloss: 0.126621\n",
      "[LightGBM] [Warning] No further splits with positive gain, best gain: -inf\n",
      "[988]\tvalid_0's binary_logloss: 0.126573\n",
      "[LightGBM] [Warning] No further splits with positive gain, best gain: -inf\n",
      "[989]\tvalid_0's binary_logloss: 0.126577\n",
      "[LightGBM] [Warning] No further splits with positive gain, best gain: -inf\n",
      "[990]\tvalid_0's binary_logloss: 0.126519\n",
      "[LightGBM] [Warning] No further splits with positive gain, best gain: -inf\n",
      "[991]\tvalid_0's binary_logloss: 0.12644\n",
      "[LightGBM] [Warning] No further splits with positive gain, best gain: -inf\n",
      "[992]\tvalid_0's binary_logloss: 0.126382\n",
      "[LightGBM] [Warning] No further splits with positive gain, best gain: -inf\n",
      "[993]\tvalid_0's binary_logloss: 0.12631\n",
      "[LightGBM] [Warning] No further splits with positive gain, best gain: -inf\n",
      "[994]\tvalid_0's binary_logloss: 0.126286\n",
      "[LightGBM] [Warning] No further splits with positive gain, best gain: -inf\n",
      "[995]\tvalid_0's binary_logloss: 0.12623\n",
      "[LightGBM] [Warning] No further splits with positive gain, best gain: -inf\n",
      "[996]\tvalid_0's binary_logloss: 0.126178\n",
      "[LightGBM] [Warning] No further splits with positive gain, best gain: -inf\n",
      "[997]\tvalid_0's binary_logloss: 0.126133\n",
      "[LightGBM] [Warning] No further splits with positive gain, best gain: -inf\n",
      "[998]\tvalid_0's binary_logloss: 0.126067\n",
      "[LightGBM] [Warning] No further splits with positive gain, best gain: -inf\n",
      "[999]\tvalid_0's binary_logloss: 0.12599\n",
      "[LightGBM] [Warning] No further splits with positive gain, best gain: -inf\n",
      "[1000]\tvalid_0's binary_logloss: 0.125979\n",
      "Did not meet early stopping. Best iteration is:\n",
      "[1000]\tvalid_0's binary_logloss: 0.125979\n"
     ]
    }
   ],
   "source": [
    "feature_names = df_train.columns.difference([\"label\"]).tolist()\n",
    "\n",
    "booster_clf = booster_clf.fit(\n",
    "    X=df_train.drop(columns=\"label\"),\n",
    "    y=df_train[\"label\"],\n",
    "    eval_set=(df_val.drop(columns=\"label\"), df_val[\"label\"]),\n",
    "    feature_name=df_train.drop(columns=\"label\").columns.tolist(),\n",
    "    categorical_feature=feature_names,\n",
    "    callbacks=[lgb.early_stopping(stopping_rounds=10), lgb.log_evaluation()],\n",
    ")"
   ]
  },
  {
   "cell_type": "code",
   "execution_count": 28,
   "metadata": {
    "execution": {
     "iopub.execute_input": "2025-05-03T23:15:46.228058Z",
     "iopub.status.busy": "2025-05-03T23:15:46.227287Z",
     "iopub.status.idle": "2025-05-03T23:15:48.890367Z",
     "shell.execute_reply": "2025-05-03T23:15:48.889717Z",
     "shell.execute_reply.started": "2025-05-03T23:15:46.228032Z"
    },
    "id": "BoJjVcFnfANY",
    "trusted": true
   },
   "outputs": [],
   "source": [
    "booster_clf_preds = booster_clf.predict(\n",
    "    df_test.drop(columns=\"label\"),\n",
    "    raw_score=True,\n",
    ")"
   ]
  },
  {
   "cell_type": "code",
   "execution_count": 29,
   "metadata": {
    "colab": {
     "base_uri": "https://localhost:8080/"
    },
    "execution": {
     "iopub.execute_input": "2025-05-03T23:15:51.689945Z",
     "iopub.status.busy": "2025-05-03T23:15:51.689374Z",
     "iopub.status.idle": "2025-05-03T23:15:51.707198Z",
     "shell.execute_reply": "2025-05-03T23:15:51.706599Z",
     "shell.execute_reply.started": "2025-05-03T23:15:51.689920Z"
    },
    "id": "ydHTEWUCfabB",
    "outputId": "d2575417-2cae-4f57-882d-df3dd371ff00",
    "trusted": true
   },
   "outputs": [
    {
     "name": "stdout",
     "output_type": "stream",
     "text": [
      "LightGBM Classifier metrics\n",
      "ROC AUC: 0.9840659433569412, logloss: 1.265528146918096\n"
     ]
    }
   ],
   "source": [
    "roc_auc = roc_auc_score(df_test[\"label\"], booster_clf_preds)\n",
    "logloss = log_loss(df_test[\"label\"], booster_clf_preds)\n",
    "\n",
    "print(\"LightGBM Classifier metrics\")\n",
    "print(f\"ROC AUC: {roc_auc}, logloss: {logloss}\")"
   ]
  },
  {
   "cell_type": "markdown",
   "metadata": {
    "id": "kPfra8DVbuDh"
   },
   "source": [
    "## LGBMRanker"
   ]
  },
  {
   "cell_type": "code",
   "execution_count": 31,
   "metadata": {
    "execution": {
     "iopub.execute_input": "2025-05-03T23:16:42.896095Z",
     "iopub.status.busy": "2025-05-03T23:16:42.895772Z",
     "iopub.status.idle": "2025-05-03T23:16:46.649363Z",
     "shell.execute_reply": "2025-05-03T23:16:46.648807Z",
     "shell.execute_reply.started": "2025-05-03T23:16:42.896071Z"
    },
    "id": "ztCUH4BuaT5j",
    "trusted": true
   },
   "outputs": [
    {
     "name": "stderr",
     "output_type": "stream",
     "text": [
      "/tmp/ipykernel_31/4218464428.py:5: FutureWarning: The default of observed=False is deprecated and will be changed to True in a future version of pandas. Pass observed=False to retain current behavior or observed=True to adopt the future default and silence this warning.\n",
      "  .groupby(\"user\", as_index=False)\n",
      "/tmp/ipykernel_31/4218464428.py:14: FutureWarning: The default of observed=False is deprecated and will be changed to True in a future version of pandas. Pass observed=False to retain current behavior or observed=True to adopt the future default and silence this warning.\n",
      "  .groupby(\"user\", as_index=False)\n"
     ]
    }
   ],
   "source": [
    "# dont want to recompile lightgbm, so must ensure group has less than 10000 queries\n",
    "\n",
    "df_train_lgb = (\n",
    "    df_train\n",
    "    .groupby(\"user\", as_index=False)\n",
    "    .sample(n=10_000, replace=True)\n",
    "    .drop_duplicates()\n",
    "    .sort_values(by=\"user\")\n",
    ")\n",
    "group = df_train_lgb[\"user\"].value_counts(sort=False).values\n",
    "\n",
    "df_val_lgb = (\n",
    "    df_val\n",
    "    .groupby(\"user\", as_index=False)\n",
    "    .sample(n=10_000, replace=True)\n",
    "    .drop_duplicates()\n",
    "    .sort_values(by=\"user\")\n",
    ")\n",
    "group_val = df_val_lgb[\"user\"].value_counts(sort=False).values"
   ]
  },
  {
   "cell_type": "code",
   "execution_count": 32,
   "metadata": {
    "execution": {
     "iopub.execute_input": "2025-05-03T23:16:52.247971Z",
     "iopub.status.busy": "2025-05-03T23:16:52.247393Z",
     "iopub.status.idle": "2025-05-03T23:16:52.256983Z",
     "shell.execute_reply": "2025-05-03T23:16:52.256334Z",
     "shell.execute_reply.started": "2025-05-03T23:16:52.247947Z"
    },
    "id": "wxshadXTZGBg",
    "trusted": true
   },
   "outputs": [],
   "source": [
    "booster_rnk = LGBMRanker(\n",
    "    objective=\"lambdarank\",\n",
    "    max_depth=5,\n",
    "    learning_rate=1e-1,\n",
    "    n_estimators=1000,\n",
    ")"
   ]
  },
  {
   "cell_type": "code",
   "execution_count": 33,
   "metadata": {
    "colab": {
     "base_uri": "https://localhost:8080/",
     "height": 400
    },
    "execution": {
     "iopub.execute_input": "2025-05-03T23:16:55.143986Z",
     "iopub.status.busy": "2025-05-03T23:16:55.143600Z",
     "iopub.status.idle": "2025-05-03T23:16:56.345074Z",
     "shell.execute_reply": "2025-05-03T23:16:56.344266Z",
     "shell.execute_reply.started": "2025-05-03T23:16:55.143952Z"
    },
    "id": "tbwxajJyZrZf",
    "outputId": "e22ebbd7-98ab-42ef-9dcd-35fca9312df5",
    "scrolled": true,
    "trusted": true
   },
   "outputs": [
    {
     "name": "stdout",
     "output_type": "stream",
     "text": [
      "[LightGBM] [Warning] Categorical features with more bins than the configured maximum bin number found.\n",
      "[LightGBM] [Warning] For categorical features, max_bin and max_bin_by_feature may be ignored with a large number of categories.\n",
      "[LightGBM] [Info] Auto-choosing row-wise multi-threading, the overhead of testing was 0.009847 seconds.\n",
      "You can set `force_row_wise=true` to remove the overhead.\n",
      "And if memory is not enough, you can set `force_col_wise=true`.\n",
      "[LightGBM] [Info] Total Bins 4989\n",
      "[LightGBM] [Info] Number of data points in the train set: 201908, number of used features: 10\n",
      "[LightGBM] [Warning] No further splits with positive gain, best gain: -inf\n",
      "[1]\tvalid_0's auc: 0.835433\tvalid_0's ndcg@1: 0.924208\tvalid_0's ndcg@2: 0.927151\tvalid_0's ndcg@3: 0.925552\tvalid_0's ndcg@4: 0.92443\tvalid_0's ndcg@5: 0.924703\n",
      "Training until validation scores don't improve for 10 rounds\n",
      "[LightGBM] [Warning] No further splits with positive gain, best gain: -inf\n",
      "[2]\tvalid_0's auc: 0.842651\tvalid_0's ndcg@1: 0.947964\tvalid_0's ndcg@2: 0.943952\tvalid_0's ndcg@3: 0.94096\tvalid_0's ndcg@4: 0.940157\tvalid_0's ndcg@5: 0.940012\n",
      "[LightGBM] [Warning] No further splits with positive gain, best gain: -inf\n",
      "[3]\tvalid_0's auc: 0.847559\tvalid_0's ndcg@1: 0.954751\tvalid_0's ndcg@2: 0.949474\tvalid_0's ndcg@3: 0.94512\tvalid_0's ndcg@4: 0.945366\tvalid_0's ndcg@5: 0.944235\n",
      "[LightGBM] [Warning] No further splits with positive gain, best gain: -inf\n",
      "[4]\tvalid_0's auc: 0.850928\tvalid_0's ndcg@1: 0.958145\tvalid_0's ndcg@2: 0.952268\tvalid_0's ndcg@3: 0.948269\tvalid_0's ndcg@4: 0.947859\tvalid_0's ndcg@5: 0.946432\n",
      "[LightGBM] [Warning] No further splits with positive gain, best gain: -inf\n",
      "[5]\tvalid_0's auc: 0.852561\tvalid_0's ndcg@1: 0.958145\tvalid_0's ndcg@2: 0.952706\tvalid_0's ndcg@3: 0.948869\tvalid_0's ndcg@4: 0.948599\tvalid_0's ndcg@5: 0.946969\n",
      "[LightGBM] [Warning] No further splits with positive gain, best gain: -inf\n",
      "[6]\tvalid_0's auc: 0.853718\tvalid_0's ndcg@1: 0.955882\tvalid_0's ndcg@2: 0.951157\tvalid_0's ndcg@3: 0.947355\tvalid_0's ndcg@4: 0.947212\tvalid_0's ndcg@5: 0.945395\n",
      "[LightGBM] [Warning] No further splits with positive gain, best gain: -inf\n",
      "[7]\tvalid_0's auc: 0.853892\tvalid_0's ndcg@1: 0.955882\tvalid_0's ndcg@2: 0.953783\tvalid_0's ndcg@3: 0.949733\tvalid_0's ndcg@4: 0.949629\tvalid_0's ndcg@5: 0.947363\n",
      "[LightGBM] [Warning] No further splits with positive gain, best gain: -inf\n",
      "[8]\tvalid_0's auc: 0.854224\tvalid_0's ndcg@1: 0.955882\tvalid_0's ndcg@2: 0.954382\tvalid_0's ndcg@3: 0.951039\tvalid_0's ndcg@4: 0.949819\tvalid_0's ndcg@5: 0.948411\n",
      "[LightGBM] [Warning] No further splits with positive gain, best gain: -inf\n",
      "[9]\tvalid_0's auc: 0.855151\tvalid_0's ndcg@1: 0.954751\tvalid_0's ndcg@2: 0.954678\tvalid_0's ndcg@3: 0.951382\tvalid_0's ndcg@4: 0.95001\tvalid_0's ndcg@5: 0.948815\n",
      "[LightGBM] [Warning] No further splits with positive gain, best gain: -inf\n",
      "[10]\tvalid_0's auc: 0.855567\tvalid_0's ndcg@1: 0.954751\tvalid_0's ndcg@2: 0.953527\tvalid_0's ndcg@3: 0.95143\tvalid_0's ndcg@4: 0.949874\tvalid_0's ndcg@5: 0.948058\n",
      "[LightGBM] [Warning] No further splits with positive gain, best gain: -inf\n",
      "[11]\tvalid_0's auc: 0.856948\tvalid_0's ndcg@1: 0.955882\tvalid_0's ndcg@2: 0.953944\tvalid_0's ndcg@3: 0.952781\tvalid_0's ndcg@4: 0.951427\tvalid_0's ndcg@5: 0.94994\n",
      "[LightGBM] [Warning] No further splits with positive gain, best gain: -inf\n",
      "[12]\tvalid_0's auc: 0.857156\tvalid_0's ndcg@1: 0.957014\tvalid_0's ndcg@2: 0.953049\tvalid_0's ndcg@3: 0.952725\tvalid_0's ndcg@4: 0.951388\tvalid_0's ndcg@5: 0.94997\n",
      "[LightGBM] [Warning] No further splits with positive gain, best gain: -inf\n",
      "[13]\tvalid_0's auc: 0.857293\tvalid_0's ndcg@1: 0.957014\tvalid_0's ndcg@2: 0.953049\tvalid_0's ndcg@3: 0.952947\tvalid_0's ndcg@4: 0.95092\tvalid_0's ndcg@5: 0.9499\n",
      "[LightGBM] [Warning] No further splits with positive gain, best gain: -inf\n",
      "[14]\tvalid_0's auc: 0.857416\tvalid_0's ndcg@1: 0.955882\tvalid_0's ndcg@2: 0.953507\tvalid_0's ndcg@3: 0.953752\tvalid_0's ndcg@4: 0.951401\tvalid_0's ndcg@5: 0.950123\n",
      "Early stopping, best iteration is:\n",
      "[4]\tvalid_0's auc: 0.850928\tvalid_0's ndcg@1: 0.958145\tvalid_0's ndcg@2: 0.952268\tvalid_0's ndcg@3: 0.948269\tvalid_0's ndcg@4: 0.947859\tvalid_0's ndcg@5: 0.946432\n"
     ]
    }
   ],
   "source": [
    "feature_names = df_train_lgb.columns.difference([\"label\"]).tolist()\n",
    "\n",
    "booster_rnk = booster_rnk.fit(\n",
    "    X=df_train_lgb.drop(columns=\"label\"),\n",
    "    y=df_train_lgb[\"label\"],\n",
    "    group=group,\n",
    "    eval_set=[(df_val_lgb.drop(columns=\"label\"), df_val_lgb[\"label\"])],\n",
    "    eval_group=[group_val],\n",
    "    feature_name=feature_names,\n",
    "    categorical_feature=feature_names,\n",
    "    callbacks=[lgb.early_stopping(stopping_rounds=10), lgb.log_evaluation()],\n",
    "    eval_metric=\"auc\",\n",
    ")"
   ]
  },
  {
   "cell_type": "code",
   "execution_count": 34,
   "metadata": {
    "execution": {
     "iopub.execute_input": "2025-05-03T23:17:01.403667Z",
     "iopub.status.busy": "2025-05-03T23:17:01.403402Z",
     "iopub.status.idle": "2025-05-03T23:17:01.423277Z",
     "shell.execute_reply": "2025-05-03T23:17:01.422521Z",
     "shell.execute_reply.started": "2025-05-03T23:17:01.403645Z"
    },
    "id": "0lPHgisgjhKz",
    "trusted": true
   },
   "outputs": [],
   "source": [
    "booster_rnk_preds = booster_rnk.predict(\n",
    "    df_test.drop(columns=\"label\"),\n",
    "    raw_score=True,\n",
    ")"
   ]
  },
  {
   "cell_type": "code",
   "execution_count": 35,
   "metadata": {
    "execution": {
     "iopub.execute_input": "2025-05-03T23:17:04.217534Z",
     "iopub.status.busy": "2025-05-03T23:17:04.217153Z",
     "iopub.status.idle": "2025-05-03T23:17:04.234239Z",
     "shell.execute_reply": "2025-05-03T23:17:04.233583Z",
     "shell.execute_reply.started": "2025-05-03T23:17:04.217510Z"
    },
    "id": "yldHPQABjpkU",
    "trusted": true
   },
   "outputs": [
    {
     "name": "stdout",
     "output_type": "stream",
     "text": [
      "LightGBM Ranker metrics\n",
      "ROC AUC: 0.8495760984054672, logloss: 5.0028704232239285\n"
     ]
    }
   ],
   "source": [
    "roc_auc = roc_auc_score(df_test[\"label\"], booster_rnk_preds)\n",
    "logloss = log_loss(df_test[\"label\"], booster_rnk_preds)\n",
    "\n",
    "print(\"LightGBM Ranker metrics\")\n",
    "print(f\"ROC AUC: {roc_auc}, logloss: {logloss}\")"
   ]
  },
  {
   "cell_type": "markdown",
   "metadata": {
    "id": "MbeOneazZGm7"
   },
   "source": [
    "# DCNv2"
   ]
  },
  {
   "cell_type": "code",
   "execution_count": 40,
   "metadata": {
    "execution": {
     "iopub.execute_input": "2025-05-03T23:26:06.942030Z",
     "iopub.status.busy": "2025-05-03T23:26:06.941631Z",
     "iopub.status.idle": "2025-05-03T23:26:06.949145Z",
     "shell.execute_reply": "2025-05-03T23:26:06.948432Z",
     "shell.execute_reply.started": "2025-05-03T23:26:06.942003Z"
    },
    "id": "b0Ldf3NRj6qp",
    "trusted": true
   },
   "outputs": [],
   "source": [
    "dcnv2_model = DCNv2(\n",
    "    model_structure=\"stacked_parallel\",\n",
    "    use_low_rank_mixture=True,\n",
    "    cross_low_rank_dim=32,\n",
    "    num_cross_layers=5,\n",
    "    num_cross_experts=4,\n",
    "    parallel_hidden_dims=[256, 512, 1024],\n",
    "    parallel_dropout=0.2,\n",
    "    parallel_use_batch_norm=True,\n",
    "    parallel_activation=nn.ReLU,\n",
    "    stacked_hidden_dims=[256, 512, 1024],\n",
    "    stacked_dropout=0.2,\n",
    "    stacked_use_batch_norm=True,\n",
    "    stacked_activation=nn.ReLU,\n",
    "    output_dim=1,\n",
    "    proj_output_embeddings=True,\n",
    ")"
   ]
  },
  {
   "cell_type": "code",
   "execution_count": 41,
   "metadata": {
    "colab": {
     "base_uri": "https://localhost:8080/",
     "height": 355,
     "referenced_widgets": [
      "7131b8f33d23481f84ccc7cfa290d346",
      "91bafa0bb9ed4befaf06640fe96ce870",
      "c54cef24ddad44c8b2f2c49289bc101a",
      "262e18f6dbf140a4b28b9e25abaaa3ef",
      "9873c35e5d6b4563b0acb1a3473799c6",
      "42da9a5c1a544923bdaa3f0202547a1f",
      "a70a35c5abee424ea662c0e0b03e8a03",
      "7f15f5426c02410382e263de52b65aa7",
      "1d713292a5d94744ae1aaba7704259d8",
      "b7a6f2e69db04433b37955fda7076d73",
      "3428d27180a843bcb07b84b6b425ce94"
     ]
    },
    "execution": {
     "iopub.execute_input": "2025-05-03T23:26:29.132573Z",
     "iopub.status.busy": "2025-05-03T23:26:29.132005Z",
     "iopub.status.idle": "2025-05-03T23:39:04.884380Z",
     "shell.execute_reply": "2025-05-03T23:39:04.883346Z",
     "shell.execute_reply.started": "2025-05-03T23:26:29.132552Z"
    },
    "id": "Yi6WyGZnkIpr",
    "outputId": "d4528272-bc87-41ce-a972-1b0275a326d0",
    "scrolled": true,
    "trusted": true
   },
   "outputs": [
    {
     "name": "stderr",
     "output_type": "stream",
     "text": [
      "[2025-05-03 23:26:29,173]{model.py:660} - INFO - Used features config: FeaturesConfig(features=[Feature(name='user', feature_type=<FeatureType.CATEGORICAL: 'categorical'>, feature_size=1, needs_embed=True, embedding_size=20, embedding_vocab_size=955, embedding_padding_idx=None), Feature(name='item', feature_type=<FeatureType.CATEGORICAL: 'categorical'>, feature_size=1, needs_embed=True, embedding_size=20, embedding_vocab_size=4083, embedding_padding_idx=None), Feature(name='daytime', feature_type=<FeatureType.CATEGORICAL: 'categorical'>, feature_size=1, needs_embed=True, embedding_size=20, embedding_vocab_size=8, embedding_padding_idx=None), Feature(name='weekday', feature_type=<FeatureType.CATEGORICAL: 'categorical'>, feature_size=1, needs_embed=True, embedding_size=20, embedding_vocab_size=8, embedding_padding_idx=None), Feature(name='isweekend', feature_type=<FeatureType.CATEGORICAL: 'categorical'>, feature_size=1, needs_embed=True, embedding_size=20, embedding_vocab_size=3, embedding_padding_idx=None), Feature(name='homework', feature_type=<FeatureType.CATEGORICAL: 'categorical'>, feature_size=1, needs_embed=True, embedding_size=20, embedding_vocab_size=4, embedding_padding_idx=None), Feature(name='cost', feature_type=<FeatureType.CATEGORICAL: 'categorical'>, feature_size=1, needs_embed=True, embedding_size=20, embedding_vocab_size=3, embedding_padding_idx=None), Feature(name='weather', feature_type=<FeatureType.CATEGORICAL: 'categorical'>, feature_size=1, needs_embed=True, embedding_size=20, embedding_vocab_size=10, embedding_padding_idx=None), Feature(name='country', feature_type=<FeatureType.CATEGORICAL: 'categorical'>, feature_size=1, needs_embed=True, embedding_size=20, embedding_vocab_size=81, embedding_padding_idx=None), Feature(name='city', feature_type=<FeatureType.CATEGORICAL: 'categorical'>, feature_size=1, needs_embed=True, embedding_size=20, embedding_vocab_size=234, embedding_padding_idx=None)])\n",
      "[2025-05-03 23:26:29,175]{model.py:675} - INFO - Artifacts path is /kaggle/working/dcnv2_artifacts\n",
      "[2025-05-03 23:26:29,175]{model.py:681} - INFO - Best model path is dcnv2_artifacts/best_model.pt\n",
      "[2025-05-03 23:26:29,181]{model.py:686} - INFO - Building features mappings\n",
      "[2025-05-03 23:26:29,181]{model.py:272} - INFO - Building mapping for feature user\n",
      "[2025-05-03 23:26:29,184]{model.py:272} - INFO - Building mapping for feature item\n",
      "[2025-05-03 23:26:29,187]{model.py:272} - INFO - Building mapping for feature daytime\n",
      "[2025-05-03 23:26:29,188]{model.py:272} - INFO - Building mapping for feature weekday\n",
      "[2025-05-03 23:26:29,190]{model.py:272} - INFO - Building mapping for feature isweekend\n",
      "[2025-05-03 23:26:29,192]{model.py:272} - INFO - Building mapping for feature homework\n",
      "[2025-05-03 23:26:29,193]{model.py:272} - INFO - Building mapping for feature cost\n",
      "[2025-05-03 23:26:29,195]{model.py:272} - INFO - Building mapping for feature weather\n",
      "[2025-05-03 23:26:29,197]{model.py:272} - INFO - Building mapping for feature country\n",
      "[2025-05-03 23:26:29,198]{model.py:272} - INFO - Building mapping for feature city\n",
      "[2025-05-03 23:26:29,200]{model.py:689} - INFO - Building train dataloader\n",
      "[2025-05-03 23:26:29,202]{model.py:297} - INFO - Encoding feature user\n",
      "[2025-05-03 23:26:29,208]{model.py:297} - INFO - Encoding feature item\n",
      "[2025-05-03 23:26:29,214]{model.py:297} - INFO - Encoding feature daytime\n",
      "[2025-05-03 23:26:29,218]{model.py:297} - INFO - Encoding feature weekday\n",
      "[2025-05-03 23:26:29,222]{model.py:297} - INFO - Encoding feature isweekend\n",
      "[2025-05-03 23:26:29,227]{model.py:297} - INFO - Encoding feature homework\n",
      "[2025-05-03 23:26:29,231]{model.py:297} - INFO - Encoding feature cost\n",
      "[2025-05-03 23:26:29,236]{model.py:297} - INFO - Encoding feature weather\n",
      "[2025-05-03 23:26:29,241]{model.py:297} - INFO - Encoding feature country\n",
      "[2025-05-03 23:26:29,245]{model.py:297} - INFO - Encoding feature city\n",
      "[2025-05-03 23:26:29,251]{model.py:702} - INFO - Building validation dataloader\n",
      "[2025-05-03 23:26:29,252]{model.py:297} - INFO - Encoding feature user\n",
      "[2025-05-03 23:26:29,255]{model.py:297} - INFO - Encoding feature item\n",
      "[2025-05-03 23:26:29,260]{model.py:297} - INFO - Encoding feature daytime\n",
      "[2025-05-03 23:26:29,262]{model.py:297} - INFO - Encoding feature weekday\n",
      "[2025-05-03 23:26:29,265]{model.py:297} - INFO - Encoding feature isweekend\n",
      "[2025-05-03 23:26:29,267]{model.py:297} - INFO - Encoding feature homework\n",
      "[2025-05-03 23:26:29,269]{model.py:297} - INFO - Encoding feature cost\n",
      "[2025-05-03 23:26:29,272]{model.py:297} - INFO - Encoding feature weather\n",
      "[2025-05-03 23:26:29,274]{model.py:297} - INFO - Encoding feature country\n",
      "[2025-05-03 23:26:29,277]{model.py:297} - INFO - Encoding feature city\n",
      "[2025-05-03 23:26:29,280]{model.py:712} - INFO - Starting training process\n"
     ]
    },
    {
     "data": {
      "application/vnd.jupyter.widget-view+json": {
       "model_id": "55a6877410b44a72a929191d34cc73b5",
       "version_major": 2,
       "version_minor": 0
      },
      "text/plain": [
       "Train epoch #0:   0%|          | 0/50 [00:00<?, ?it/s]"
      ]
     },
     "metadata": {},
     "output_type": "display_data"
    },
    {
     "name": "stderr",
     "output_type": "stream",
     "text": [
      "[2025-05-03 23:26:56,824]{model.py:567} - INFO - Finished Train Epoch #0, average metrics - [loss: 0.68184]\n"
     ]
    },
    {
     "data": {
      "application/vnd.jupyter.widget-view+json": {
       "model_id": "2aa14adcb5ac4b20aedd06b73205c87a",
       "version_major": 2,
       "version_minor": 0
      },
      "text/plain": [
       "Validation epoch #0:   0%|          | 0/15 [00:00<?, ?it/s]"
      ]
     },
     "metadata": {},
     "output_type": "display_data"
    },
    {
     "name": "stderr",
     "output_type": "stream",
     "text": [
      "[2025-05-03 23:26:59,501]{model.py:567} - INFO - Finished Validation Epoch #0, average metrics - [AUC: 0.85563, log_loss: 0.40141]\n",
      "[2025-05-03 23:27:09,904]{model.py:747} - INFO - Best model with AUC = 0.8556335798603146 was saved to dcnv2_artifacts/best_model.pt\n"
     ]
    },
    {
     "data": {
      "application/vnd.jupyter.widget-view+json": {
       "model_id": "22643a7b0f984d6ea28abf6a56cd5627",
       "version_major": 2,
       "version_minor": 0
      },
      "text/plain": [
       "Train epoch #1:   0%|          | 0/50 [00:00<?, ?it/s]"
      ]
     },
     "metadata": {},
     "output_type": "display_data"
    },
    {
     "name": "stderr",
     "output_type": "stream",
     "text": [
      "[2025-05-03 23:27:38,554]{model.py:567} - INFO - Finished Train Epoch #1, average metrics - [loss: 0.36361]\n"
     ]
    },
    {
     "data": {
      "application/vnd.jupyter.widget-view+json": {
       "model_id": "0a7dfe803b3244f19eeeb9b002f36d0e",
       "version_major": 2,
       "version_minor": 0
      },
      "text/plain": [
       "Validation epoch #1:   0%|          | 0/15 [00:00<?, ?it/s]"
      ]
     },
     "metadata": {},
     "output_type": "display_data"
    },
    {
     "name": "stderr",
     "output_type": "stream",
     "text": [
      "[2025-05-03 23:27:51,090]{model.py:567} - INFO - Finished Validation Epoch #1, average metrics - [AUC: 0.92327, log_loss: 0.30344]\n",
      "[2025-05-03 23:28:01,491]{model.py:747} - INFO - Best model with AUC = 0.9232720844770345 was saved to dcnv2_artifacts/best_model.pt\n"
     ]
    },
    {
     "data": {
      "application/vnd.jupyter.widget-view+json": {
       "model_id": "688df3cb807147238ce5b6003257e62b",
       "version_major": 2,
       "version_minor": 0
      },
      "text/plain": [
       "Train epoch #2:   0%|          | 0/50 [00:00<?, ?it/s]"
      ]
     },
     "metadata": {},
     "output_type": "display_data"
    },
    {
     "name": "stderr",
     "output_type": "stream",
     "text": [
      "[2025-05-03 23:28:29,381]{model.py:567} - INFO - Finished Train Epoch #2, average metrics - [loss: 0.31124]\n"
     ]
    },
    {
     "data": {
      "application/vnd.jupyter.widget-view+json": {
       "model_id": "618ccce945bf47e7af8d50ca3718cea9",
       "version_major": 2,
       "version_minor": 0
      },
      "text/plain": [
       "Validation epoch #2:   0%|          | 0/15 [00:00<?, ?it/s]"
      ]
     },
     "metadata": {},
     "output_type": "display_data"
    },
    {
     "name": "stderr",
     "output_type": "stream",
     "text": [
      "[2025-05-03 23:28:42,021]{model.py:567} - INFO - Finished Validation Epoch #2, average metrics - [AUC: 0.93531, log_loss: 0.28816]\n",
      "[2025-05-03 23:28:52,425]{model.py:747} - INFO - Best model with AUC = 0.9353061360651886 was saved to dcnv2_artifacts/best_model.pt\n"
     ]
    },
    {
     "data": {
      "application/vnd.jupyter.widget-view+json": {
       "model_id": "63f63312ab3a43148796629b58dcca61",
       "version_major": 2,
       "version_minor": 0
      },
      "text/plain": [
       "Train epoch #3:   0%|          | 0/50 [00:00<?, ?it/s]"
      ]
     },
     "metadata": {},
     "output_type": "display_data"
    },
    {
     "name": "stderr",
     "output_type": "stream",
     "text": [
      "[2025-05-03 23:29:20,973]{model.py:567} - INFO - Finished Train Epoch #3, average metrics - [loss: 0.29293]\n"
     ]
    },
    {
     "data": {
      "application/vnd.jupyter.widget-view+json": {
       "model_id": "d8dae6e9b77a429b9b981626d4d61f00",
       "version_major": 2,
       "version_minor": 0
      },
      "text/plain": [
       "Validation epoch #3:   0%|          | 0/15 [00:00<?, ?it/s]"
      ]
     },
     "metadata": {},
     "output_type": "display_data"
    },
    {
     "name": "stderr",
     "output_type": "stream",
     "text": [
      "[2025-05-03 23:29:33,693]{model.py:567} - INFO - Finished Validation Epoch #3, average metrics - [AUC: 0.94101, log_loss: 0.27587]\n",
      "[2025-05-03 23:29:44,088]{model.py:747} - INFO - Best model with AUC = 0.9410140084684558 was saved to dcnv2_artifacts/best_model.pt\n"
     ]
    },
    {
     "data": {
      "application/vnd.jupyter.widget-view+json": {
       "model_id": "368723f74bc1443c9190b906ccefb431",
       "version_major": 2,
       "version_minor": 0
      },
      "text/plain": [
       "Train epoch #4:   0%|          | 0/50 [00:00<?, ?it/s]"
      ]
     },
     "metadata": {},
     "output_type": "display_data"
    },
    {
     "name": "stderr",
     "output_type": "stream",
     "text": [
      "[2025-05-03 23:30:11,893]{model.py:567} - INFO - Finished Train Epoch #4, average metrics - [loss: 0.28079]\n"
     ]
    },
    {
     "data": {
      "application/vnd.jupyter.widget-view+json": {
       "model_id": "30033c6d43dc4a14ade1b7070ac642bc",
       "version_major": 2,
       "version_minor": 0
      },
      "text/plain": [
       "Validation epoch #4:   0%|          | 0/15 [00:00<?, ?it/s]"
      ]
     },
     "metadata": {},
     "output_type": "display_data"
    },
    {
     "name": "stderr",
     "output_type": "stream",
     "text": [
      "[2025-05-03 23:30:24,553]{model.py:567} - INFO - Finished Validation Epoch #4, average metrics - [AUC: 0.94513, log_loss: 0.26575]\n",
      "[2025-05-03 23:30:34,956]{model.py:747} - INFO - Best model with AUC = 0.9451311886700559 was saved to dcnv2_artifacts/best_model.pt\n"
     ]
    },
    {
     "data": {
      "application/vnd.jupyter.widget-view+json": {
       "model_id": "0526b7fd087049578001e1b86d61833d",
       "version_major": 2,
       "version_minor": 0
      },
      "text/plain": [
       "Train epoch #5:   0%|          | 0/50 [00:00<?, ?it/s]"
      ]
     },
     "metadata": {},
     "output_type": "display_data"
    },
    {
     "name": "stderr",
     "output_type": "stream",
     "text": [
      "[2025-05-03 23:31:02,066]{model.py:567} - INFO - Finished Train Epoch #5, average metrics - [loss: 0.27091]\n"
     ]
    },
    {
     "data": {
      "application/vnd.jupyter.widget-view+json": {
       "model_id": "60d2b729b0464de8bb03e3773ae1161c",
       "version_major": 2,
       "version_minor": 0
      },
      "text/plain": [
       "Validation epoch #5:   0%|          | 0/15 [00:00<?, ?it/s]"
      ]
     },
     "metadata": {},
     "output_type": "display_data"
    },
    {
     "name": "stderr",
     "output_type": "stream",
     "text": [
      "[2025-05-03 23:31:14,590]{model.py:567} - INFO - Finished Validation Epoch #5, average metrics - [AUC: 0.94759, log_loss: 0.25907]\n",
      "[2025-05-03 23:31:24,991]{model.py:747} - INFO - Best model with AUC = 0.9475922260021565 was saved to dcnv2_artifacts/best_model.pt\n"
     ]
    },
    {
     "data": {
      "application/vnd.jupyter.widget-view+json": {
       "model_id": "bdc6c8660e3b4fb49da0fbd24d13b419",
       "version_major": 2,
       "version_minor": 0
      },
      "text/plain": [
       "Train epoch #6:   0%|          | 0/50 [00:00<?, ?it/s]"
      ]
     },
     "metadata": {},
     "output_type": "display_data"
    },
    {
     "name": "stderr",
     "output_type": "stream",
     "text": [
      "[2025-05-03 23:31:53,323]{model.py:567} - INFO - Finished Train Epoch #6, average metrics - [loss: 0.26035]\n"
     ]
    },
    {
     "data": {
      "application/vnd.jupyter.widget-view+json": {
       "model_id": "34a3f458b2974adb8aad778ff7c6e8bc",
       "version_major": 2,
       "version_minor": 0
      },
      "text/plain": [
       "Validation epoch #6:   0%|          | 0/15 [00:00<?, ?it/s]"
      ]
     },
     "metadata": {},
     "output_type": "display_data"
    },
    {
     "name": "stderr",
     "output_type": "stream",
     "text": [
      "[2025-05-03 23:32:06,023]{model.py:567} - INFO - Finished Validation Epoch #6, average metrics - [AUC: 0.94967, log_loss: 0.25604]\n",
      "[2025-05-03 23:32:16,412]{model.py:747} - INFO - Best model with AUC = 0.9496696896326913 was saved to dcnv2_artifacts/best_model.pt\n"
     ]
    },
    {
     "data": {
      "application/vnd.jupyter.widget-view+json": {
       "model_id": "d7d455d0b1844bd49312ef5c9366c266",
       "version_major": 2,
       "version_minor": 0
      },
      "text/plain": [
       "Train epoch #7:   0%|          | 0/50 [00:00<?, ?it/s]"
      ]
     },
     "metadata": {},
     "output_type": "display_data"
    },
    {
     "name": "stderr",
     "output_type": "stream",
     "text": [
      "[2025-05-03 23:32:43,964]{model.py:567} - INFO - Finished Train Epoch #7, average metrics - [loss: 0.25134]\n"
     ]
    },
    {
     "data": {
      "application/vnd.jupyter.widget-view+json": {
       "model_id": "a423d48b8daa424eaf752f19b06ecab1",
       "version_major": 2,
       "version_minor": 0
      },
      "text/plain": [
       "Validation epoch #7:   0%|          | 0/15 [00:00<?, ?it/s]"
      ]
     },
     "metadata": {},
     "output_type": "display_data"
    },
    {
     "name": "stderr",
     "output_type": "stream",
     "text": [
      "[2025-05-03 23:32:56,548]{model.py:567} - INFO - Finished Validation Epoch #7, average metrics - [AUC: 0.95203, log_loss: 0.24997]\n",
      "[2025-05-03 23:33:06,950]{model.py:747} - INFO - Best model with AUC = 0.9520292078600154 was saved to dcnv2_artifacts/best_model.pt\n"
     ]
    },
    {
     "data": {
      "application/vnd.jupyter.widget-view+json": {
       "model_id": "6bd25589419040da9c71d81dfa4d05d0",
       "version_major": 2,
       "version_minor": 0
      },
      "text/plain": [
       "Train epoch #8:   0%|          | 0/50 [00:00<?, ?it/s]"
      ]
     },
     "metadata": {},
     "output_type": "display_data"
    },
    {
     "name": "stderr",
     "output_type": "stream",
     "text": [
      "[2025-05-03 23:33:34,820]{model.py:567} - INFO - Finished Train Epoch #8, average metrics - [loss: 0.24269]\n"
     ]
    },
    {
     "data": {
      "application/vnd.jupyter.widget-view+json": {
       "model_id": "436882a19ff84b22b9065a0456ba5456",
       "version_major": 2,
       "version_minor": 0
      },
      "text/plain": [
       "Validation epoch #8:   0%|          | 0/15 [00:00<?, ?it/s]"
      ]
     },
     "metadata": {},
     "output_type": "display_data"
    },
    {
     "name": "stderr",
     "output_type": "stream",
     "text": [
      "[2025-05-03 23:33:47,442]{model.py:567} - INFO - Finished Validation Epoch #8, average metrics - [AUC: 0.95196, log_loss: 0.24950]\n"
     ]
    },
    {
     "data": {
      "application/vnd.jupyter.widget-view+json": {
       "model_id": "7ca85369116b417cb1f1379c803aa458",
       "version_major": 2,
       "version_minor": 0
      },
      "text/plain": [
       "Train epoch #9:   0%|          | 0/50 [00:00<?, ?it/s]"
      ]
     },
     "metadata": {},
     "output_type": "display_data"
    },
    {
     "name": "stderr",
     "output_type": "stream",
     "text": [
      "[2025-05-03 23:34:26,162]{model.py:567} - INFO - Finished Train Epoch #9, average metrics - [loss: 0.23307]\n"
     ]
    },
    {
     "data": {
      "application/vnd.jupyter.widget-view+json": {
       "model_id": "0397043070234196984befd6cee0a4d9",
       "version_major": 2,
       "version_minor": 0
      },
      "text/plain": [
       "Validation epoch #9:   0%|          | 0/15 [00:00<?, ?it/s]"
      ]
     },
     "metadata": {},
     "output_type": "display_data"
    },
    {
     "name": "stderr",
     "output_type": "stream",
     "text": [
      "[2025-05-03 23:34:38,791]{model.py:567} - INFO - Finished Validation Epoch #9, average metrics - [AUC: 0.95573, log_loss: 0.23934]\n",
      "[2025-05-03 23:34:49,209]{model.py:747} - INFO - Best model with AUC = 0.9557284710367377 was saved to dcnv2_artifacts/best_model.pt\n"
     ]
    },
    {
     "data": {
      "application/vnd.jupyter.widget-view+json": {
       "model_id": "3bb1164e28bf414c9dad0f1c11191609",
       "version_major": 2,
       "version_minor": 0
      },
      "text/plain": [
       "Train epoch #10:   0%|          | 0/50 [00:00<?, ?it/s]"
      ]
     },
     "metadata": {},
     "output_type": "display_data"
    },
    {
     "name": "stderr",
     "output_type": "stream",
     "text": [
      "[2025-05-03 23:35:16,991]{model.py:567} - INFO - Finished Train Epoch #10, average metrics - [loss: 0.22392]\n"
     ]
    },
    {
     "data": {
      "application/vnd.jupyter.widget-view+json": {
       "model_id": "db9866c88cc84f369f07c23143f89791",
       "version_major": 2,
       "version_minor": 0
      },
      "text/plain": [
       "Validation epoch #10:   0%|          | 0/15 [00:00<?, ?it/s]"
      ]
     },
     "metadata": {},
     "output_type": "display_data"
    },
    {
     "name": "stderr",
     "output_type": "stream",
     "text": [
      "[2025-05-03 23:35:29,721]{model.py:567} - INFO - Finished Validation Epoch #10, average metrics - [AUC: 0.95822, log_loss: 0.23255]\n",
      "[2025-05-03 23:35:40,106]{model.py:747} - INFO - Best model with AUC = 0.9582157149864974 was saved to dcnv2_artifacts/best_model.pt\n"
     ]
    },
    {
     "data": {
      "application/vnd.jupyter.widget-view+json": {
       "model_id": "a1ac32a8670540fa852fe12d919d97dd",
       "version_major": 2,
       "version_minor": 0
      },
      "text/plain": [
       "Train epoch #11:   0%|          | 0/50 [00:00<?, ?it/s]"
      ]
     },
     "metadata": {},
     "output_type": "display_data"
    },
    {
     "name": "stderr",
     "output_type": "stream",
     "text": [
      "[2025-05-03 23:36:08,077]{model.py:567} - INFO - Finished Train Epoch #11, average metrics - [loss: 0.21456]\n"
     ]
    },
    {
     "data": {
      "application/vnd.jupyter.widget-view+json": {
       "model_id": "fb3a24d2005941328745afe95de305c2",
       "version_major": 2,
       "version_minor": 0
      },
      "text/plain": [
       "Validation epoch #11:   0%|          | 0/15 [00:00<?, ?it/s]"
      ]
     },
     "metadata": {},
     "output_type": "display_data"
    },
    {
     "name": "stderr",
     "output_type": "stream",
     "text": [
      "[2025-05-03 23:36:20,654]{model.py:567} - INFO - Finished Validation Epoch #11, average metrics - [AUC: 0.95918, log_loss: 0.23027]\n",
      "[2025-05-03 23:36:31,095]{model.py:747} - INFO - Best model with AUC = 0.959180522346654 was saved to dcnv2_artifacts/best_model.pt\n"
     ]
    },
    {
     "data": {
      "application/vnd.jupyter.widget-view+json": {
       "model_id": "e4829e0d16304c17b4698c1cb816029f",
       "version_major": 2,
       "version_minor": 0
      },
      "text/plain": [
       "Train epoch #12:   0%|          | 0/50 [00:00<?, ?it/s]"
      ]
     },
     "metadata": {},
     "output_type": "display_data"
    },
    {
     "name": "stderr",
     "output_type": "stream",
     "text": [
      "[2025-05-03 23:36:59,407]{model.py:567} - INFO - Finished Train Epoch #12, average metrics - [loss: 0.20913]\n"
     ]
    },
    {
     "data": {
      "application/vnd.jupyter.widget-view+json": {
       "model_id": "8ed1caad0c824714a1af1cb5a4b04072",
       "version_major": 2,
       "version_minor": 0
      },
      "text/plain": [
       "Validation epoch #12:   0%|          | 0/15 [00:00<?, ?it/s]"
      ]
     },
     "metadata": {},
     "output_type": "display_data"
    },
    {
     "name": "stderr",
     "output_type": "stream",
     "text": [
      "[2025-05-03 23:37:12,026]{model.py:567} - INFO - Finished Validation Epoch #12, average metrics - [AUC: 0.95480, log_loss: 0.25946]\n"
     ]
    },
    {
     "data": {
      "application/vnd.jupyter.widget-view+json": {
       "model_id": "91f98e8bd45e4068894202825df674cc",
       "version_major": 2,
       "version_minor": 0
      },
      "text/plain": [
       "Train epoch #13:   0%|          | 0/50 [00:00<?, ?it/s]"
      ]
     },
     "metadata": {},
     "output_type": "display_data"
    },
    {
     "name": "stderr",
     "output_type": "stream",
     "text": [
      "[2025-05-03 23:37:50,778]{model.py:567} - INFO - Finished Train Epoch #13, average metrics - [loss: 0.20814]\n"
     ]
    },
    {
     "data": {
      "application/vnd.jupyter.widget-view+json": {
       "model_id": "c34cd12444274b1d9d9237d5758a8ab0",
       "version_major": 2,
       "version_minor": 0
      },
      "text/plain": [
       "Validation epoch #13:   0%|          | 0/15 [00:00<?, ?it/s]"
      ]
     },
     "metadata": {},
     "output_type": "display_data"
    },
    {
     "name": "stderr",
     "output_type": "stream",
     "text": [
      "[2025-05-03 23:38:03,382]{model.py:567} - INFO - Finished Validation Epoch #13, average metrics - [AUC: 0.95860, log_loss: 0.23898]\n"
     ]
    },
    {
     "data": {
      "application/vnd.jupyter.widget-view+json": {
       "model_id": "76f0b16fe4074656a82b3da528ffd830",
       "version_major": 2,
       "version_minor": 0
      },
      "text/plain": [
       "Train epoch #14:   0%|          | 0/50 [00:00<?, ?it/s]"
      ]
     },
     "metadata": {},
     "output_type": "display_data"
    },
    {
     "name": "stderr",
     "output_type": "stream",
     "text": [
      "[2025-05-03 23:38:41,400]{model.py:567} - INFO - Finished Train Epoch #14, average metrics - [loss: 0.20168]\n"
     ]
    },
    {
     "data": {
      "application/vnd.jupyter.widget-view+json": {
       "model_id": "b98fdda877094e0dbb9335948b40967d",
       "version_major": 2,
       "version_minor": 0
      },
      "text/plain": [
       "Validation epoch #14:   0%|          | 0/15 [00:00<?, ?it/s]"
      ]
     },
     "metadata": {},
     "output_type": "display_data"
    },
    {
     "name": "stderr",
     "output_type": "stream",
     "text": [
      "[2025-05-03 23:38:54,118]{model.py:567} - INFO - Finished Validation Epoch #14, average metrics - [AUC: 0.96037, log_loss: 0.23079]\n",
      "[2025-05-03 23:39:04,524]{model.py:747} - INFO - Best model with AUC = 0.9603660385816352 was saved to dcnv2_artifacts/best_model.pt\n",
      "[2025-05-03 23:39:04,526]{model.py:763} - INFO - Loading best model from dcnv2_artifacts/best_model.pt\n"
     ]
    }
   ],
   "source": [
    "train_metrics_dcnv2, val_metrics_dcnv2 = dcnv2_model.fit(\n",
    "    features=df_train.drop(columns=\"label\"),\n",
    "    target=df_train[\"label\"],\n",
    "    val_features=df_val.drop(columns=\"label\"),\n",
    "    val_target=df_val[\"label\"],\n",
    "    optimizer_cls=\"torch.optim.Adam\",\n",
    "    optimizer_params=dict(lr=1e-2),\n",
    "    scheduler_cls=\"torch.optim.lr_scheduler.ReduceLROnPlateau\",\n",
    "    scheduler_params=dict(mode=\"max\", factor=0.1, patience=2, min_lr=1e-6),\n",
    "    grad_clip_threshold=10.,\n",
    "    num_epochs=15,\n",
    "    seed=42,\n",
    "    artifacts_path=\"./dcnv2_artifacts\",\n",
    "    device=\"cuda:0\",\n",
    "    batch_size=4096,\n",
    "    num_workers=2,\n",
    "    eval_metric_name=\"AUC\",\n",
    "    eval_mode=\"max\",\n",
    "    default_embedding_size=20,\n",
    "    oov_masking_proba=0.05,\n",
    "    l2_net_reg=0,\n",
    "    l2_embedding_reg=0,\n",
    ")"
   ]
  },
  {
   "cell_type": "code",
   "execution_count": 42,
   "metadata": {
    "execution": {
     "iopub.execute_input": "2025-05-03T23:39:04.888611Z",
     "iopub.status.busy": "2025-05-03T23:39:04.888365Z",
     "iopub.status.idle": "2025-05-03T23:39:16.771230Z",
     "shell.execute_reply": "2025-05-03T23:39:16.770040Z",
     "shell.execute_reply.started": "2025-05-03T23:39:04.888588Z"
    },
    "id": "dnKwOCorkpTP",
    "trusted": true
   },
   "outputs": [
    {
     "name": "stderr",
     "output_type": "stream",
     "text": [
      "[2025-05-03 23:39:04,895]{model.py:789} - INFO - Building test dataloader\n",
      "[2025-05-03 23:39:04,897]{model.py:297} - INFO - Encoding feature user\n",
      "[2025-05-03 23:39:04,901]{model.py:297} - INFO - Encoding feature item\n",
      "[2025-05-03 23:39:04,906]{model.py:297} - INFO - Encoding feature daytime\n",
      "[2025-05-03 23:39:04,908]{model.py:297} - INFO - Encoding feature weekday\n",
      "[2025-05-03 23:39:04,911]{model.py:297} - INFO - Encoding feature isweekend\n",
      "[2025-05-03 23:39:04,913]{model.py:297} - INFO - Encoding feature homework\n",
      "[2025-05-03 23:39:04,916]{model.py:297} - INFO - Encoding feature cost\n",
      "[2025-05-03 23:39:04,918]{model.py:297} - INFO - Encoding feature weather\n",
      "[2025-05-03 23:39:04,920]{model.py:297} - INFO - Encoding feature country\n",
      "[2025-05-03 23:39:04,923]{model.py:297} - INFO - Encoding feature city\n"
     ]
    },
    {
     "data": {
      "application/vnd.jupyter.widget-view+json": {
       "model_id": "38a40822e0a94a41ba96d02ee270b7d4",
       "version_major": 2,
       "version_minor": 0
      },
      "text/plain": [
       "Test epoch #-1:   0%|          | 0/8 [00:00<?, ?it/s]"
      ]
     },
     "metadata": {},
     "output_type": "display_data"
    },
    {
     "name": "stderr",
     "output_type": "stream",
     "text": [
      "[2025-05-03 23:39:06,407]{model.py:567} - INFO - Finished Test Epoch #-1, average metrics - [AUC: 0.96226, log_loss: 0.22253]\n"
     ]
    },
    {
     "data": {
      "text/plain": [
       "{'AUC': 0.9622580272467824, 'log_loss': 0.22252739437375815}"
      ]
     },
     "execution_count": 42,
     "metadata": {},
     "output_type": "execute_result"
    }
   ],
   "source": [
    "test_metrics_dcnv2 = dcnv2_model.test(\n",
    "    features=df_test.drop(columns=\"label\"),\n",
    "    target=df_test[\"label\"],\n",
    "    device=\"cuda:0\",\n",
    "    batch_size=4096,\n",
    "    num_workers=2,\n",
    ")\n",
    "test_metrics_dcnv2"
   ]
  },
  {
   "cell_type": "markdown",
   "metadata": {
    "id": "dVoSzmkoZJE1"
   },
   "source": [
    "# FinalNet"
   ]
  },
  {
   "cell_type": "code",
   "execution_count": 43,
   "metadata": {
    "execution": {
     "iopub.execute_input": "2025-05-03T23:39:16.772930Z",
     "iopub.status.busy": "2025-05-03T23:39:16.772559Z",
     "iopub.status.idle": "2025-05-03T23:39:16.795174Z",
     "shell.execute_reply": "2025-05-03T23:39:16.794283Z",
     "shell.execute_reply.started": "2025-05-03T23:39:16.772868Z"
    },
    "id": "ZgDf9R85IRah",
    "trusted": true
   },
   "outputs": [],
   "source": [
    "finalnet_model = FinalNet(\n",
    "    block_type=\"2B\",\n",
    "    use_field_gate=True,\n",
    "    use_batch_norm=True,\n",
    "    add_bias=True,\n",
    "    block1_hidden_dims=[256, 512, 1024],\n",
    "    block1_hidden_activations=nn.ReLU,\n",
    "    block1_dropout_rates=0.2,\n",
    "    block2_hidden_dims=[256, 512, 1024],\n",
    "    block2_hidden_activations=nn.ReLU,\n",
    "    block2_dropout_rates=0.2,\n",
    "    residual_type=\"concat\",\n",
    "    proj_output_embeddings=True,\n",
    ")"
   ]
  },
  {
   "cell_type": "code",
   "execution_count": 44,
   "metadata": {
    "execution": {
     "iopub.execute_input": "2025-05-03T23:39:16.798365Z",
     "iopub.status.busy": "2025-05-03T23:39:16.798070Z",
     "iopub.status.idle": "2025-05-03T23:51:52.414526Z",
     "shell.execute_reply": "2025-05-03T23:51:52.413602Z",
     "shell.execute_reply.started": "2025-05-03T23:39:16.798340Z"
    },
    "id": "69xCGbhnJQsf",
    "scrolled": true,
    "trusted": true
   },
   "outputs": [
    {
     "name": "stderr",
     "output_type": "stream",
     "text": [
      "[2025-05-03 23:39:16,851]{model.py:660} - INFO - Used features config: FeaturesConfig(features=[Feature(name='user', feature_type=<FeatureType.CATEGORICAL: 'categorical'>, feature_size=1, needs_embed=True, embedding_size=20, embedding_vocab_size=955, embedding_padding_idx=None), Feature(name='item', feature_type=<FeatureType.CATEGORICAL: 'categorical'>, feature_size=1, needs_embed=True, embedding_size=20, embedding_vocab_size=4083, embedding_padding_idx=None), Feature(name='daytime', feature_type=<FeatureType.CATEGORICAL: 'categorical'>, feature_size=1, needs_embed=True, embedding_size=20, embedding_vocab_size=8, embedding_padding_idx=None), Feature(name='weekday', feature_type=<FeatureType.CATEGORICAL: 'categorical'>, feature_size=1, needs_embed=True, embedding_size=20, embedding_vocab_size=8, embedding_padding_idx=None), Feature(name='isweekend', feature_type=<FeatureType.CATEGORICAL: 'categorical'>, feature_size=1, needs_embed=True, embedding_size=20, embedding_vocab_size=3, embedding_padding_idx=None), Feature(name='homework', feature_type=<FeatureType.CATEGORICAL: 'categorical'>, feature_size=1, needs_embed=True, embedding_size=20, embedding_vocab_size=4, embedding_padding_idx=None), Feature(name='cost', feature_type=<FeatureType.CATEGORICAL: 'categorical'>, feature_size=1, needs_embed=True, embedding_size=20, embedding_vocab_size=3, embedding_padding_idx=None), Feature(name='weather', feature_type=<FeatureType.CATEGORICAL: 'categorical'>, feature_size=1, needs_embed=True, embedding_size=20, embedding_vocab_size=10, embedding_padding_idx=None), Feature(name='country', feature_type=<FeatureType.CATEGORICAL: 'categorical'>, feature_size=1, needs_embed=True, embedding_size=20, embedding_vocab_size=81, embedding_padding_idx=None), Feature(name='city', feature_type=<FeatureType.CATEGORICAL: 'categorical'>, feature_size=1, needs_embed=True, embedding_size=20, embedding_vocab_size=234, embedding_padding_idx=None)])\n",
      "[2025-05-03 23:39:16,854]{model.py:675} - INFO - Artifacts path is /kaggle/working/finalnet_artifacts\n",
      "[2025-05-03 23:39:16,854]{model.py:681} - INFO - Best model path is finalnet_artifacts/best_model.pt\n",
      "[2025-05-03 23:39:16,859]{model.py:686} - INFO - Building features mappings\n",
      "[2025-05-03 23:39:16,860]{model.py:272} - INFO - Building mapping for feature user\n",
      "[2025-05-03 23:39:16,863]{model.py:272} - INFO - Building mapping for feature item\n",
      "[2025-05-03 23:39:16,866]{model.py:272} - INFO - Building mapping for feature daytime\n",
      "[2025-05-03 23:39:16,868]{model.py:272} - INFO - Building mapping for feature weekday\n",
      "[2025-05-03 23:39:16,870]{model.py:272} - INFO - Building mapping for feature isweekend\n",
      "[2025-05-03 23:39:16,871]{model.py:272} - INFO - Building mapping for feature homework\n",
      "[2025-05-03 23:39:16,873]{model.py:272} - INFO - Building mapping for feature cost\n",
      "[2025-05-03 23:39:16,875]{model.py:272} - INFO - Building mapping for feature weather\n",
      "[2025-05-03 23:39:16,877]{model.py:272} - INFO - Building mapping for feature country\n",
      "[2025-05-03 23:39:16,878]{model.py:272} - INFO - Building mapping for feature city\n",
      "[2025-05-03 23:39:16,880]{model.py:689} - INFO - Building train dataloader\n",
      "[2025-05-03 23:39:16,884]{model.py:297} - INFO - Encoding feature user\n",
      "[2025-05-03 23:39:16,897]{model.py:297} - INFO - Encoding feature item\n",
      "[2025-05-03 23:39:16,905]{model.py:297} - INFO - Encoding feature daytime\n",
      "[2025-05-03 23:39:16,911]{model.py:297} - INFO - Encoding feature weekday\n",
      "[2025-05-03 23:39:16,917]{model.py:297} - INFO - Encoding feature isweekend\n",
      "[2025-05-03 23:39:16,921]{model.py:297} - INFO - Encoding feature homework\n",
      "[2025-05-03 23:39:16,925]{model.py:297} - INFO - Encoding feature cost\n",
      "[2025-05-03 23:39:16,931]{model.py:297} - INFO - Encoding feature weather\n",
      "[2025-05-03 23:39:16,937]{model.py:297} - INFO - Encoding feature country\n",
      "[2025-05-03 23:39:16,943]{model.py:297} - INFO - Encoding feature city\n",
      "[2025-05-03 23:39:16,950]{model.py:702} - INFO - Building validation dataloader\n",
      "[2025-05-03 23:39:16,952]{model.py:297} - INFO - Encoding feature user\n",
      "[2025-05-03 23:39:16,957]{model.py:297} - INFO - Encoding feature item\n",
      "[2025-05-03 23:39:16,963]{model.py:297} - INFO - Encoding feature daytime\n",
      "[2025-05-03 23:39:16,966]{model.py:297} - INFO - Encoding feature weekday\n",
      "[2025-05-03 23:39:16,969]{model.py:297} - INFO - Encoding feature isweekend\n",
      "[2025-05-03 23:39:16,973]{model.py:297} - INFO - Encoding feature homework\n",
      "[2025-05-03 23:39:16,975]{model.py:297} - INFO - Encoding feature cost\n",
      "[2025-05-03 23:39:16,978]{model.py:297} - INFO - Encoding feature weather\n",
      "[2025-05-03 23:39:16,980]{model.py:297} - INFO - Encoding feature country\n",
      "[2025-05-03 23:39:16,983]{model.py:297} - INFO - Encoding feature city\n",
      "[2025-05-03 23:39:16,986]{model.py:712} - INFO - Starting training process\n"
     ]
    },
    {
     "data": {
      "application/vnd.jupyter.widget-view+json": {
       "model_id": "308aa6406b5a4490a69780553c0bb317",
       "version_major": 2,
       "version_minor": 0
      },
      "text/plain": [
       "Train epoch #0:   0%|          | 0/50 [00:00<?, ?it/s]"
      ]
     },
     "metadata": {},
     "output_type": "display_data"
    },
    {
     "name": "stderr",
     "output_type": "stream",
     "text": [
      "[2025-05-03 23:39:44,040]{model.py:567} - INFO - Finished Train Epoch #0, average metrics - [loss: 0.54483]\n"
     ]
    },
    {
     "data": {
      "application/vnd.jupyter.widget-view+json": {
       "model_id": "73d43a0026b142b8bd2b247b86749efb",
       "version_major": 2,
       "version_minor": 0
      },
      "text/plain": [
       "Validation epoch #0:   0%|          | 0/15 [00:00<?, ?it/s]"
      ]
     },
     "metadata": {},
     "output_type": "display_data"
    },
    {
     "name": "stderr",
     "output_type": "stream",
     "text": [
      "[2025-05-03 23:39:56,453]{model.py:567} - INFO - Finished Validation Epoch #0, average metrics - [AUC: 0.88964, log_loss: 0.37530]\n",
      "[2025-05-03 23:40:06,860]{model.py:747} - INFO - Best model with AUC = 0.8896420227921912 was saved to finalnet_artifacts/best_model.pt\n"
     ]
    },
    {
     "data": {
      "application/vnd.jupyter.widget-view+json": {
       "model_id": "d40cda75c38a4a48bd1331ec14396ab5",
       "version_major": 2,
       "version_minor": 0
      },
      "text/plain": [
       "Train epoch #1:   0%|          | 0/50 [00:00<?, ?it/s]"
      ]
     },
     "metadata": {},
     "output_type": "display_data"
    },
    {
     "name": "stderr",
     "output_type": "stream",
     "text": [
      "[2025-05-03 23:40:34,071]{model.py:567} - INFO - Finished Train Epoch #1, average metrics - [loss: 0.32816]\n"
     ]
    },
    {
     "data": {
      "application/vnd.jupyter.widget-view+json": {
       "model_id": "2543c14348584640be8556c1e9d89fde",
       "version_major": 2,
       "version_minor": 0
      },
      "text/plain": [
       "Validation epoch #1:   0%|          | 0/15 [00:00<?, ?it/s]"
      ]
     },
     "metadata": {},
     "output_type": "display_data"
    },
    {
     "name": "stderr",
     "output_type": "stream",
     "text": [
      "[2025-05-03 23:40:46,553]{model.py:567} - INFO - Finished Validation Epoch #1, average metrics - [AUC: 0.93395, log_loss: 0.28450]\n",
      "[2025-05-03 23:40:56,952]{model.py:747} - INFO - Best model with AUC = 0.9339485091764155 was saved to finalnet_artifacts/best_model.pt\n"
     ]
    },
    {
     "data": {
      "application/vnd.jupyter.widget-view+json": {
       "model_id": "47e65272024442e09a067dea8b2aca76",
       "version_major": 2,
       "version_minor": 0
      },
      "text/plain": [
       "Train epoch #2:   0%|          | 0/50 [00:00<?, ?it/s]"
      ]
     },
     "metadata": {},
     "output_type": "display_data"
    },
    {
     "name": "stderr",
     "output_type": "stream",
     "text": [
      "[2025-05-03 23:41:25,353]{model.py:567} - INFO - Finished Train Epoch #2, average metrics - [loss: 0.28574]\n"
     ]
    },
    {
     "data": {
      "application/vnd.jupyter.widget-view+json": {
       "model_id": "9d37e2a2d0e54b03bceeac1e2435604d",
       "version_major": 2,
       "version_minor": 0
      },
      "text/plain": [
       "Validation epoch #2:   0%|          | 0/15 [00:00<?, ?it/s]"
      ]
     },
     "metadata": {},
     "output_type": "display_data"
    },
    {
     "name": "stderr",
     "output_type": "stream",
     "text": [
      "[2025-05-03 23:41:37,863]{model.py:567} - INFO - Finished Validation Epoch #2, average metrics - [AUC: 0.94627, log_loss: 0.26039]\n",
      "[2025-05-03 23:41:48,254]{model.py:747} - INFO - Best model with AUC = 0.946272337309106 was saved to finalnet_artifacts/best_model.pt\n"
     ]
    },
    {
     "data": {
      "application/vnd.jupyter.widget-view+json": {
       "model_id": "98e0e2afbc2142c1be3b3812dc43d056",
       "version_major": 2,
       "version_minor": 0
      },
      "text/plain": [
       "Train epoch #3:   0%|          | 0/50 [00:00<?, ?it/s]"
      ]
     },
     "metadata": {},
     "output_type": "display_data"
    },
    {
     "name": "stderr",
     "output_type": "stream",
     "text": [
      "[2025-05-03 23:42:16,424]{model.py:567} - INFO - Finished Train Epoch #3, average metrics - [loss: 0.25802]\n"
     ]
    },
    {
     "data": {
      "application/vnd.jupyter.widget-view+json": {
       "model_id": "d5889486a5f945e7b2d5d1a68fa9a957",
       "version_major": 2,
       "version_minor": 0
      },
      "text/plain": [
       "Validation epoch #3:   0%|          | 0/15 [00:00<?, ?it/s]"
      ]
     },
     "metadata": {},
     "output_type": "display_data"
    },
    {
     "name": "stderr",
     "output_type": "stream",
     "text": [
      "[2025-05-03 23:42:28,997]{model.py:567} - INFO - Finished Validation Epoch #3, average metrics - [AUC: 0.95505, log_loss: 0.23759]\n",
      "[2025-05-03 23:42:39,396]{model.py:747} - INFO - Best model with AUC = 0.9550451845512352 was saved to finalnet_artifacts/best_model.pt\n"
     ]
    },
    {
     "data": {
      "application/vnd.jupyter.widget-view+json": {
       "model_id": "66b888174a624c8aa1ff64c3902ad061",
       "version_major": 2,
       "version_minor": 0
      },
      "text/plain": [
       "Train epoch #4:   0%|          | 0/50 [00:00<?, ?it/s]"
      ]
     },
     "metadata": {},
     "output_type": "display_data"
    },
    {
     "name": "stderr",
     "output_type": "stream",
     "text": [
      "[2025-05-03 23:43:05,854]{model.py:567} - INFO - Finished Train Epoch #4, average metrics - [loss: 0.23172]\n"
     ]
    },
    {
     "data": {
      "application/vnd.jupyter.widget-view+json": {
       "model_id": "592fac623cdc43ebb183cdcb84bda50b",
       "version_major": 2,
       "version_minor": 0
      },
      "text/plain": [
       "Validation epoch #4:   0%|          | 0/15 [00:00<?, ?it/s]"
      ]
     },
     "metadata": {},
     "output_type": "display_data"
    },
    {
     "name": "stderr",
     "output_type": "stream",
     "text": [
      "[2025-05-03 23:43:18,451]{model.py:567} - INFO - Finished Validation Epoch #4, average metrics - [AUC: 0.96068, log_loss: 0.22334]\n",
      "[2025-05-03 23:43:28,840]{model.py:747} - INFO - Best model with AUC = 0.9606803226937818 was saved to finalnet_artifacts/best_model.pt\n"
     ]
    },
    {
     "data": {
      "application/vnd.jupyter.widget-view+json": {
       "model_id": "090734ac8b504d2a9eb1f0adc9bea0e4",
       "version_major": 2,
       "version_minor": 0
      },
      "text/plain": [
       "Train epoch #5:   0%|          | 0/50 [00:00<?, ?it/s]"
      ]
     },
     "metadata": {},
     "output_type": "display_data"
    },
    {
     "name": "stderr",
     "output_type": "stream",
     "text": [
      "[2025-05-03 23:43:56,935]{model.py:567} - INFO - Finished Train Epoch #5, average metrics - [loss: 0.20534]\n"
     ]
    },
    {
     "data": {
      "application/vnd.jupyter.widget-view+json": {
       "model_id": "e52ca02a13d542e294670980acbf58b1",
       "version_major": 2,
       "version_minor": 0
      },
      "text/plain": [
       "Validation epoch #5:   0%|          | 0/15 [00:00<?, ?it/s]"
      ]
     },
     "metadata": {},
     "output_type": "display_data"
    },
    {
     "name": "stderr",
     "output_type": "stream",
     "text": [
      "[2025-05-03 23:44:09,500]{model.py:567} - INFO - Finished Validation Epoch #5, average metrics - [AUC: 0.96621, log_loss: 0.21066]\n",
      "[2025-05-03 23:44:19,911]{model.py:747} - INFO - Best model with AUC = 0.966213229610507 was saved to finalnet_artifacts/best_model.pt\n"
     ]
    },
    {
     "data": {
      "application/vnd.jupyter.widget-view+json": {
       "model_id": "2416680f3b9546459ea8c4f75bd5998b",
       "version_major": 2,
       "version_minor": 0
      },
      "text/plain": [
       "Train epoch #6:   0%|          | 0/50 [00:00<?, ?it/s]"
      ]
     },
     "metadata": {},
     "output_type": "display_data"
    },
    {
     "name": "stderr",
     "output_type": "stream",
     "text": [
      "[2025-05-03 23:44:46,281]{model.py:567} - INFO - Finished Train Epoch #6, average metrics - [loss: 0.18287]\n"
     ]
    },
    {
     "data": {
      "application/vnd.jupyter.widget-view+json": {
       "model_id": "93650282f1a240aa9a6171663c98b7eb",
       "version_major": 2,
       "version_minor": 0
      },
      "text/plain": [
       "Validation epoch #6:   0%|          | 0/15 [00:00<?, ?it/s]"
      ]
     },
     "metadata": {},
     "output_type": "display_data"
    },
    {
     "name": "stderr",
     "output_type": "stream",
     "text": [
      "[2025-05-03 23:44:58,802]{model.py:567} - INFO - Finished Validation Epoch #6, average metrics - [AUC: 0.96915, log_loss: 0.20561]\n",
      "[2025-05-03 23:45:09,184]{model.py:747} - INFO - Best model with AUC = 0.9691492270251004 was saved to finalnet_artifacts/best_model.pt\n"
     ]
    },
    {
     "data": {
      "application/vnd.jupyter.widget-view+json": {
       "model_id": "293ac5a14f3146c49dcd8ea383fdd07c",
       "version_major": 2,
       "version_minor": 0
      },
      "text/plain": [
       "Train epoch #7:   0%|          | 0/50 [00:00<?, ?it/s]"
      ]
     },
     "metadata": {},
     "output_type": "display_data"
    },
    {
     "name": "stderr",
     "output_type": "stream",
     "text": [
      "[2025-05-03 23:45:36,636]{model.py:567} - INFO - Finished Train Epoch #7, average metrics - [loss: 0.16323]\n"
     ]
    },
    {
     "data": {
      "application/vnd.jupyter.widget-view+json": {
       "model_id": "063e952e8e144779922d8c9d000c55da",
       "version_major": 2,
       "version_minor": 0
      },
      "text/plain": [
       "Validation epoch #7:   0%|          | 0/15 [00:00<?, ?it/s]"
      ]
     },
     "metadata": {},
     "output_type": "display_data"
    },
    {
     "name": "stderr",
     "output_type": "stream",
     "text": [
      "[2025-05-03 23:45:49,256]{model.py:567} - INFO - Finished Validation Epoch #7, average metrics - [AUC: 0.97109, log_loss: 0.20013]\n",
      "[2025-05-03 23:45:59,660]{model.py:747} - INFO - Best model with AUC = 0.9710921853232892 was saved to finalnet_artifacts/best_model.pt\n"
     ]
    },
    {
     "data": {
      "application/vnd.jupyter.widget-view+json": {
       "model_id": "b13dee5413fb4144a33a8aef23132a7f",
       "version_major": 2,
       "version_minor": 0
      },
      "text/plain": [
       "Train epoch #8:   0%|          | 0/50 [00:00<?, ?it/s]"
      ]
     },
     "metadata": {},
     "output_type": "display_data"
    },
    {
     "name": "stderr",
     "output_type": "stream",
     "text": [
      "[2025-05-03 23:46:26,921]{model.py:567} - INFO - Finished Train Epoch #8, average metrics - [loss: 0.14548]\n"
     ]
    },
    {
     "data": {
      "application/vnd.jupyter.widget-view+json": {
       "model_id": "cf4e9f5e404641f588614150b79034d1",
       "version_major": 2,
       "version_minor": 0
      },
      "text/plain": [
       "Validation epoch #8:   0%|          | 0/15 [00:00<?, ?it/s]"
      ]
     },
     "metadata": {},
     "output_type": "display_data"
    },
    {
     "name": "stderr",
     "output_type": "stream",
     "text": [
      "[2025-05-03 23:46:39,438]{model.py:567} - INFO - Finished Validation Epoch #8, average metrics - [AUC: 0.97244, log_loss: 0.20860]\n",
      "[2025-05-03 23:46:49,836]{model.py:747} - INFO - Best model with AUC = 0.9724386645018092 was saved to finalnet_artifacts/best_model.pt\n"
     ]
    },
    {
     "data": {
      "application/vnd.jupyter.widget-view+json": {
       "model_id": "e93d02b820cf4db3951977d921f90602",
       "version_major": 2,
       "version_minor": 0
      },
      "text/plain": [
       "Train epoch #9:   0%|          | 0/50 [00:00<?, ?it/s]"
      ]
     },
     "metadata": {},
     "output_type": "display_data"
    },
    {
     "name": "stderr",
     "output_type": "stream",
     "text": [
      "[2025-05-03 23:47:17,796]{model.py:567} - INFO - Finished Train Epoch #9, average metrics - [loss: 0.12974]\n"
     ]
    },
    {
     "data": {
      "application/vnd.jupyter.widget-view+json": {
       "model_id": "dff5f5cde5a14f0ab0046f77a3cd16ea",
       "version_major": 2,
       "version_minor": 0
      },
      "text/plain": [
       "Validation epoch #9:   0%|          | 0/15 [00:00<?, ?it/s]"
      ]
     },
     "metadata": {},
     "output_type": "display_data"
    },
    {
     "name": "stderr",
     "output_type": "stream",
     "text": [
      "[2025-05-03 23:47:30,885]{model.py:567} - INFO - Finished Validation Epoch #9, average metrics - [AUC: 0.97377, log_loss: 0.20811]\n",
      "[2025-05-03 23:47:41,285]{model.py:747} - INFO - Best model with AUC = 0.9737687322267072 was saved to finalnet_artifacts/best_model.pt\n"
     ]
    },
    {
     "data": {
      "application/vnd.jupyter.widget-view+json": {
       "model_id": "a8d638281d1d4bd6b71e5f94d870db86",
       "version_major": 2,
       "version_minor": 0
      },
      "text/plain": [
       "Train epoch #10:   0%|          | 0/50 [00:00<?, ?it/s]"
      ]
     },
     "metadata": {},
     "output_type": "display_data"
    },
    {
     "name": "stderr",
     "output_type": "stream",
     "text": [
      "[2025-05-03 23:48:08,847]{model.py:567} - INFO - Finished Train Epoch #10, average metrics - [loss: 0.11996]\n"
     ]
    },
    {
     "data": {
      "application/vnd.jupyter.widget-view+json": {
       "model_id": "7140d1bb93234004b72630666df9d436",
       "version_major": 2,
       "version_minor": 0
      },
      "text/plain": [
       "Validation epoch #10:   0%|          | 0/15 [00:00<?, ?it/s]"
      ]
     },
     "metadata": {},
     "output_type": "display_data"
    },
    {
     "name": "stderr",
     "output_type": "stream",
     "text": [
      "[2025-05-03 23:48:21,326]{model.py:567} - INFO - Finished Validation Epoch #10, average metrics - [AUC: 0.97503, log_loss: 0.20831]\n",
      "[2025-05-03 23:48:31,710]{model.py:747} - INFO - Best model with AUC = 0.9750308021872567 was saved to finalnet_artifacts/best_model.pt\n"
     ]
    },
    {
     "data": {
      "application/vnd.jupyter.widget-view+json": {
       "model_id": "4505764fdc8e4b628e99190e74290f7e",
       "version_major": 2,
       "version_minor": 0
      },
      "text/plain": [
       "Train epoch #11:   0%|          | 0/50 [00:00<?, ?it/s]"
      ]
     },
     "metadata": {},
     "output_type": "display_data"
    },
    {
     "name": "stderr",
     "output_type": "stream",
     "text": [
      "[2025-05-03 23:48:59,053]{model.py:567} - INFO - Finished Train Epoch #11, average metrics - [loss: 0.10892]\n"
     ]
    },
    {
     "data": {
      "application/vnd.jupyter.widget-view+json": {
       "model_id": "8d45fae9c7824c038ebd81be411f217b",
       "version_major": 2,
       "version_minor": 0
      },
      "text/plain": [
       "Validation epoch #11:   0%|          | 0/15 [00:00<?, ?it/s]"
      ]
     },
     "metadata": {},
     "output_type": "display_data"
    },
    {
     "name": "stderr",
     "output_type": "stream",
     "text": [
      "[2025-05-03 23:49:11,564]{model.py:567} - INFO - Finished Validation Epoch #11, average metrics - [AUC: 0.97523, log_loss: 0.21765]\n",
      "[2025-05-03 23:49:21,961]{model.py:747} - INFO - Best model with AUC = 0.9752312228252276 was saved to finalnet_artifacts/best_model.pt\n"
     ]
    },
    {
     "data": {
      "application/vnd.jupyter.widget-view+json": {
       "model_id": "4dc3d518d26b4416be73011776363880",
       "version_major": 2,
       "version_minor": 0
      },
      "text/plain": [
       "Train epoch #12:   0%|          | 0/50 [00:00<?, ?it/s]"
      ]
     },
     "metadata": {},
     "output_type": "display_data"
    },
    {
     "name": "stderr",
     "output_type": "stream",
     "text": [
      "[2025-05-03 23:49:49,316]{model.py:567} - INFO - Finished Train Epoch #12, average metrics - [loss: 0.10138]\n"
     ]
    },
    {
     "data": {
      "application/vnd.jupyter.widget-view+json": {
       "model_id": "75791be9ad174680a806edf313958ad5",
       "version_major": 2,
       "version_minor": 0
      },
      "text/plain": [
       "Validation epoch #12:   0%|          | 0/15 [00:00<?, ?it/s]"
      ]
     },
     "metadata": {},
     "output_type": "display_data"
    },
    {
     "name": "stderr",
     "output_type": "stream",
     "text": [
      "[2025-05-03 23:50:01,873]{model.py:567} - INFO - Finished Validation Epoch #12, average metrics - [AUC: 0.97575, log_loss: 0.22144]\n",
      "[2025-05-03 23:50:12,279]{model.py:747} - INFO - Best model with AUC = 0.9757495307606006 was saved to finalnet_artifacts/best_model.pt\n"
     ]
    },
    {
     "data": {
      "application/vnd.jupyter.widget-view+json": {
       "model_id": "65c0ff77680445069e7a38637e49c27e",
       "version_major": 2,
       "version_minor": 0
      },
      "text/plain": [
       "Train epoch #13:   0%|          | 0/50 [00:00<?, ?it/s]"
      ]
     },
     "metadata": {},
     "output_type": "display_data"
    },
    {
     "name": "stderr",
     "output_type": "stream",
     "text": [
      "[2025-05-03 23:50:39,360]{model.py:567} - INFO - Finished Train Epoch #13, average metrics - [loss: 0.09603]\n"
     ]
    },
    {
     "data": {
      "application/vnd.jupyter.widget-view+json": {
       "model_id": "7e190ac0ce394fb48a84cb18c0d22b98",
       "version_major": 2,
       "version_minor": 0
      },
      "text/plain": [
       "Validation epoch #13:   0%|          | 0/15 [00:00<?, ?it/s]"
      ]
     },
     "metadata": {},
     "output_type": "display_data"
    },
    {
     "name": "stderr",
     "output_type": "stream",
     "text": [
      "[2025-05-03 23:50:51,918]{model.py:567} - INFO - Finished Validation Epoch #13, average metrics - [AUC: 0.97569, log_loss: 0.22362]\n"
     ]
    },
    {
     "data": {
      "application/vnd.jupyter.widget-view+json": {
       "model_id": "b1e05ab39fc84852902572ab7bd8c803",
       "version_major": 2,
       "version_minor": 0
      },
      "text/plain": [
       "Train epoch #14:   0%|          | 0/50 [00:00<?, ?it/s]"
      ]
     },
     "metadata": {},
     "output_type": "display_data"
    },
    {
     "name": "stderr",
     "output_type": "stream",
     "text": [
      "[2025-05-03 23:51:29,422]{model.py:567} - INFO - Finished Train Epoch #14, average metrics - [loss: 0.08862]\n"
     ]
    },
    {
     "data": {
      "application/vnd.jupyter.widget-view+json": {
       "model_id": "4fe0b294a7ee403bb12eb42309b6e701",
       "version_major": 2,
       "version_minor": 0
      },
      "text/plain": [
       "Validation epoch #14:   0%|          | 0/15 [00:00<?, ?it/s]"
      ]
     },
     "metadata": {},
     "output_type": "display_data"
    },
    {
     "name": "stderr",
     "output_type": "stream",
     "text": [
      "[2025-05-03 23:51:41,933]{model.py:567} - INFO - Finished Validation Epoch #14, average metrics - [AUC: 0.97659, log_loss: 0.22249]\n",
      "[2025-05-03 23:51:52,328]{model.py:747} - INFO - Best model with AUC = 0.9765901647765726 was saved to finalnet_artifacts/best_model.pt\n",
      "[2025-05-03 23:51:52,329]{model.py:763} - INFO - Loading best model from finalnet_artifacts/best_model.pt\n"
     ]
    }
   ],
   "source": [
    "train_metrics_final, val_metrics_final = finalnet_model.fit(\n",
    "    features=df_train.drop(columns=\"label\"),\n",
    "    target=df_train[\"label\"],\n",
    "    val_features=df_val.drop(columns=\"label\"),\n",
    "    val_target=df_val[\"label\"],\n",
    "    optimizer_cls=\"torch.optim.Adam\",\n",
    "    optimizer_params=dict(lr=1e-2),\n",
    "    scheduler_cls=\"torch.optim.lr_scheduler.ReduceLROnPlateau\",\n",
    "    scheduler_params=dict(mode=\"max\", factor=0.1, patience=2, min_lr=1e-6),\n",
    "    grad_clip_threshold=10.,\n",
    "    num_epochs=15,\n",
    "    seed=42,\n",
    "    artifacts_path=\"./finalnet_artifacts\",\n",
    "    device=\"cuda:0\",\n",
    "    batch_size=4096,\n",
    "    num_workers=2,\n",
    "    eval_metric_name=\"AUC\",\n",
    "    eval_mode=\"max\",\n",
    "    embedded_features=[\"user_id\", \"item_id\", \"tag_id\"],\n",
    "    oov_masking_proba=0.05,\n",
    "    default_embedding_size=20, # should be equal for all features if using field gate\n",
    "    l2_net_reg=0.,\n",
    "    l2_embedding_reg=0,\n",
    ")"
   ]
  },
  {
   "cell_type": "code",
   "execution_count": 45,
   "metadata": {
    "execution": {
     "iopub.execute_input": "2025-05-03T23:51:52.421962Z",
     "iopub.status.busy": "2025-05-03T23:51:52.421676Z",
     "iopub.status.idle": "2025-05-03T23:52:04.271826Z",
     "shell.execute_reply": "2025-05-03T23:52:04.270825Z",
     "shell.execute_reply.started": "2025-05-03T23:51:52.421931Z"
    },
    "id": "vESJ1ItFKii_",
    "trusted": true
   },
   "outputs": [
    {
     "name": "stderr",
     "output_type": "stream",
     "text": [
      "[2025-05-03 23:51:52,427]{model.py:789} - INFO - Building test dataloader\n",
      "[2025-05-03 23:51:52,429]{model.py:297} - INFO - Encoding feature user\n",
      "[2025-05-03 23:51:52,434]{model.py:297} - INFO - Encoding feature item\n",
      "[2025-05-03 23:51:52,440]{model.py:297} - INFO - Encoding feature daytime\n",
      "[2025-05-03 23:51:52,443]{model.py:297} - INFO - Encoding feature weekday\n",
      "[2025-05-03 23:51:52,446]{model.py:297} - INFO - Encoding feature isweekend\n",
      "[2025-05-03 23:51:52,449]{model.py:297} - INFO - Encoding feature homework\n",
      "[2025-05-03 23:51:52,452]{model.py:297} - INFO - Encoding feature cost\n",
      "[2025-05-03 23:51:52,455]{model.py:297} - INFO - Encoding feature weather\n",
      "[2025-05-03 23:51:52,457]{model.py:297} - INFO - Encoding feature country\n",
      "[2025-05-03 23:51:52,460]{model.py:297} - INFO - Encoding feature city\n"
     ]
    },
    {
     "data": {
      "application/vnd.jupyter.widget-view+json": {
       "model_id": "d93ebea3c4564afe9e32f08af6cbf92e",
       "version_major": 2,
       "version_minor": 0
      },
      "text/plain": [
       "Test epoch #-1:   0%|          | 0/8 [00:00<?, ?it/s]"
      ]
     },
     "metadata": {},
     "output_type": "display_data"
    },
    {
     "name": "stderr",
     "output_type": "stream",
     "text": [
      "[2025-05-03 23:51:53,916]{model.py:567} - INFO - Finished Test Epoch #-1, average metrics - [AUC: 0.97602, log_loss: 0.23068]\n"
     ]
    },
    {
     "data": {
      "text/plain": [
       "{'AUC': 0.976019737143411, 'log_loss': 0.2306835336606623}"
      ]
     },
     "execution_count": 45,
     "metadata": {},
     "output_type": "execute_result"
    }
   ],
   "source": [
    "test_metrics_final = finalnet_model.test(\n",
    "    features=df_test.drop(columns=\"label\"),\n",
    "    target=df_test[\"label\"],\n",
    "    device=\"cuda:0\",\n",
    "    batch_size=4096,\n",
    "    num_workers=2,\n",
    ")\n",
    "test_metrics_final"
   ]
  },
  {
   "cell_type": "code",
   "execution_count": null,
   "metadata": {
    "id": "yIicVojnrPhf",
    "trusted": true
   },
   "outputs": [],
   "source": []
  }
 ],
 "metadata": {
  "accelerator": "GPU",
  "colab": {
   "gpuType": "T4",
   "provenance": []
  },
  "kaggle": {
   "accelerator": "nvidiaTeslaT4",
   "dataSources": [
    {
     "datasetId": 7317426,
     "sourceId": 11660223,
     "sourceType": "datasetVersion"
    },
    {
     "datasetId": 7321591,
     "sourceId": 11666028,
     "sourceType": "datasetVersion"
    }
   ],
   "dockerImageVersionId": 31011,
   "isGpuEnabled": true,
   "isInternetEnabled": true,
   "language": "python",
   "sourceType": "notebook"
  },
  "kernelspec": {
   "display_name": "Python 3",
   "language": "python",
   "name": "python3"
  },
  "language_info": {
   "codemirror_mode": {
    "name": "ipython",
    "version": 3
   },
   "file_extension": ".py",
   "mimetype": "text/x-python",
   "name": "python",
   "nbconvert_exporter": "python",
   "pygments_lexer": "ipython3",
   "version": "3.11.11"
  },
  "widgets": {
   "application/vnd.jupyter.widget-state+json": {
    "1d713292a5d94744ae1aaba7704259d8": {
     "model_module": "@jupyter-widgets/controls",
     "model_module_version": "1.5.0",
     "model_name": "ProgressStyleModel",
     "state": {
      "_model_module": "@jupyter-widgets/controls",
      "_model_module_version": "1.5.0",
      "_model_name": "ProgressStyleModel",
      "_view_count": null,
      "_view_module": "@jupyter-widgets/base",
      "_view_module_version": "1.2.0",
      "_view_name": "StyleView",
      "bar_color": null,
      "description_width": ""
     }
    },
    "262e18f6dbf140a4b28b9e25abaaa3ef": {
     "model_module": "@jupyter-widgets/controls",
     "model_module_version": "1.5.0",
     "model_name": "HTMLModel",
     "state": {
      "_dom_classes": [],
      "_model_module": "@jupyter-widgets/controls",
      "_model_module_version": "1.5.0",
      "_model_name": "HTMLModel",
      "_view_count": null,
      "_view_module": "@jupyter-widgets/controls",
      "_view_module_version": "1.5.0",
      "_view_name": "HTMLView",
      "description": "",
      "description_tooltip": null,
      "layout": "IPY_MODEL_b7a6f2e69db04433b37955fda7076d73",
      "placeholder": "​",
      "style": "IPY_MODEL_3428d27180a843bcb07b84b6b425ce94",
      "value": " 131/343 [01:01&lt;01:21,  2.62it/s, metrics=[loss: 0.57666]]"
     }
    },
    "3428d27180a843bcb07b84b6b425ce94": {
     "model_module": "@jupyter-widgets/controls",
     "model_module_version": "1.5.0",
     "model_name": "DescriptionStyleModel",
     "state": {
      "_model_module": "@jupyter-widgets/controls",
      "_model_module_version": "1.5.0",
      "_model_name": "DescriptionStyleModel",
      "_view_count": null,
      "_view_module": "@jupyter-widgets/base",
      "_view_module_version": "1.2.0",
      "_view_name": "StyleView",
      "description_width": ""
     }
    },
    "42da9a5c1a544923bdaa3f0202547a1f": {
     "model_module": "@jupyter-widgets/base",
     "model_module_version": "1.2.0",
     "model_name": "LayoutModel",
     "state": {
      "_model_module": "@jupyter-widgets/base",
      "_model_module_version": "1.2.0",
      "_model_name": "LayoutModel",
      "_view_count": null,
      "_view_module": "@jupyter-widgets/base",
      "_view_module_version": "1.2.0",
      "_view_name": "LayoutView",
      "align_content": null,
      "align_items": null,
      "align_self": null,
      "border": null,
      "bottom": null,
      "display": null,
      "flex": null,
      "flex_flow": null,
      "grid_area": null,
      "grid_auto_columns": null,
      "grid_auto_flow": null,
      "grid_auto_rows": null,
      "grid_column": null,
      "grid_gap": null,
      "grid_row": null,
      "grid_template_areas": null,
      "grid_template_columns": null,
      "grid_template_rows": null,
      "height": null,
      "justify_content": null,
      "justify_items": null,
      "left": null,
      "margin": null,
      "max_height": null,
      "max_width": null,
      "min_height": null,
      "min_width": null,
      "object_fit": null,
      "object_position": null,
      "order": null,
      "overflow": null,
      "overflow_x": null,
      "overflow_y": null,
      "padding": null,
      "right": null,
      "top": null,
      "visibility": null,
      "width": null
     }
    },
    "7131b8f33d23481f84ccc7cfa290d346": {
     "model_module": "@jupyter-widgets/controls",
     "model_module_version": "1.5.0",
     "model_name": "HBoxModel",
     "state": {
      "_dom_classes": [],
      "_model_module": "@jupyter-widgets/controls",
      "_model_module_version": "1.5.0",
      "_model_name": "HBoxModel",
      "_view_count": null,
      "_view_module": "@jupyter-widgets/controls",
      "_view_module_version": "1.5.0",
      "_view_name": "HBoxView",
      "box_style": "",
      "children": [
       "IPY_MODEL_91bafa0bb9ed4befaf06640fe96ce870",
       "IPY_MODEL_c54cef24ddad44c8b2f2c49289bc101a",
       "IPY_MODEL_262e18f6dbf140a4b28b9e25abaaa3ef"
      ],
      "layout": "IPY_MODEL_9873c35e5d6b4563b0acb1a3473799c6"
     }
    },
    "7f15f5426c02410382e263de52b65aa7": {
     "model_module": "@jupyter-widgets/base",
     "model_module_version": "1.2.0",
     "model_name": "LayoutModel",
     "state": {
      "_model_module": "@jupyter-widgets/base",
      "_model_module_version": "1.2.0",
      "_model_name": "LayoutModel",
      "_view_count": null,
      "_view_module": "@jupyter-widgets/base",
      "_view_module_version": "1.2.0",
      "_view_name": "LayoutView",
      "align_content": null,
      "align_items": null,
      "align_self": null,
      "border": null,
      "bottom": null,
      "display": null,
      "flex": null,
      "flex_flow": null,
      "grid_area": null,
      "grid_auto_columns": null,
      "grid_auto_flow": null,
      "grid_auto_rows": null,
      "grid_column": null,
      "grid_gap": null,
      "grid_row": null,
      "grid_template_areas": null,
      "grid_template_columns": null,
      "grid_template_rows": null,
      "height": null,
      "justify_content": null,
      "justify_items": null,
      "left": null,
      "margin": null,
      "max_height": null,
      "max_width": null,
      "min_height": null,
      "min_width": null,
      "object_fit": null,
      "object_position": null,
      "order": null,
      "overflow": null,
      "overflow_x": null,
      "overflow_y": null,
      "padding": null,
      "right": null,
      "top": null,
      "visibility": null,
      "width": null
     }
    },
    "91bafa0bb9ed4befaf06640fe96ce870": {
     "model_module": "@jupyter-widgets/controls",
     "model_module_version": "1.5.0",
     "model_name": "HTMLModel",
     "state": {
      "_dom_classes": [],
      "_model_module": "@jupyter-widgets/controls",
      "_model_module_version": "1.5.0",
      "_model_name": "HTMLModel",
      "_view_count": null,
      "_view_module": "@jupyter-widgets/controls",
      "_view_module_version": "1.5.0",
      "_view_name": "HTMLView",
      "description": "",
      "description_tooltip": null,
      "layout": "IPY_MODEL_42da9a5c1a544923bdaa3f0202547a1f",
      "placeholder": "​",
      "style": "IPY_MODEL_a70a35c5abee424ea662c0e0b03e8a03",
      "value": "Train epoch #0:  38%"
     }
    },
    "9873c35e5d6b4563b0acb1a3473799c6": {
     "model_module": "@jupyter-widgets/base",
     "model_module_version": "1.2.0",
     "model_name": "LayoutModel",
     "state": {
      "_model_module": "@jupyter-widgets/base",
      "_model_module_version": "1.2.0",
      "_model_name": "LayoutModel",
      "_view_count": null,
      "_view_module": "@jupyter-widgets/base",
      "_view_module_version": "1.2.0",
      "_view_name": "LayoutView",
      "align_content": null,
      "align_items": null,
      "align_self": null,
      "border": null,
      "bottom": null,
      "display": null,
      "flex": null,
      "flex_flow": null,
      "grid_area": null,
      "grid_auto_columns": null,
      "grid_auto_flow": null,
      "grid_auto_rows": null,
      "grid_column": null,
      "grid_gap": null,
      "grid_row": null,
      "grid_template_areas": null,
      "grid_template_columns": null,
      "grid_template_rows": null,
      "height": null,
      "justify_content": null,
      "justify_items": null,
      "left": null,
      "margin": null,
      "max_height": null,
      "max_width": null,
      "min_height": null,
      "min_width": null,
      "object_fit": null,
      "object_position": null,
      "order": null,
      "overflow": null,
      "overflow_x": null,
      "overflow_y": null,
      "padding": null,
      "right": null,
      "top": null,
      "visibility": null,
      "width": null
     }
    },
    "a70a35c5abee424ea662c0e0b03e8a03": {
     "model_module": "@jupyter-widgets/controls",
     "model_module_version": "1.5.0",
     "model_name": "DescriptionStyleModel",
     "state": {
      "_model_module": "@jupyter-widgets/controls",
      "_model_module_version": "1.5.0",
      "_model_name": "DescriptionStyleModel",
      "_view_count": null,
      "_view_module": "@jupyter-widgets/base",
      "_view_module_version": "1.2.0",
      "_view_name": "StyleView",
      "description_width": ""
     }
    },
    "b7a6f2e69db04433b37955fda7076d73": {
     "model_module": "@jupyter-widgets/base",
     "model_module_version": "1.2.0",
     "model_name": "LayoutModel",
     "state": {
      "_model_module": "@jupyter-widgets/base",
      "_model_module_version": "1.2.0",
      "_model_name": "LayoutModel",
      "_view_count": null,
      "_view_module": "@jupyter-widgets/base",
      "_view_module_version": "1.2.0",
      "_view_name": "LayoutView",
      "align_content": null,
      "align_items": null,
      "align_self": null,
      "border": null,
      "bottom": null,
      "display": null,
      "flex": null,
      "flex_flow": null,
      "grid_area": null,
      "grid_auto_columns": null,
      "grid_auto_flow": null,
      "grid_auto_rows": null,
      "grid_column": null,
      "grid_gap": null,
      "grid_row": null,
      "grid_template_areas": null,
      "grid_template_columns": null,
      "grid_template_rows": null,
      "height": null,
      "justify_content": null,
      "justify_items": null,
      "left": null,
      "margin": null,
      "max_height": null,
      "max_width": null,
      "min_height": null,
      "min_width": null,
      "object_fit": null,
      "object_position": null,
      "order": null,
      "overflow": null,
      "overflow_x": null,
      "overflow_y": null,
      "padding": null,
      "right": null,
      "top": null,
      "visibility": null,
      "width": null
     }
    },
    "c54cef24ddad44c8b2f2c49289bc101a": {
     "model_module": "@jupyter-widgets/controls",
     "model_module_version": "1.5.0",
     "model_name": "FloatProgressModel",
     "state": {
      "_dom_classes": [],
      "_model_module": "@jupyter-widgets/controls",
      "_model_module_version": "1.5.0",
      "_model_name": "FloatProgressModel",
      "_view_count": null,
      "_view_module": "@jupyter-widgets/controls",
      "_view_module_version": "1.5.0",
      "_view_name": "ProgressView",
      "bar_style": "",
      "description": "",
      "description_tooltip": null,
      "layout": "IPY_MODEL_7f15f5426c02410382e263de52b65aa7",
      "max": 343,
      "min": 0,
      "orientation": "horizontal",
      "style": "IPY_MODEL_1d713292a5d94744ae1aaba7704259d8",
      "value": 131
     }
    }
   }
  }
 },
 "nbformat": 4,
 "nbformat_minor": 4
}
