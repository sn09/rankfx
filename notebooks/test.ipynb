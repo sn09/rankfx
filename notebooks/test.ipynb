{
 "cells": [
  {
   "cell_type": "code",
   "execution_count": 38,
   "metadata": {},
   "outputs": [
    {
     "data": {
      "text/plain": [
       "user_id              object\n",
       "num_feature         float64\n",
       "cat_feature           int64\n",
       "num_sequence         object\n",
       "cat_sequence         object\n",
       "target                int64\n",
       "cat_feature_cat    category\n",
       "dtype: object"
      ]
     },
     "execution_count": 38,
     "metadata": {},
     "output_type": "execute_result"
    }
   ],
   "source": [
    "df = pd.DataFrame(\n",
    "    {\n",
    "        \"user_id\": [\"bfdbda\", \"gdsgdsb\", \"fsafsa\", \"bsdbfds\", \"fsafas\"],\n",
    "        \"num_feature\": [0.412, -0.3213, 1.763, 0.8754, -1.2532],\n",
    "        \"cat_feature\": [0, 1, 1, 0, 2],\n",
    "        \"num_sequence\": [[0.532, 0.321, 0.764], [0.1321, 0.7655, 0.3211], [0.32532, 0.101, 0.0643], [0.6342, 0.765, 0.345], [0.6431, 0.865, 0.194]],\n",
    "        \"cat_sequence\": [[0, 2, 1], [1, 1, 0], [2, 0, 0], [0, 1, 1], [2, 2, 1]],\n",
    "        \"target\": [0, 1, 0, 1, 1]\n",
    "    }\n",
    ")\n",
    "\n",
    "df[\"cat_feature_cat\"] = df[\"cat_feature\"].astype(\"category\")\n",
    "df.dtypes"
   ]
  },
  {
   "cell_type": "code",
   "execution_count": 1,
   "metadata": {},
   "outputs": [],
   "source": [
    "\"\"\"Module with Pandas dataset implementation.\"\"\"\n",
    "\n",
    "from typing import Any\n",
    "\n",
    "import numpy as np\n",
    "import pandas as pd\n",
    "from torch.utils.data import Dataset\n",
    "\n",
    "\n",
    "class PandasDataset(Dataset):\n",
    "    \"\"\"Pandas dataset implementation.\"\"\"\n",
    "    def __init__(\n",
    "        self,\n",
    "        dataframe: pd.DataFrame,\n",
    "        return_dicts: bool = False,\n",
    "        target_col: str | None = None,\n",
    "    ):\n",
    "        \"\"\"Instantiate dataset.\n",
    "\n",
    "        Args:\n",
    "            dataframe: input dataframe to wrap as toch dataset\n",
    "            return_dicts: flag to return dict or tensor of values\n",
    "            target_col: target column name\n",
    "        \"\"\"\n",
    "        self.dataframe = dataframe\n",
    "        self.return_dicts = return_dicts\n",
    "        self.target_col = target_col\n",
    "\n",
    "    def __len__(self) -> int:\n",
    "        \"\"\"Get dataset length.\n",
    "\n",
    "        Returns:\n",
    "            Dataset length\n",
    "        \"\"\"\n",
    "        return len(self.dataframe)\n",
    "\n",
    "    def  __getitem__(self, index: int) -> dict[str, Any] | Any:\n",
    "        \"\"\"Get dataset item by index.\n",
    "\n",
    "        Args:\n",
    "            index: index to take\n",
    "\n",
    "        Returns:\n",
    "            Dataset element under specified index\n",
    "        \"\"\"\n",
    "        row = self.dataframe.iloc[index]\n",
    "        if self.return_dicts:\n",
    "            return {k: v if not isinstance(v, (list, tuple)) else np.array(v) for k, v in row.to_dict().items()}\n",
    "\n",
    "        if not self.target_col:\n",
    "            return row.values\n",
    "\n",
    "        return row.drop(self.target_col).values, row[self.target_col]\n"
   ]
  },
  {
   "cell_type": "code",
   "execution_count": 57,
   "metadata": {},
   "outputs": [
    {
     "data": {
      "text/html": [
       "<div>\n",
       "<style scoped>\n",
       "    .dataframe tbody tr th:only-of-type {\n",
       "        vertical-align: middle;\n",
       "    }\n",
       "\n",
       "    .dataframe tbody tr th {\n",
       "        vertical-align: top;\n",
       "    }\n",
       "\n",
       "    .dataframe thead th {\n",
       "        text-align: right;\n",
       "    }\n",
       "</style>\n",
       "<table border=\"1\" class=\"dataframe\">\n",
       "  <thead>\n",
       "    <tr style=\"text-align: right;\">\n",
       "      <th></th>\n",
       "      <th>user_id</th>\n",
       "      <th>num_feature</th>\n",
       "      <th>cat_feature</th>\n",
       "      <th>num_sequence</th>\n",
       "      <th>cat_sequence</th>\n",
       "      <th>target</th>\n",
       "      <th>cat_feature_cat</th>\n",
       "    </tr>\n",
       "  </thead>\n",
       "  <tbody>\n",
       "    <tr>\n",
       "      <th>0</th>\n",
       "      <td>bfdbda</td>\n",
       "      <td>0.4120</td>\n",
       "      <td>0</td>\n",
       "      <td>[0.532, 0.321, 0.764]</td>\n",
       "      <td>[0, 2, 1]</td>\n",
       "      <td>0</td>\n",
       "      <td>0</td>\n",
       "    </tr>\n",
       "    <tr>\n",
       "      <th>1</th>\n",
       "      <td>gdsgdsb</td>\n",
       "      <td>-0.3213</td>\n",
       "      <td>1</td>\n",
       "      <td>[0.1321, 0.7655, 0.3211]</td>\n",
       "      <td>[1, 1, 0]</td>\n",
       "      <td>1</td>\n",
       "      <td>1</td>\n",
       "    </tr>\n",
       "    <tr>\n",
       "      <th>2</th>\n",
       "      <td>fsafsa</td>\n",
       "      <td>1.7630</td>\n",
       "      <td>1</td>\n",
       "      <td>[0.32532, 0.101, 0.0643]</td>\n",
       "      <td>[2, 0, 0]</td>\n",
       "      <td>0</td>\n",
       "      <td>1</td>\n",
       "    </tr>\n",
       "    <tr>\n",
       "      <th>3</th>\n",
       "      <td>bsdbfds</td>\n",
       "      <td>0.8754</td>\n",
       "      <td>0</td>\n",
       "      <td>[0.6342, 0.765, 0.345]</td>\n",
       "      <td>[0, 1, 1]</td>\n",
       "      <td>1</td>\n",
       "      <td>0</td>\n",
       "    </tr>\n",
       "    <tr>\n",
       "      <th>4</th>\n",
       "      <td>fsafas</td>\n",
       "      <td>-1.2532</td>\n",
       "      <td>2</td>\n",
       "      <td>[0.6431, 0.865, 0.194]</td>\n",
       "      <td>[2, 2, 1]</td>\n",
       "      <td>1</td>\n",
       "      <td>2</td>\n",
       "    </tr>\n",
       "  </tbody>\n",
       "</table>\n",
       "</div>"
      ],
      "text/plain": [
       "   user_id  num_feature  cat_feature              num_sequence cat_sequence  \\\n",
       "0   bfdbda       0.4120            0     [0.532, 0.321, 0.764]    [0, 2, 1]   \n",
       "1  gdsgdsb      -0.3213            1  [0.1321, 0.7655, 0.3211]    [1, 1, 0]   \n",
       "2   fsafsa       1.7630            1  [0.32532, 0.101, 0.0643]    [2, 0, 0]   \n",
       "3  bsdbfds       0.8754            0    [0.6342, 0.765, 0.345]    [0, 1, 1]   \n",
       "4   fsafas      -1.2532            2    [0.6431, 0.865, 0.194]    [2, 2, 1]   \n",
       "\n",
       "   target cat_feature_cat  \n",
       "0       0               0  \n",
       "1       1               1  \n",
       "2       0               1  \n",
       "3       1               0  \n",
       "4       1               2  "
      ]
     },
     "execution_count": 57,
     "metadata": {},
     "output_type": "execute_result"
    }
   ],
   "source": [
    "df"
   ]
  },
  {
   "cell_type": "code",
   "execution_count": null,
   "metadata": {},
   "outputs": [],
   "source": []
  },
  {
   "cell_type": "code",
   "execution_count": null,
   "metadata": {},
   "outputs": [
    {
     "data": {
      "text/plain": [
       "3"
      ]
     },
     "execution_count": 116,
     "metadata": {},
     "output_type": "execute_result"
    }
   ],
   "source": [
    "pd_types.is_integer_dtype"
   ]
  },
  {
   "cell_type": "code",
   "execution_count": null,
   "metadata": {},
   "outputs": [],
   "source": []
  },
  {
   "cell_type": "code",
   "execution_count": 130,
   "metadata": {},
   "outputs": [
    {
     "data": {
      "text/plain": [
       "array([list([0.532, 0.321, 0.764]), list([0.1321, 0.7655, 0.3211]),\n",
       "       list([0.32532, 0.101, 0.0643]), list([0.6342, 0.765, 0.345]),\n",
       "       list([0.6431, 0.865, 0.194])], dtype=object)"
      ]
     },
     "execution_count": 130,
     "metadata": {},
     "output_type": "execute_result"
    }
   ],
   "source": [
    "df[feature].values"
   ]
  },
  {
   "cell_type": "code",
   "execution_count": 129,
   "metadata": {},
   "outputs": [
    {
     "data": {
      "text/plain": [
       "True"
      ]
     },
     "execution_count": 129,
     "metadata": {},
     "output_type": "execute_result"
    }
   ],
   "source": [
    "pd_types.is_float_dtype(np.concat(df[feature].values))"
   ]
  },
  {
   "cell_type": "code",
   "execution_count": null,
   "metadata": {},
   "outputs": [],
   "source": [
    "np.concat(np.array([]))"
   ]
  },
  {
   "cell_type": "code",
   "execution_count": 133,
   "metadata": {},
   "outputs": [
    {
     "name": "stdout",
     "output_type": "stream",
     "text": [
      "numeric: False\n",
      "object: True\n",
      "category: False\n",
      "numerical_sequence: False\n",
      "categorical_sequence: True\n"
     ]
    }
   ],
   "source": [
    "feature = \"cat_sequence\"\n",
    "\n",
    "print(\"numeric:\", pd_types.is_numeric_dtype(df[feature].dtype))\n",
    "print(\"object:\", pd_types.is_object_dtype(df[feature].dtype))\n",
    "print(\"category:\", isinstance(df[feature].dtype, pd.CategoricalDtype))\n",
    "print(\"numerical_sequence:\", pd_types.is_list_like(df.at[0, feature]) and pd_types.is_float_dtype(np.concat(df[feature].values)))\n",
    "print(\"categorical_sequence:\", pd_types.is_list_like(df.at[0, feature]) and pd_types.is_integer_dtype(np.concat(df[feature].values)))"
   ]
  },
  {
   "cell_type": "code",
   "execution_count": 97,
   "metadata": {},
   "outputs": [
    {
     "data": {
      "text/plain": [
       "np.float64(0.412)"
      ]
     },
     "execution_count": 97,
     "metadata": {},
     "output_type": "execute_result"
    }
   ],
   "source": [
    "df.at[0, \"num_feature\"]"
   ]
  },
  {
   "cell_type": "code",
   "execution_count": null,
   "metadata": {},
   "outputs": [],
   "source": [
    "import sys\n",
    "\n",
    "sys.path.append(\"../models/\")\n",
    "\n",
    "from pandas.api.types import is_numeric_dtype, is_list_like\n",
    "\n",
    "from typing import Sequence\n",
    "\n",
    "from common.features.config import FeaturesConfig\n",
    "\n",
    "\n",
    "def _infer_features_config_from_dataframe(\n",
    "    self,\n",
    "    data: pd.DataFrame,\n",
    "    default_embedding_size: int = 10,\n",
    "    custom_embedding_sizes: dict[str, int] | None = None,\n",
    "    embedded_features: Sequence[str] | None = None,\n",
    ") -> FeaturesConfig:\n",
    "    \"\"\"Create feature config from pandas dataframe.\n",
    "\n",
    "    Args:\n",
    "        data: pandas dataframe to infrence features config\n",
    "        default_embedding_size: default features embedding size\n",
    "        custom_embedding_sizes: custom embeddings mapping {feature: feature: embedding_size}\n",
    "        embedded_features: numerical features to embed\n",
    "\n",
    "    Returns:\n",
    "        Created features config\n",
    "    \"\"\"\n",
    "    custom_embedding_sizes = custom_embedding_sizes or {}\n",
    "\n",
    "    features = []\n",
    "    for col in data.columns:\n",
    "        if is_numeric_dtype(data[col].dtype):\n",
    "            embed_params = {}\n",
    "            if col in embedded_features:\n",
    "                embed_params = {\n",
    "                    \"needs_embed\": True,\n",
    "                    \"embedding_size\": custom_embedding_sizes.get(col, default_embedding_size),\n",
    "                }\n",
    "\n",
    "            feature = Feature(\n",
    "                name=col,\n",
    "                feature_type=FeatureType.NUMERICAL,\n",
    "                **embed_params\n",
    "\n",
    "            )\n",
    "            features.append(feature)\n",
    "            continue\n",
    "\n",
    "        if isinstance(df[col].dtype, pd.CategoricalDtype):\n",
    "            uniq_categories = df[col].nunique()\n",
    "            if df[col].min() != 0 and df[col].max() != uniq_categories - 1:\n",
    "                LOGGER.warning(\n",
    "                    \"Numer of unique `%s` values is %s, not feature is in interval [%s, %s]\",\n",
    "                    col,\n",
    "                    uniq_categories,\n",
    "                    df[col].min(),\n",
    "                    df[col].max(),\n",
    "                )\n",
    "\n",
    "            feature = Feature(\n",
    "                name=col,\n",
    "                feature_type=FeatureType.CATEGORICAL,\n",
    "                needs_embed=True,\n",
    "                embedding_size=custom_embedding_sizes.get(col, default_embedding_size),\n",
    "                embedding_vocab_size=uniq_categories,\n",
    "                \n",
    "            )\n",
    "            features.append(feature)\n",
    "            continue\n",
    "\n",
    "        if not is_list_like(df[col]):\n",
    "            raise RuntimeError(f\"Feature `{col}` is not categorical, not numerical and not list-like, need to encode feature.\")\n",
    "        list_value = df.at[0, col]\n",
    "\n",
    "        features.append(feature)"
   ]
  },
  {
   "cell_type": "code",
   "execution_count": 2,
   "metadata": {},
   "outputs": [
    {
     "data": {
      "text/html": [
       "<div>\n",
       "<style scoped>\n",
       "    .dataframe tbody tr th:only-of-type {\n",
       "        vertical-align: middle;\n",
       "    }\n",
       "\n",
       "    .dataframe tbody tr th {\n",
       "        vertical-align: top;\n",
       "    }\n",
       "\n",
       "    .dataframe thead th {\n",
       "        text-align: right;\n",
       "    }\n",
       "</style>\n",
       "<table border=\"1\" class=\"dataframe\">\n",
       "  <thead>\n",
       "    <tr style=\"text-align: right;\">\n",
       "      <th></th>\n",
       "      <th>user_id</th>\n",
       "      <th>num_feature</th>\n",
       "      <th>cat_feature</th>\n",
       "      <th>num_sequence</th>\n",
       "      <th>cat_sequence</th>\n",
       "      <th>target</th>\n",
       "    </tr>\n",
       "  </thead>\n",
       "  <tbody>\n",
       "    <tr>\n",
       "      <th>0</th>\n",
       "      <td>bfdbda</td>\n",
       "      <td>0.4120</td>\n",
       "      <td>0</td>\n",
       "      <td>[0.532, 0.321, 0.764]</td>\n",
       "      <td>[0, 2, 1]</td>\n",
       "      <td>0</td>\n",
       "    </tr>\n",
       "    <tr>\n",
       "      <th>1</th>\n",
       "      <td>gdsgdsb</td>\n",
       "      <td>-0.3213</td>\n",
       "      <td>1</td>\n",
       "      <td>[0.1321, 0.7655, 0.3211]</td>\n",
       "      <td>[1, 1, 0]</td>\n",
       "      <td>1</td>\n",
       "    </tr>\n",
       "    <tr>\n",
       "      <th>2</th>\n",
       "      <td>fsafsa</td>\n",
       "      <td>1.7630</td>\n",
       "      <td>1</td>\n",
       "      <td>[0.32532, 0.101, 0.0643]</td>\n",
       "      <td>[2, 0, 0]</td>\n",
       "      <td>0</td>\n",
       "    </tr>\n",
       "    <tr>\n",
       "      <th>3</th>\n",
       "      <td>bsdbfds</td>\n",
       "      <td>0.8754</td>\n",
       "      <td>0</td>\n",
       "      <td>[0.6342, 0.765, 0.345]</td>\n",
       "      <td>[0, 1, 1]</td>\n",
       "      <td>1</td>\n",
       "    </tr>\n",
       "    <tr>\n",
       "      <th>4</th>\n",
       "      <td>fsafas</td>\n",
       "      <td>-1.2532</td>\n",
       "      <td>2</td>\n",
       "      <td>[0.6431, 0.865, 0.194]</td>\n",
       "      <td>[2, 2, 1]</td>\n",
       "      <td>1</td>\n",
       "    </tr>\n",
       "  </tbody>\n",
       "</table>\n",
       "</div>"
      ],
      "text/plain": [
       "   user_id  num_feature  cat_feature              num_sequence cat_sequence  \\\n",
       "0   bfdbda       0.4120            0     [0.532, 0.321, 0.764]    [0, 2, 1]   \n",
       "1  gdsgdsb      -0.3213            1  [0.1321, 0.7655, 0.3211]    [1, 1, 0]   \n",
       "2   fsafsa       1.7630            1  [0.32532, 0.101, 0.0643]    [2, 0, 0]   \n",
       "3  bsdbfds       0.8754            0    [0.6342, 0.765, 0.345]    [0, 1, 1]   \n",
       "4   fsafas      -1.2532            2    [0.6431, 0.865, 0.194]    [2, 2, 1]   \n",
       "\n",
       "   target  \n",
       "0       0  \n",
       "1       1  \n",
       "2       0  \n",
       "3       1  \n",
       "4       1  "
      ]
     },
     "execution_count": 2,
     "metadata": {},
     "output_type": "execute_result"
    }
   ],
   "source": [
    "df = pd.DataFrame(\n",
    "    {\n",
    "        \"user_id\": [\"bfdbda\", \"gdsgdsb\", \"fsafsa\", \"bsdbfds\", \"fsafas\"],\n",
    "        \"num_feature\": [0.412, -0.3213, 1.763, 0.8754, -1.2532],\n",
    "        \"cat_feature\": [0, 1, 1, 0, 2],\n",
    "        \"num_sequence\": [[0.532, 0.321, 0.764], [0.1321, 0.7655, 0.3211], [0.32532, 0.101, 0.0643], [0.6342, 0.765, 0.345], [0.6431, 0.865, 0.194]],\n",
    "        \"cat_sequence\": [[0, 2, 1], [1, 1, 0], [2, 0, 0], [0, 1, 1], [2, 2, 1]],\n",
    "        \"target\": [0, 1, 0, 1, 1]\n",
    "    }\n",
    ")\n",
    "df"
   ]
  },
  {
   "cell_type": "code",
   "execution_count": 3,
   "metadata": {},
   "outputs": [],
   "source": [
    "ds = PandasDataset(df, return_dicts=True)"
   ]
  },
  {
   "cell_type": "code",
   "execution_count": 4,
   "metadata": {},
   "outputs": [
    {
     "data": {
      "text/plain": [
       "{'user_id': ['bfdbda', 'gdsgdsb', 'fsafsa', 'bsdbfds', 'fsafas'],\n",
       " 'num_feature': tensor([ 0.4120, -0.3213,  1.7630,  0.8754, -1.2532], dtype=torch.float64),\n",
       " 'cat_feature': tensor([0, 1, 1, 0, 2]),\n",
       " 'num_sequence': tensor([[0.5320, 0.3210, 0.7640],\n",
       "         [0.1321, 0.7655, 0.3211],\n",
       "         [0.3253, 0.1010, 0.0643],\n",
       "         [0.6342, 0.7650, 0.3450],\n",
       "         [0.6431, 0.8650, 0.1940]], dtype=torch.float64),\n",
       " 'cat_sequence': tensor([[0, 2, 1],\n",
       "         [1, 1, 0],\n",
       "         [2, 0, 0],\n",
       "         [0, 1, 1],\n",
       "         [2, 2, 1]]),\n",
       " 'target': tensor([0, 1, 0, 1, 1])}"
      ]
     },
     "execution_count": 4,
     "metadata": {},
     "output_type": "execute_result"
    }
   ],
   "source": [
    "from torch.utils.data import DataLoader\n",
    "\n",
    "loader = DataLoader(ds, batch_size=5)\n",
    "\n",
    "for batch in loader:\n",
    "    break\n",
    "batch"
   ]
  },
  {
   "cell_type": "code",
   "execution_count": 5,
   "metadata": {},
   "outputs": [],
   "source": [
    "import sys\n",
    "\n",
    "sys.path.append(\"../models/\")\n",
    "\n",
    "\n",
    "from common.features.config import Feature, FeaturesConfig, FeatureType\n",
    "from common.modules import EmbeddingLayer"
   ]
  },
  {
   "cell_type": "code",
   "execution_count": 17,
   "metadata": {},
   "outputs": [
    {
     "data": {
      "text/plain": [
       "user_id          object\n",
       "num_feature     float64\n",
       "cat_feature       int64\n",
       "num_sequence     object\n",
       "cat_sequence     object\n",
       "target            int64\n",
       "dtype: object"
      ]
     },
     "execution_count": 17,
     "metadata": {},
     "output_type": "execute_result"
    }
   ],
   "source": [
    "df.dtypes"
   ]
  },
  {
   "cell_type": "code",
   "execution_count": 14,
   "metadata": {},
   "outputs": [],
   "source": [
    "config = FeaturesConfig(\n",
    "    features=[\n",
    "        Feature(\n",
    "            name=\"num_feature\",\n",
    "            feature_type=FeatureType.NUMERICAL,\n",
    "            needs_embed=False,\n",
    "            embedding_size=10,\n",
    "        ),\n",
    "        Feature(\n",
    "            name=\"cat_feature\",\n",
    "            feature_type=FeatureType.CATEGORICAL,\n",
    "            needs_embed=True,\n",
    "            embedding_vocab_size=3,\n",
    "            embedding_size=8,\n",
    "        ),\n",
    "        Feature(\n",
    "            name=\"num_sequence\",\n",
    "            feature_type=FeatureType.NUMERICAL_SEQUENCE,\n",
    "            needs_embed=True,\n",
    "            feature_size=3,\n",
    "            embedding_size=5,\n",
    "        ),\n",
    "        Feature(\n",
    "            name=\"cat_sequence\",\n",
    "            feature_type=FeatureType.CATEGORICAL_SEQUENCE,\n",
    "            needs_embed=True,\n",
    "            feature_size=3,\n",
    "            embedding_vocab_size=3,\n",
    "            embedding_size=7,\n",
    "        ),\n",
    "    ]\n",
    ")\n",
    "\n",
    "module = EmbeddingLayer(features_config=config)"
   ]
  },
  {
   "cell_type": "code",
   "execution_count": 15,
   "metadata": {},
   "outputs": [
    {
     "name": "stdout",
     "output_type": "stream",
     "text": [
      "====================\n",
      "applying for num_feature\n",
      "feature shape: torch.Size([5, 1])\n",
      "module: Identity()\n",
      "output shape: torch.Size([5, 1])\n",
      "====================\n",
      "applying for cat_feature\n",
      "feature shape: torch.Size([5])\n",
      "module: Embedding(3, 8)\n",
      "output shape: torch.Size([5, 8])\n",
      "====================\n",
      "applying for num_sequence\n",
      "feature shape: torch.Size([5, 3])\n",
      "module: Linear(in_features=3, out_features=5, bias=False)\n",
      "output shape: torch.Size([5, 5])\n",
      "====================\n",
      "applying for cat_sequence\n",
      "feature shape: torch.Size([5, 3])\n",
      "module: EmbeddingBag(3, 7, mode='mean')\n",
      "output shape: torch.Size([5, 7])\n"
     ]
    },
    {
     "data": {
      "text/plain": [
       "torch.Size([5, 21])"
      ]
     },
     "execution_count": 15,
     "metadata": {},
     "output_type": "execute_result"
    }
   ],
   "source": [
    "batch_output = module(batch)\n",
    "batch_output.shape"
   ]
  },
  {
   "cell_type": "code",
   "execution_count": 21,
   "metadata": {},
   "outputs": [
    {
     "data": {
      "text/plain": [
       "{'user_id': ['bfdbda', 'gdsgdsb', 'fsafsa'],\n",
       " 'num_feature': tensor([ 0.4120, -0.3213,  1.7630], dtype=torch.float64),\n",
       " 'cat_feature': tensor([0, 1, 1]),\n",
       " 'num_sequence': tensor([[0.5320, 0.3210, 0.7640],\n",
       "         [0.1321, 0.7655, 0.3211],\n",
       "         [0.3253, 0.1010, 0.0643]], dtype=torch.float64),\n",
       " 'cat_sequence': tensor([[0, 2, 1],\n",
       "         [1, 1, 0],\n",
       "         [2, 0, 0]]),\n",
       " 'target': tensor([0, 1, 0])}"
      ]
     },
     "execution_count": 21,
     "metadata": {},
     "output_type": "execute_result"
    }
   ],
   "source": [
    "batch"
   ]
  },
  {
   "cell_type": "code",
   "execution_count": null,
   "metadata": {},
   "outputs": [
    {
     "data": {
      "text/html": [
       "<div>\n",
       "<style scoped>\n",
       "    .dataframe tbody tr th:only-of-type {\n",
       "        vertical-align: middle;\n",
       "    }\n",
       "\n",
       "    .dataframe tbody tr th {\n",
       "        vertical-align: top;\n",
       "    }\n",
       "\n",
       "    .dataframe thead th {\n",
       "        text-align: right;\n",
       "    }\n",
       "</style>\n",
       "<table border=\"1\" class=\"dataframe\">\n",
       "  <thead>\n",
       "    <tr style=\"text-align: right;\">\n",
       "      <th></th>\n",
       "      <th>user_id</th>\n",
       "      <th>feature</th>\n",
       "      <th>target</th>\n",
       "    </tr>\n",
       "  </thead>\n",
       "  <tbody>\n",
       "    <tr>\n",
       "      <th>0</th>\n",
       "      <td>1</td>\n",
       "      <td>-0.5</td>\n",
       "      <td>0</td>\n",
       "    </tr>\n",
       "    <tr>\n",
       "      <th>1</th>\n",
       "      <td>2</td>\n",
       "      <td>-0.3</td>\n",
       "      <td>0</td>\n",
       "    </tr>\n",
       "    <tr>\n",
       "      <th>2</th>\n",
       "      <td>3</td>\n",
       "      <td>0.5</td>\n",
       "      <td>1</td>\n",
       "    </tr>\n",
       "  </tbody>\n",
       "</table>\n",
       "</div>"
      ],
      "text/plain": [
       "   user_id  feature  target\n",
       "0        1     -0.5       0\n",
       "1        2     -0.3       0\n",
       "2        3      0.5       1"
      ]
     },
     "execution_count": 3,
     "metadata": {},
     "output_type": "execute_result"
    }
   ],
   "source": [
    "import pandas as pd\n",
    "\n",
    "df = pd.DataFrame({\"user_id\": [1, 2, 3], \"feature\": [-0.5, -0.3, 0.5], \"target\": [0, 0, 1]})\n",
    "df"
   ]
  },
  {
   "cell_type": "code",
   "execution_count": 1,
   "metadata": {},
   "outputs": [
    {
     "name": "stderr",
     "output_type": "stream",
     "text": [
      "/opt/anaconda3/envs/ranking/lib/python3.10/site-packages/torch/_subclasses/functional_tensor.py:295: UserWarning: Failed to initialize NumPy: No module named 'numpy' (Triggered internally at /Users/runner/work/pytorch/pytorch/pytorch/torch/csrc/utils/tensor_numpy.cpp:84.)\n",
      "  cpu = _conversion_method_template(device=torch.device(\"cpu\"))\n"
     ]
    }
   ],
   "source": [
    "import sys\n",
    "\n",
    "sys.path.append(\"../\")\n",
    "sys.path.append(\"../models\")\n",
    "\n",
    "from models.common.modules.crossnet import CrossNetV2, CrossNetMix"
   ]
  },
  {
   "cell_type": "code",
   "execution_count": 2,
   "metadata": {},
   "outputs": [],
   "source": [
    "import torch\n",
    "\n",
    "\n",
    "BATCH_SIZE = 64\n",
    "IN_FEATURES = 32\n",
    "LOW_RANK_DIM = 16\n",
    "NUM_LAYERS = 4\n",
    "NUM_EXPERTS = 4\n",
    "\n",
    "input_ = torch.randn(BATCH_SIZE, IN_FEATURES)\n",
    "cnv2 = CrossNetV2(in_features=IN_FEATURES, num_layers=NUM_LAYERS)\n",
    "cnmix = CrossNetMix(in_features=IN_FEATURES, num_layers=NUM_LAYERS, low_rank_dim=LOW_RANK_DIM, num_experts=NUM_EXPERTS)"
   ]
  },
  {
   "cell_type": "code",
   "execution_count": 3,
   "metadata": {},
   "outputs": [
    {
     "data": {
      "text/plain": [
       "(torch.Size([64, 32]), torch.Size([64, 32]))"
      ]
     },
     "execution_count": 3,
     "metadata": {},
     "output_type": "execute_result"
    }
   ],
   "source": [
    "cnv2(input_).shape, cnmix(input_).shape"
   ]
  },
  {
   "cell_type": "code",
   "execution_count": 23,
   "metadata": {},
   "outputs": [],
   "source": [
    "from torch import nn\n",
    "\n",
    "from models.common.modules.mlp import MLPBlock\n",
    "\n",
    "\n",
    "OUT_FEATURES = 512\n",
    "HIDDENS = [64, 128, 256]\n",
    "# HIDDENS = None\n",
    "\n",
    "mlp = MLPBlock(in_features=IN_FEATURES, out_features=OUT_FEATURES, hidden_dims=HIDDENS, activation_fn=nn.Tanh, use_batch_norm=False, dropout=0.5)"
   ]
  },
  {
   "cell_type": "code",
   "execution_count": 24,
   "metadata": {},
   "outputs": [
    {
     "data": {
      "text/plain": [
       "Sequential(\n",
       "  (0): Linear(in_features=32, out_features=64, bias=True)\n",
       "  (1): Tanh()\n",
       "  (2): Dropout(p=0.5, inplace=False)\n",
       "  (3): Linear(in_features=64, out_features=128, bias=True)\n",
       "  (4): Tanh()\n",
       "  (5): Dropout(p=0.5, inplace=False)\n",
       "  (6): Linear(in_features=128, out_features=256, bias=True)\n",
       "  (7): Tanh()\n",
       "  (8): Dropout(p=0.5, inplace=False)\n",
       "  (9): Linear(in_features=256, out_features=512, bias=True)\n",
       ")"
      ]
     },
     "execution_count": 24,
     "metadata": {},
     "output_type": "execute_result"
    }
   ],
   "source": [
    "mlp.mlp"
   ]
  },
  {
   "cell_type": "code",
   "execution_count": 26,
   "metadata": {},
   "outputs": [
    {
     "data": {
      "text/plain": [
       "tensor([[ 0,  1,  2,  3,  4,  5,  6],\n",
       "        [ 7,  8,  9, 10, 11, 12, 13],\n",
       "        [14, 15, 16, 17, 18, 19, 20]])"
      ]
     },
     "execution_count": 26,
     "metadata": {},
     "output_type": "execute_result"
    }
   ],
   "source": [
    "a = torch.arange(21).reshape(3, 7)\n",
    "a"
   ]
  },
  {
   "cell_type": "code",
   "execution_count": 32,
   "metadata": {},
   "outputs": [
    {
     "data": {
      "text/plain": [
       "tensor([[ 5,  6],\n",
       "        [12, 13],\n",
       "        [19, 20]])"
      ]
     },
     "execution_count": 32,
     "metadata": {},
     "output_type": "execute_result"
    }
   ],
   "source": [
    "start_idx = 5\n",
    "size = 3\n",
    "a[:, start_idx:start_idx + size]"
   ]
  },
  {
   "cell_type": "code",
   "execution_count": 35,
   "metadata": {},
   "outputs": [
    {
     "data": {
      "text/plain": [
       "7"
      ]
     },
     "execution_count": 35,
     "metadata": {},
     "output_type": "execute_result"
    }
   ],
   "source": [
    "a.size(-1)"
   ]
  },
  {
   "cell_type": "code",
   "execution_count": 6,
   "metadata": {},
   "outputs": [],
   "source": [
    "from dcnv2.model.model import DCNv2, DCNv2Config, ModelStructure\n",
    "from common.features.config import Feature, FeaturesConfig\n",
    "from common.features.types import FeatureType"
   ]
  },
  {
   "cell_type": "code",
   "execution_count": 7,
   "metadata": {},
   "outputs": [],
   "source": [
    "features = [\n",
    "    Feature(\n",
    "        name=\"product_id\",\n",
    "        feature_type=FeatureType.CATEGORICAL,\n",
    "        needs_embed=True,\n",
    "        embedding_size=50,\n",
    "        embedding_vocab_size=20000,\n",
    "    ),\n",
    "    Feature(\n",
    "        name=\"ui4\",\n",
    "        feature_type=FeatureType.CATEGORICAL,\n",
    "    ),\n",
    "    Feature(\n",
    "        name=\"price\",\n",
    "        feature_type=FeatureType.NUMERICAL,\n",
    "    ),\n",
    "    Feature(\n",
    "        name=\"sell_idx\",\n",
    "        feature_type=FeatureType.NUMERICAL,\n",
    "        needs_embed=True,\n",
    "        embedding_size=20,\n",
    "    ),\n",
    "    Feature(\n",
    "        name=\"last_sells\",\n",
    "        feature_type=FeatureType.SEQUENTIAL,\n",
    "        feature_size=10,\n",
    "        needs_embed=True,\n",
    "        embedding_size=30,\n",
    "    ),\n",
    "    Feature(\n",
    "        name=\"last_sells_embed_v2\",\n",
    "        feature_type=FeatureType.SEQUENTIAL,\n",
    "        feature_size=30,\n",
    "    ),\n",
    "]\n",
    "features_config = FeaturesConfig(features=features)\n",
    "model_config = DCNv2Config(model_structure=ModelStructure.CROSSNET_ONLY)"
   ]
  },
  {
   "cell_type": "code",
   "execution_count": 8,
   "metadata": {},
   "outputs": [
    {
     "ename": "TypeError",
     "evalue": "'Field' object cannot be interpreted as an integer",
     "output_type": "error",
     "traceback": [
      "\u001b[0;31m---------------------------------------------------------------------------\u001b[0m",
      "\u001b[0;31mTypeError\u001b[0m                                 Traceback (most recent call last)",
      "Cell \u001b[0;32mIn[8], line 1\u001b[0m\n\u001b[0;32m----> 1\u001b[0m model \u001b[38;5;241m=\u001b[39m \u001b[43mDCNv2\u001b[49m\u001b[43m(\u001b[49m\u001b[43mmodel_config\u001b[49m\u001b[43m,\u001b[49m\u001b[43m \u001b[49m\u001b[43mfeatures_config\u001b[49m\u001b[43m,\u001b[49m\u001b[43m \u001b[49m\u001b[43mis_dict_input\u001b[49m\u001b[38;5;241;43m=\u001b[39;49m\u001b[38;5;28;43;01mFalse\u001b[39;49;00m\u001b[43m)\u001b[49m\n",
      "File \u001b[0;32m~/Tinkoff/ranking/notebooks/../models/dcnv2/model/model.py:33\u001b[0m, in \u001b[0;36mDCNv2.__init__\u001b[0;34m(self, model_config, features_config, is_dict_input)\u001b[0m\n\u001b[1;32m     30\u001b[0m input_dim \u001b[38;5;241m=\u001b[39m features_config\u001b[38;5;241m.\u001b[39mnum_features\n\u001b[1;32m     32\u001b[0m \u001b[38;5;28;01mif\u001b[39;00m model_config\u001b[38;5;241m.\u001b[39muse_low_rank_mixture:\n\u001b[0;32m---> 33\u001b[0m     \u001b[38;5;28mself\u001b[39m\u001b[38;5;241m.\u001b[39mcrossnet \u001b[38;5;241m=\u001b[39m \u001b[43mCrossNetMix\u001b[49m\u001b[43m(\u001b[49m\n\u001b[1;32m     34\u001b[0m \u001b[43m        \u001b[49m\u001b[43minput_dim\u001b[49m\u001b[43m,\u001b[49m\n\u001b[1;32m     35\u001b[0m \u001b[43m        \u001b[49m\u001b[43mlow_rank_dim\u001b[49m\u001b[38;5;241;43m=\u001b[39;49m\u001b[43mmodel_config\u001b[49m\u001b[38;5;241;43m.\u001b[39;49m\u001b[43mcross_low_rank_dim\u001b[49m\u001b[43m,\u001b[49m\n\u001b[1;32m     36\u001b[0m \u001b[43m        \u001b[49m\u001b[43mnum_layers\u001b[49m\u001b[38;5;241;43m=\u001b[39;49m\u001b[43mmodel_config\u001b[49m\u001b[38;5;241;43m.\u001b[39;49m\u001b[43mnum_cross_layers\u001b[49m\u001b[43m,\u001b[49m\n\u001b[1;32m     37\u001b[0m \u001b[43m        \u001b[49m\u001b[43mnum_experts\u001b[49m\u001b[38;5;241;43m=\u001b[39;49m\u001b[43mmodel_config\u001b[49m\u001b[38;5;241;43m.\u001b[39;49m\u001b[43mnum_cross_experts\u001b[49m\u001b[43m,\u001b[49m\n\u001b[1;32m     38\u001b[0m \u001b[43m    \u001b[49m\u001b[43m)\u001b[49m\n\u001b[1;32m     39\u001b[0m \u001b[38;5;28;01melse\u001b[39;00m:\n\u001b[1;32m     40\u001b[0m     \u001b[38;5;28mself\u001b[39m\u001b[38;5;241m.\u001b[39mcrossnet \u001b[38;5;241m=\u001b[39m CrossNetV2(input_dim, num_layers\u001b[38;5;241m=\u001b[39mmodel_config\u001b[38;5;241m.\u001b[39mnum_cross_layers)\n",
      "File \u001b[0;32m~/Tinkoff/ranking/notebooks/../models/common/modules/crossnet.py:59\u001b[0m, in \u001b[0;36mCrossNetMix.__init__\u001b[0;34m(self, in_features, num_layers, low_rank_dim, num_experts)\u001b[0m\n\u001b[1;32m     54\u001b[0m \u001b[38;5;28mself\u001b[39m\u001b[38;5;241m.\u001b[39mnum_experts \u001b[38;5;241m=\u001b[39m num_experts\n\u001b[1;32m     56\u001b[0m \u001b[38;5;66;03m# U: (in_features, low_rank)\u001b[39;00m\n\u001b[1;32m     57\u001b[0m \u001b[38;5;28mself\u001b[39m\u001b[38;5;241m.\u001b[39mU_layers \u001b[38;5;241m=\u001b[39m nn\u001b[38;5;241m.\u001b[39mParameterList(\n\u001b[1;32m     58\u001b[0m     nn\u001b[38;5;241m.\u001b[39mParameter(nn\u001b[38;5;241m.\u001b[39minit\u001b[38;5;241m.\u001b[39mxavier_normal_(torch\u001b[38;5;241m.\u001b[39mempty(num_experts, in_features, low_rank_dim)))\n\u001b[0;32m---> 59\u001b[0m     \u001b[38;5;28;01mfor\u001b[39;00m _ \u001b[38;5;129;01min\u001b[39;00m \u001b[38;5;28;43mrange\u001b[39;49m\u001b[43m(\u001b[49m\u001b[38;5;28;43mself\u001b[39;49m\u001b[38;5;241;43m.\u001b[39;49m\u001b[43mnum_layers\u001b[49m\u001b[43m)\u001b[49m\n\u001b[1;32m     60\u001b[0m )\n\u001b[1;32m     61\u001b[0m \u001b[38;5;66;03m# V: (in_features, low_rank)\u001b[39;00m\n\u001b[1;32m     62\u001b[0m \u001b[38;5;28mself\u001b[39m\u001b[38;5;241m.\u001b[39mV_layers \u001b[38;5;241m=\u001b[39m nn\u001b[38;5;241m.\u001b[39mParameterList(\n\u001b[1;32m     63\u001b[0m     nn\u001b[38;5;241m.\u001b[39mParameter(nn\u001b[38;5;241m.\u001b[39minit\u001b[38;5;241m.\u001b[39mxavier_normal_(torch\u001b[38;5;241m.\u001b[39mempty(num_experts, in_features, low_rank_dim)))\n\u001b[1;32m     64\u001b[0m     \u001b[38;5;28;01mfor\u001b[39;00m _ \u001b[38;5;129;01min\u001b[39;00m \u001b[38;5;28mrange\u001b[39m(\u001b[38;5;28mself\u001b[39m\u001b[38;5;241m.\u001b[39mnum_layers)\n\u001b[1;32m     65\u001b[0m )\n",
      "\u001b[0;31mTypeError\u001b[0m: 'Field' object cannot be interpreted as an integer"
     ]
    }
   ],
   "source": [
    "model = DCNv2(model_config, features_config, is_dict_input=False)"
   ]
  },
  {
   "cell_type": "code",
   "execution_count": null,
   "metadata": {},
   "outputs": [],
   "source": []
  }
 ],
 "metadata": {
  "kernelspec": {
   "display_name": "ranking",
   "language": "python",
   "name": "python3"
  },
  "language_info": {
   "codemirror_mode": {
    "name": "ipython",
    "version": 3
   },
   "file_extension": ".py",
   "mimetype": "text/x-python",
   "name": "python",
   "nbconvert_exporter": "python",
   "pygments_lexer": "ipython3",
   "version": "3.10.16"
  }
 },
 "nbformat": 4,
 "nbformat_minor": 2
}
